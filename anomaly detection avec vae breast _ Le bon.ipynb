{
 "cells": [
  {
   "cell_type": "code",
   "execution_count": 1,
   "id": "5cb618f2",
   "metadata": {},
   "outputs": [],
   "source": [
    "from datetime import datetime\n",
    "import matplotlib.pyplot as plt\n",
    "import numpy as np\n",
    "import pandas as pd\n",
    "import random as rd\n",
    "\n",
    "\n",
    "import tensorflow as tf\n",
    "tf.compat.v1.disable_eager_execution()\n",
    "from tensorflow.keras.models import Model, load_model\n",
    "from tensorflow.keras.layers import Lambda, Input, Dense\n",
    "from tensorflow.keras.losses import mse, binary_crossentropy, kl_divergence\n",
    "from tensorflow.keras import optimizers\n",
    "from keras.utils.vis_utils import plot_model\n",
    "from tensorflow.keras import backend as K\n",
    "\n",
    "from sklearn.model_selection import train_test_split\n",
    "from sklearn.preprocessing import MinMaxScaler, StandardScaler, PowerTransformer\n",
    "\n",
    "import seaborn as sns\n",
    "import matplotlib.pyplot as plt\n",
    "\n",
    "%matplotlib inline"
   ]
  },
  {
   "cell_type": "code",
   "execution_count": 2,
   "id": "0d53a566",
   "metadata": {},
   "outputs": [],
   "source": [
    "#Function to read data from file\n",
    "def get_data(din):\n",
    "    bf = pd.read_csv(din,sep='\\t')\n",
    "    genes = bf['Hugo_Symbol']\n",
    "    cols = list(bf.columns)\n",
    "    cols.remove('Entrez_Gene_Id')\n",
    "    cols.remove('Hugo_Symbol')\n",
    "    bf = bf[cols]\n",
    "    bf = bf.transpose()\n",
    "    bf.columns = genes\n",
    "    return bf\n",
    "\n",
    "def getDataset(din1, din2, din3):\n",
    "    normal1 = get_data(din1)\n",
    "    normal2 = get_data(din2)\n",
    "    abnormal = get_data(din3)\n",
    "    common_gene = set(list(normal1.columns)).intersection(set(list(normal2.columns))).intersection(set(list(abnormal.columns)))\n",
    "    common_gene = list(common_gene)\n",
    "    normal1 = normal1[common_gene]\n",
    "    normal2 = normal2[common_gene]\n",
    "    abnormal = abnormal[common_gene]\n",
    "    #abnormal = list(abnormal)\n",
    "    \n",
    "    X_train = pd.concat( [normal1, normal2] ).values\n",
    "    \n",
    "    abnormal = abnormal.values.tolist()\n",
    "    normal1 = normal1.values.tolist()\n",
    "    \n",
    "    abnormal = list(np.float_(abnormal))\n",
    "    normal1 = list(np.float_(normal1))\n",
    "    \n",
    "    abnormal = rd.SystemRandom().sample(abnormal, 25)\n",
    "    normal1 = rd.SystemRandom().sample(normal1, 60)\n",
    "    \n",
    "    abnormal = pd.DataFrame(abnormal)\n",
    "    normal1 = pd.DataFrame(normal1)\n",
    "    \n",
    "    #X_train = np.random.shuffle(X_train) \n",
    "    X_test = pd.concat( [normal1, abnormal] ).values\n",
    "    y_test = np.zeros(len(X_test), dtype=int)\n",
    "    y_test[len(normal1):] = 1\n",
    "    \n",
    "\n",
    "    \n",
    "    X_train = np.asarray(X_train)\n",
    "    X_test = np.asarray(X_test)\n",
    "    y_test = np.asarray(y_test)\n",
    "                \n",
    "\n",
    "    return X_train, X_test, y_test"
   ]
  },
  {
   "cell_type": "code",
   "execution_count": 3,
   "id": "ed1de1e1",
   "metadata": {},
   "outputs": [],
   "source": [
    "# Code to visualize the results\n",
    "\n",
    "class Visualization:\n",
    "    labels = [\"Normal\",\"Anomal\"]\n",
    "    \n",
    "    def draw_confusion_matrix(self, y, y_pred):\n",
    "        matrix = confusion_matrix(y, y_pred)\n",
    "        \n",
    "        plt.figure(figsize=(10,8))\n",
    "        colors = [\"orange\",\"green\"]\n",
    "        sns.heatmap(matrix, xticklabels=self.labels, yticklabels=self.labels, cmap=colors, annot=True, fmt=\"d\")\n",
    "        plt.title(\"Confusion Matrix\")\n",
    "        plt.ylabel(\"Actual\")\n",
    "        plt.xlabel(\"Predicted\")\n",
    "        plt.show()\n",
    "        \n",
    "    def draw_anomaly(self, y, error, treshold):\n",
    "        groupsDF = pd.DataFrame({'error':error,'true':y}).groupby('true')\n",
    "        \n",
    "        figure,axes = plt.subplots(figsize=(12,8))\n",
    "        \n",
    "        for name, group in groupsDF:\n",
    "            axes.plot(group.index, group.error, marker='x' if name == 1 else 'o', linestyle='',\n",
    "                     color='r' if name ==1 else 'g', label=\"Anomaly\" if name == 1 else \"Normal\")\n",
    "            \n",
    "        axes.hlines(treshold, axes.get_xlim()[0], axes.get_xlim()[1], colors='b', zorder = 100, label = 'Treshold')\n",
    "        axes.legend()\n",
    "            \n",
    "        plt.title(\"Anomalies\")\n",
    "        plt.ylabel(\"Error\")\n",
    "        plt.xlabel(\"Data\")\n",
    "        plt.show()\n",
    "        \n",
    "    def draw_error(self, error, treshold):\n",
    "        plt.plot(error, marker='o', ms=3.5, linestyle='', label='Point')\n",
    "        \n",
    "        plt.hlines(treshold, xmin=0, xmax=len(error)-1, colors=\"b\", zorder=100, label='Treshold')\n",
    "        plt.legend()\n",
    "        plt.title(\"Reconstruction error\")\n",
    "        plt.ylabel(\"Error\")\n",
    "        plt.xlabel(\"Data\")\n",
    "        plt.show()\n",
    "    "
   ]
  },
  {
   "cell_type": "code",
   "execution_count": 4,
   "id": "8d213bbf",
   "metadata": {},
   "outputs": [],
   "source": [
    "din1 = 'data/breast-rsem-fpkm-gtex.txt'\n",
    "din2 = 'data/brca-rsem-fpkm-tcga.txt'\n",
    "din3 = 'data/brca-rsem-fpkm-tcga-t.txt'\n",
    "\n",
    "X_train, X_test, y_test = getDataset(din1, din2, din3)\n"
   ]
  },
  {
   "cell_type": "code",
   "execution_count": 6,
   "id": "df76e467",
   "metadata": {},
   "outputs": [],
   "source": [
    "from numpy import savetxt\n",
    "\n",
    "savetxt('dataset/x_train_brc.csv', X_train, delimiter='\\t')\n",
    "savetxt('dataset/x_test_brc.csv', X_test, delimiter='\\t')\n",
    "savetxt('dataset/y_test_brc.csv', y_test, delimiter='\\t')\n",
    "\n"
   ]
  },
  {
   "cell_type": "code",
   "execution_count": 7,
   "id": "4085b6db",
   "metadata": {},
   "outputs": [],
   "source": [
    "scaler = MinMaxScaler()\n",
    "X_train = scaler.fit_transform(X_train)\n",
    "X_test = scaler.fit_transform(X_test)\n"
   ]
  },
  {
   "cell_type": "code",
   "execution_count": null,
   "id": "28c4cde7",
   "metadata": {},
   "outputs": [],
   "source": []
  },
  {
   "cell_type": "code",
   "execution_count": 8,
   "id": "ffd56498",
   "metadata": {},
   "outputs": [
    {
     "name": "stdout",
     "output_type": "stream",
     "text": [
      "[[0.11475427 0.17182512 0.49796985 ... 0.33107336 0.38184438 0.00386266]\n",
      " [0.1618725  0.52205488 0.38676089 ... 0.10325209 0.27628818 0.00311159]\n",
      " [0.43228665 0.09971679 0.15084448 ... 0.20664822 0.19311816 0.01979614]\n",
      " ...\n",
      " [0.51976935 0.01168483 0.03341852 ... 0.08357082 0.26379251 0.01813305]\n",
      " [0.3273538  0.12985727 0.10130963 ... 0.16041317 0.30906052 0.01893777]\n",
      " [0.08306569 0.27340623 0.31071799 ... 0.36053869 0.28911816 0.03551502]]\n"
     ]
    }
   ],
   "source": [
    "print(X_test)"
   ]
  },
  {
   "cell_type": "code",
   "execution_count": 9,
   "id": "e3db7c50",
   "metadata": {},
   "outputs": [
    {
     "data": {
      "text/plain": [
       "(199, 19738)"
      ]
     },
     "execution_count": 9,
     "metadata": {},
     "output_type": "execute_result"
    }
   ],
   "source": [
    "X_train.shape"
   ]
  },
  {
   "cell_type": "code",
   "execution_count": 10,
   "id": "3ed3d95e",
   "metadata": {},
   "outputs": [
    {
     "data": {
      "text/plain": [
       "(85, 19738)"
      ]
     },
     "execution_count": 10,
     "metadata": {},
     "output_type": "execute_result"
    }
   ],
   "source": [
    "X_test.shape"
   ]
  },
  {
   "cell_type": "code",
   "execution_count": 11,
   "id": "d385d0c6",
   "metadata": {},
   "outputs": [
    {
     "name": "stdout",
     "output_type": "stream",
     "text": [
      "[0 0 0 0 0 0 0 0 0 0 0 0 0 0 0 0 0 0 0 0 0 0 0 0 0 0 0 0 0 0 0 0 0 0 0 0 0\n",
      " 0 0 0 0 0 0 0 0 0 0 0 0 0 0 0 0 0 0 0 0 0 0 0 1 1 1 1 1 1 1 1 1 1 1 1 1 1\n",
      " 1 1 1 1 1 1 1 1 1 1 1]\n"
     ]
    }
   ],
   "source": [
    "print(y_test)"
   ]
  },
  {
   "cell_type": "code",
   "execution_count": 12,
   "id": "ac3abc31",
   "metadata": {},
   "outputs": [],
   "source": [
    "def get_error_term(v1, v2, _rmse=True):\n",
    "    if _rmse:\n",
    "        return np.sqrt(np.mean((v1 - v2) ** 2, axis=1))\n",
    "    #return MAE\n",
    "    return np.mean(abs(v1 - v2), axis=1)"
   ]
  },
  {
   "cell_type": "code",
   "execution_count": 13,
   "id": "9ac29f5d",
   "metadata": {},
   "outputs": [],
   "source": [
    "# The reparameterization trick\n",
    "\n",
    "def sample(args):\n",
    "    z_mean, z_log_var = args\n",
    "    batch = K.shape(z_mean)[0]\n",
    "    dim = K.int_shape(z_mean)[1]\n",
    "    epsilon = K.random_normal(shape=(batch, dim))\n",
    "    return z_mean + K.exp(0.5 * z_log_var) * epsilon"
   ]
  },
  {
   "cell_type": "code",
   "execution_count": 14,
   "id": "ddb8680a",
   "metadata": {},
   "outputs": [],
   "source": [
    "original_dim = X_train.shape[1]\n",
    "input_shape = (original_dim,)\n",
    "intermediate_dim = int(original_dim / 2)\n",
    "latent_dim = int(original_dim / 3)"
   ]
  },
  {
   "cell_type": "raw",
   "id": "240b7c0d",
   "metadata": {},
   "source": [
    "# encoder model\n",
    "inputs = Input(shape=input_shape, name='encoder_input')\n",
    "x = Dense(intermediate_dim, activation='relu')(inputs)\n",
    "z_mean = Dense(latent_dim, name='z_mean')(x)\n",
    "z_log_var = Dense(latent_dim, name='z_log_var')(x)\n",
    "# use the reparameterization trick and get the output from the sample() function\n",
    "z = Lambda(sample, output_shape=(latent_dim,), name='z')([z_mean, z_log_var])\n",
    "encoder = Model(inputs, z, name='encoder')\n",
    "encoder.summary()"
   ]
  },
  {
   "cell_type": "code",
   "execution_count": 15,
   "id": "367e3742",
   "metadata": {},
   "outputs": [
    {
     "name": "stdout",
     "output_type": "stream",
     "text": [
      "Model: \"encoder\"\n",
      "__________________________________________________________________________________________________\n",
      " Layer (type)                   Output Shape         Param #     Connected to                     \n",
      "==================================================================================================\n",
      " encoder_input (InputLayer)     [(None, 19738)]      0           []                               \n",
      "                                                                                                  \n",
      " dense (Dense)                  (None, 9869)         194804191   ['encoder_input[0][0]']          \n",
      "                                                                                                  \n",
      " z_mean (Dense)                 (None, 6579)         64934730    ['dense[0][0]']                  \n",
      "                                                                                                  \n",
      " z_log_var (Dense)              (None, 6579)         64934730    ['dense[0][0]']                  \n",
      "                                                                                                  \n",
      " z (Lambda)                     (None, 6579)         0           ['z_mean[0][0]',                 \n",
      "                                                                  'z_log_var[0][0]']              \n",
      "                                                                                                  \n",
      "==================================================================================================\n",
      "Total params: 324,673,651\n",
      "Trainable params: 324,673,651\n",
      "Non-trainable params: 0\n",
      "__________________________________________________________________________________________________\n"
     ]
    }
   ],
   "source": [
    "# encoder model\n",
    "inputs = Input(shape=input_shape, name='encoder_input')\n",
    "x = Dense(intermediate_dim, activation='relu')(inputs)\n",
    "z_mean = Dense(latent_dim, name='z_mean')(x)\n",
    "z_log_var = Dense(latent_dim, name='z_log_var')(x)\n",
    "\n",
    "# sampling \n",
    "z = Lambda(sample, output_shape=(latent_dim,), name='z')([z_mean, z_log_var]) \n",
    "\n",
    "# instantiate encoder model\n",
    "encoder = Model(inputs, z, name='encoder')\n",
    "encoder.summary()"
   ]
  },
  {
   "cell_type": "code",
   "execution_count": 16,
   "id": "8a95e17f",
   "metadata": {},
   "outputs": [
    {
     "data": {
      "image/png": "[encoded data removed]",
      "text/plain": [
       "<IPython.core.display.Image object>"
      ]
     },
     "execution_count": 16,
     "metadata": {},
     "output_type": "execute_result"
    }
   ],
   "source": [
    "plot_model(encoder, to_file='vae_mlp_encoder.png', show_shapes=True)"
   ]
  },
  {
   "cell_type": "code",
   "execution_count": 17,
   "id": "74f61e01",
   "metadata": {},
   "outputs": [
    {
     "name": "stdout",
     "output_type": "stream",
     "text": [
      "Model: \"decoder\"\n",
      "_________________________________________________________________\n",
      " Layer (type)                Output Shape              Param #   \n",
      "=================================================================\n",
      " z_sampling (InputLayer)     [(None, 6579)]            0         \n",
      "                                                                 \n",
      " dense_1 (Dense)             (None, 9869)              64938020  \n",
      "                                                                 \n",
      " dense_2 (Dense)             (None, 19738)             194814060 \n",
      "                                                                 \n",
      "=================================================================\n",
      "Total params: 259,752,080\n",
      "Trainable params: 259,752,080\n",
      "Non-trainable params: 0\n",
      "_________________________________________________________________\n"
     ]
    }
   ],
   "source": [
    "# decoder model\n",
    "latent_inputs = Input(shape=(latent_dim,), name='z_sampling')\n",
    "x = Dense(intermediate_dim, activation='relu')(latent_inputs)\n",
    "outputs = Dense(original_dim, activation='sigmoid')(x)\n",
    "# Instantiate the decoder model:\n",
    "decoder = Model(latent_inputs, outputs, name='decoder')\n",
    "decoder.summary()"
   ]
  },
  {
   "cell_type": "code",
   "execution_count": 18,
   "id": "96ca5008",
   "metadata": {},
   "outputs": [
    {
     "data": {
      "image/png": "[encoded data removed]",
      "text/plain": [
       "<IPython.core.display.Image object>"
      ]
     },
     "execution_count": 18,
     "metadata": {},
     "output_type": "execute_result"
    }
   ],
   "source": [
    "plot_model(decoder, to_file='vae_mlp_decoder.png', show_shapes=True)"
   ]
  },
  {
   "cell_type": "code",
   "execution_count": 19,
   "id": "ce62c389",
   "metadata": {},
   "outputs": [],
   "source": [
    "# full VAE model\n",
    "outputs = decoder(encoder(inputs))\n",
    "vae_model = Model(inputs, outputs, name='vae_mlp')"
   ]
  },
  {
   "cell_type": "code",
   "execution_count": 20,
   "id": "16ae91fe",
   "metadata": {},
   "outputs": [
    {
     "data": {
      "image/png": "[encoded data removed]",
      "text/plain": [
       "<IPython.core.display.Image object>"
      ]
     },
     "execution_count": 20,
     "metadata": {},
     "output_type": "execute_result"
    }
   ],
   "source": [
    "plot_model(vae_model, to_file='vae_mlp_model.png', show_shapes=True)"
   ]
  },
  {
   "cell_type": "code",
   "execution_count": 21,
   "id": "8293a3c7",
   "metadata": {},
   "outputs": [],
   "source": [
    "# the KL loss function:\n",
    "def vae_loss(x, x_decoded_mean):\n",
    "    # compute the average MSE error, then scale it up, ie. simply sum on all axes\n",
    "    reconstruction_loss = K.sum(K.square(x - x_decoded_mean))\n",
    "    # compute the KL loss\n",
    "    kl_loss = - 0.5 * K.sum(1 + z_log_var - K.square(z_mean) - K.square(K.exp(z_log_var)), axis=-1)\n",
    "    # return the average loss over all \n",
    "    total_loss = K.mean(reconstruction_loss + kl_loss)    \n",
    "    #total_loss = reconstruction_loss + kl_loss\n",
    "    return total_loss"
   ]
  },
  {
   "cell_type": "code",
   "execution_count": 22,
   "id": "1685a48f",
   "metadata": {},
   "outputs": [
    {
     "name": "stdout",
     "output_type": "stream",
     "text": [
      "Model: \"vae_mlp\"\n",
      "_________________________________________________________________\n",
      " Layer (type)                Output Shape              Param #   \n",
      "=================================================================\n",
      " encoder_input (InputLayer)  [(None, 19738)]           0         \n",
      "                                                                 \n",
      " encoder (Functional)        (None, 6579)              324673651 \n",
      "                                                                 \n",
      " decoder (Functional)        (None, 19738)             259752080 \n",
      "                                                                 \n",
      "=================================================================\n",
      "Total params: 584,425,731\n",
      "Trainable params: 584,425,731\n",
      "Non-trainable params: 0\n",
      "_________________________________________________________________\n"
     ]
    }
   ],
   "source": [
    "#opt = optimizers.Adam(learning_rate=0.01)\n",
    "\n",
    "\n",
    "epochs = 200\n",
    "learning_rate = 0.0001\n",
    "decay_rate = learning_rate / epochs\n",
    "#opt = optimizers.RMSprop(learning_rate=learning_rate, decay=decay_rate)\n",
    "opt = optimizers.Adam(learning_rate=learning_rate, decay=decay_rate)\n",
    "vae_model.compile(optimizer=opt, loss=vae_loss)\n",
    "\n",
    "#vae_model.compile(optimizer='adam',\n",
    "#                  loss=vae_loss)\n",
    "\n",
    "vae_model.summary()"
   ]
  },
  {
   "cell_type": "code",
   "execution_count": 23,
   "id": "7e78913c",
   "metadata": {
    "scrolled": false
   },
   "outputs": [
    {
     "name": "stdout",
     "output_type": "stream",
     "text": [
      "Train on 199 samples, validate on 85 samples\n",
      "Epoch 1/200\n",
      "199/199 [==============================] - ETA: 0s - loss: 544109.3750"
     ]
    },
    {
     "name": "stderr",
     "output_type": "stream",
     "text": [
      "C:\\Users\\Innocent SADO\\Anaconda3\\envs\\Master2\\lib\\site-packages\\keras\\engine\\training_v1.py:2057: UserWarning: `Model.state_updates` will be removed in a future version. This property should not be used in TensorFlow 2.0, as `updates` are applied automatically.\n",
      "  updates = self.state_updates\n"
     ]
    },
    {
     "name": "stdout",
     "output_type": "stream",
     "text": [
      "199/199 [==============================] - 105s 525ms/sample - loss: 544109.3750 - val_loss: 165624.9219\n",
      "Epoch 2/200\n",
      "199/199 [==============================] - 55s 276ms/sample - loss: 354780.5000 - val_loss: 106925.2969\n",
      "Epoch 3/200\n",
      "199/199 [==============================] - 57s 288ms/sample - loss: 202069.3281 - val_loss: 112885.9375\n",
      "Epoch 4/200\n",
      "199/199 [==============================] - 40s 202ms/sample - loss: 194098.4062 - val_loss: 101683.2031\n",
      "Epoch 5/200\n",
      "199/199 [==============================] - 39s 198ms/sample - loss: 161049.0000 - val_loss: 84365.8906\n",
      "Epoch 6/200\n",
      "199/199 [==============================] - 36s 183ms/sample - loss: 121613.4297 - val_loss: 79105.1562\n",
      "Epoch 7/200\n",
      "199/199 [==============================] - 38s 193ms/sample - loss: 117711.0859 - val_loss: 78204.1797\n",
      "Epoch 8/200\n",
      "199/199 [==============================] - 39s 198ms/sample - loss: 120001.9531 - val_loss: 74641.3047\n",
      "Epoch 9/200\n",
      "199/199 [==============================] - 36s 182ms/sample - loss: 111403.1172 - val_loss: 72821.2500\n",
      "Epoch 10/200\n",
      "199/199 [==============================] - 41s 205ms/sample - loss: 105802.4688 - val_loss: 73511.9766\n",
      "Epoch 11/200\n",
      "199/199 [==============================] - 37s 186ms/sample - loss: 106246.8516 - val_loss: 73837.1094\n",
      "Epoch 12/200\n",
      "199/199 [==============================] - 38s 189ms/sample - loss: 105697.9688 - val_loss: 72335.9141\n",
      "Epoch 13/200\n",
      "199/199 [==============================] - 36s 179ms/sample - loss: 101941.0625 - val_loss: 70672.7578\n",
      "Epoch 14/200\n",
      "199/199 [==============================] - 36s 182ms/sample - loss: 97679.2891 - val_loss: 69676.2734\n",
      "Epoch 15/200\n",
      "199/199 [==============================] - 38s 191ms/sample - loss: 95292.2812 - val_loss: 69271.6406\n",
      "Epoch 16/200\n",
      "199/199 [==============================] - 39s 195ms/sample - loss: 94485.1094 - val_loss: 68534.1484\n",
      "Epoch 17/200\n",
      "199/199 [==============================] - 37s 186ms/sample - loss: 93202.7266 - val_loss: 67620.7031\n",
      "Epoch 18/200\n",
      "199/199 [==============================] - 40s 203ms/sample - loss: 90804.3984 - val_loss: 67037.2891\n",
      "Epoch 19/200\n",
      "199/199 [==============================] - 37s 187ms/sample - loss: 89264.4297 - val_loss: 67345.0156\n",
      "Epoch 20/200\n",
      "199/199 [==============================] - 45s 228ms/sample - loss: 88733.2188 - val_loss: 66784.2969\n",
      "Epoch 21/200\n",
      "199/199 [==============================] - 40s 203ms/sample - loss: 86423.3906 - val_loss: 66339.7891\n",
      "Epoch 22/200\n",
      "199/199 [==============================] - 39s 196ms/sample - loss: 84619.7656 - val_loss: 66757.8906\n",
      "Epoch 23/200\n",
      "199/199 [==============================] - 38s 190ms/sample - loss: 83888.0469 - val_loss: 66675.5391\n",
      "Epoch 24/200\n",
      "199/199 [==============================] - 40s 201ms/sample - loss: 82510.2812 - val_loss: 66055.4609\n",
      "Epoch 25/200\n",
      "199/199 [==============================] - 49s 244ms/sample - loss: 80748.1406 - val_loss: 65773.4141\n",
      "Epoch 26/200\n",
      "199/199 [==============================] - 41s 207ms/sample - loss: 79896.8516 - val_loss: 64992.6602\n",
      "Epoch 27/200\n",
      "199/199 [==============================] - 38s 190ms/sample - loss: 78587.6094 - val_loss: 64194.9766\n",
      "Epoch 28/200\n",
      "199/199 [==============================] - 44s 220ms/sample - loss: 77450.0234 - val_loss: 64028.2812\n",
      "Epoch 29/200\n",
      "199/199 [==============================] - 42s 210ms/sample - loss: 77143.7266 - val_loss: 63702.0898\n",
      "Epoch 30/200\n",
      "199/199 [==============================] - 39s 198ms/sample - loss: 76186.1875 - val_loss: 63442.6133\n",
      "Epoch 31/200\n",
      "199/199 [==============================] - 45s 224ms/sample - loss: 75392.3750 - val_loss: 63507.8945\n",
      "Epoch 32/200\n",
      "199/199 [==============================] - 41s 206ms/sample - loss: 75015.6250 - val_loss: 62970.0820\n",
      "Epoch 33/200\n",
      "199/199 [==============================] - 36s 181ms/sample - loss: 73861.6406 - val_loss: 62702.4648\n",
      "Epoch 34/200\n",
      "199/199 [==============================] - 46s 229ms/sample - loss: 73222.8047 - val_loss: 62254.4453\n",
      "Epoch 35/200\n",
      "199/199 [==============================] - 39s 197ms/sample - loss: 72554.5859 - val_loss: 61941.8398\n",
      "Epoch 36/200\n",
      "199/199 [==============================] - 39s 195ms/sample - loss: 71908.7969 - val_loss: 61862.2305\n",
      "Epoch 37/200\n",
      "199/199 [==============================] - 47s 235ms/sample - loss: 71576.3594 - val_loss: 61546.7227\n",
      "Epoch 38/200\n",
      "199/199 [==============================] - 38s 188ms/sample - loss: 70811.6328 - val_loss: 61467.7578\n",
      "Epoch 39/200\n",
      "199/199 [==============================] - 40s 201ms/sample - loss: 70568.9062 - val_loss: 61015.3516\n",
      "Epoch 40/200\n",
      "199/199 [==============================] - 44s 219ms/sample - loss: 69810.4922 - val_loss: 60626.2539\n",
      "Epoch 41/200\n",
      "199/199 [==============================] - 43s 218ms/sample - loss: 69414.1406 - val_loss: 60271.5000\n",
      "Epoch 42/200\n",
      "199/199 [==============================] - 39s 196ms/sample - loss: 68775.8125 - val_loss: 60164.9805\n",
      "Epoch 43/200\n",
      "199/199 [==============================] - 38s 189ms/sample - loss: 68285.9766 - val_loss: 60011.3047\n",
      "Epoch 44/200\n",
      "199/199 [==============================] - 42s 209ms/sample - loss: 67707.0469 - val_loss: 59862.0547\n",
      "Epoch 45/200\n",
      "199/199 [==============================] - 47s 234ms/sample - loss: 67204.4844 - val_loss: 59633.1719\n",
      "Epoch 46/200\n",
      "199/199 [==============================] - 43s 214ms/sample - loss: 66643.8672 - val_loss: 59387.6289\n",
      "Epoch 47/200\n",
      "199/199 [==============================] - 50s 252ms/sample - loss: 66189.5781 - val_loss: 59277.6133\n",
      "Epoch 48/200\n",
      "199/199 [==============================] - 58s 292ms/sample - loss: 65778.3125 - val_loss: 58984.8047\n",
      "Epoch 49/200\n",
      "199/199 [==============================] - 52s 263ms/sample - loss: 65283.4219 - val_loss: 58826.6250\n",
      "Epoch 50/200\n",
      "199/199 [==============================] - 67s 337ms/sample - loss: 64932.6641 - val_loss: 58672.0430\n",
      "Epoch 51/200\n",
      "199/199 [==============================] - 59s 296ms/sample - loss: 64499.6992 - val_loss: 58404.6367\n",
      "Epoch 52/200\n",
      "199/199 [==============================] - 41s 207ms/sample - loss: 64115.6367 - val_loss: 58156.9102\n",
      "Epoch 53/200\n",
      "199/199 [==============================] - 50s 251ms/sample - loss: 63731.2070 - val_loss: 57981.9531\n",
      "Epoch 54/200\n",
      "199/199 [==============================] - 46s 230ms/sample - loss: 63285.2852 - val_loss: 57855.6758\n",
      "Epoch 55/200\n",
      "199/199 [==============================] - 47s 236ms/sample - loss: 62987.5039 - val_loss: 57592.5938\n",
      "Epoch 56/200\n",
      "199/199 [==============================] - 52s 259ms/sample - loss: 62551.7891 - val_loss: 57331.2891\n",
      "Epoch 57/200\n",
      "199/199 [==============================] - 47s 239ms/sample - loss: 62280.2773 - val_loss: 57266.4219\n",
      "Epoch 58/200\n",
      "199/199 [==============================] - 39s 197ms/sample - loss: 61834.7344 - val_loss: 57210.2539\n",
      "Epoch 59/200\n",
      "199/199 [==============================] - 41s 208ms/sample - loss: 61594.6523 - val_loss: 56974.2188\n",
      "Epoch 60/200\n",
      "199/199 [==============================] - 44s 223ms/sample - loss: 61190.3672 - val_loss: 56731.5195\n",
      "Epoch 61/200\n",
      "199/199 [==============================] - 41s 204ms/sample - loss: 60890.2461 - val_loss: 56877.6758\n",
      "Epoch 62/200\n",
      "199/199 [==============================] - 42s 211ms/sample - loss: 60538.7930 - val_loss: 56688.2109\n",
      "Epoch 63/200\n",
      "199/199 [==============================] - 51s 259ms/sample - loss: 60085.1953 - val_loss: 56432.8125\n",
      "Epoch 64/200\n",
      "199/199 [==============================] - 44s 221ms/sample - loss: 59759.3867 - val_loss: 56342.3047\n",
      "Epoch 65/200\n",
      "199/199 [==============================] - 39s 196ms/sample - loss: 59334.4609 - val_loss: 56198.1367\n",
      "Epoch 66/200\n",
      "199/199 [==============================] - 40s 200ms/sample - loss: 59021.7188 - val_loss: 55958.5195\n",
      "Epoch 67/200\n",
      "199/199 [==============================] - 47s 238ms/sample - loss: 58626.9844 - val_loss: 55966.4414\n",
      "Epoch 68/200\n",
      "199/199 [==============================] - 43s 216ms/sample - loss: 58237.7852 - val_loss: 55878.0547\n",
      "Epoch 69/200\n",
      "199/199 [==============================] - 55s 279ms/sample - loss: 57893.8828 - val_loss: 55449.3945\n",
      "Epoch 70/200\n",
      "199/199 [==============================] - 43s 215ms/sample - loss: 57479.3359 - val_loss: 55544.3984\n",
      "Epoch 71/200\n",
      "199/199 [==============================] - 44s 219ms/sample - loss: 57095.6367 - val_loss: 55418.9648\n",
      "Epoch 72/200\n"
     ]
    },
    {
     "name": "stdout",
     "output_type": "stream",
     "text": [
      "199/199 [==============================] - 40s 201ms/sample - loss: 56734.4922 - val_loss: 55092.5352\n",
      "Epoch 73/200\n",
      "199/199 [==============================] - 43s 214ms/sample - loss: 56338.2695 - val_loss: 55066.5820\n",
      "Epoch 74/200\n",
      "199/199 [==============================] - 51s 257ms/sample - loss: 55952.4805 - val_loss: 54943.6484\n",
      "Epoch 75/200\n",
      "199/199 [==============================] - 39s 198ms/sample - loss: 55604.3711 - val_loss: 54707.6523\n",
      "Epoch 76/200\n",
      "199/199 [==============================] - 48s 240ms/sample - loss: 55275.8711 - val_loss: 54700.7070\n",
      "Epoch 77/200\n",
      "199/199 [==============================] - 44s 222ms/sample - loss: 54926.5469 - val_loss: 54498.3242\n",
      "Epoch 78/200\n",
      "199/199 [==============================] - 48s 241ms/sample - loss: 54565.0391 - val_loss: 54269.0352\n",
      "Epoch 79/200\n",
      "199/199 [==============================] - 47s 238ms/sample - loss: 54253.1016 - val_loss: 54158.4297\n",
      "Epoch 80/200\n",
      "199/199 [==============================] - 49s 244ms/sample - loss: 53959.1172 - val_loss: 53936.9297\n",
      "Epoch 81/200\n",
      "199/199 [==============================] - 46s 230ms/sample - loss: 53694.3555 - val_loss: 53906.1719\n",
      "Epoch 82/200\n",
      "199/199 [==============================] - 42s 210ms/sample - loss: 53311.9336 - val_loss: 53601.9570\n",
      "Epoch 83/200\n",
      "199/199 [==============================] - 39s 196ms/sample - loss: 53045.0586 - val_loss: 53720.4102\n",
      "Epoch 84/200\n",
      "199/199 [==============================] - 45s 228ms/sample - loss: 52771.9805 - val_loss: 53294.5938\n",
      "Epoch 85/200\n",
      "199/199 [==============================] - 49s 245ms/sample - loss: 52516.7148 - val_loss: 53388.5312\n",
      "Epoch 86/200\n",
      "199/199 [==============================] - 45s 226ms/sample - loss: 52257.2070 - val_loss: 52906.1172\n",
      "Epoch 87/200\n",
      "199/199 [==============================] - 38s 189ms/sample - loss: 51960.9062 - val_loss: 53110.1758\n",
      "Epoch 88/200\n",
      "199/199 [==============================] - 38s 193ms/sample - loss: 51679.4609 - val_loss: 52586.2812\n",
      "Epoch 89/200\n",
      "199/199 [==============================] - 44s 220ms/sample - loss: 51376.4883 - val_loss: 52826.8164\n",
      "Epoch 90/200\n",
      "199/199 [==============================] - 42s 210ms/sample - loss: 51083.1641 - val_loss: 52351.1719\n",
      "Epoch 91/200\n",
      "199/199 [==============================] - 43s 217ms/sample - loss: 50833.3203 - val_loss: 52429.0469\n",
      "Epoch 92/200\n",
      "199/199 [==============================] - 50s 253ms/sample - loss: 50543.6836 - val_loss: 52110.9570\n",
      "Epoch 93/200\n",
      "199/199 [==============================] - 46s 231ms/sample - loss: 50267.5820 - val_loss: 52135.9922\n",
      "Epoch 94/200\n",
      "199/199 [==============================] - 43s 217ms/sample - loss: 49977.4688 - val_loss: 52028.5078\n",
      "Epoch 95/200\n",
      "199/199 [==============================] - 40s 202ms/sample - loss: 49713.5586 - val_loss: 51949.4336\n",
      "Epoch 96/200\n",
      "199/199 [==============================] - 40s 202ms/sample - loss: 49438.9766 - val_loss: 51809.1367\n",
      "Epoch 97/200\n",
      "199/199 [==============================] - 42s 212ms/sample - loss: 49182.0820 - val_loss: 51646.8516\n",
      "Epoch 98/200\n",
      "199/199 [==============================] - 46s 233ms/sample - loss: 48917.8828 - val_loss: 51298.0664\n",
      "Epoch 99/200\n",
      "199/199 [==============================] - 44s 219ms/sample - loss: 48673.7695 - val_loss: 51434.8281\n",
      "Epoch 100/200\n",
      "199/199 [==============================] - 43s 215ms/sample - loss: 48460.6875 - val_loss: 50869.3359\n",
      "Epoch 101/200\n",
      "199/199 [==============================] - 41s 206ms/sample - loss: 48282.5664 - val_loss: 51825.2656\n",
      "Epoch 102/200\n",
      "199/199 [==============================] - 39s 197ms/sample - loss: 48390.1055 - val_loss: 50214.3984\n",
      "Epoch 103/200\n",
      "199/199 [==============================] - 41s 208ms/sample - loss: 49005.8594 - val_loss: 52201.6992\n",
      "Epoch 104/200\n",
      "199/199 [==============================] - 43s 215ms/sample - loss: 49215.5898 - val_loss: 49942.7773\n",
      "Epoch 105/200\n",
      "199/199 [==============================] - 45s 224ms/sample - loss: 47592.3828 - val_loss: 49619.0312\n",
      "Epoch 106/200\n",
      "199/199 [==============================] - 39s 198ms/sample - loss: 47337.1289 - val_loss: 50690.9531\n",
      "Epoch 107/200\n",
      "199/199 [==============================] - 40s 200ms/sample - loss: 47563.6094 - val_loss: 49593.1016\n",
      "Epoch 108/200\n",
      "199/199 [==============================] - 38s 193ms/sample - loss: 46671.5586 - val_loss: 49077.8086\n",
      "Epoch 109/200\n",
      "199/199 [==============================] - 41s 206ms/sample - loss: 46823.1211 - val_loss: 49754.9805\n",
      "Epoch 110/200\n",
      "199/199 [==============================] - 43s 217ms/sample - loss: 46390.5117 - val_loss: 49580.5000\n",
      "Epoch 111/200\n",
      "199/199 [==============================] - 45s 226ms/sample - loss: 46130.6875 - val_loss: 48842.8398\n",
      "Epoch 112/200\n",
      "199/199 [==============================] - 42s 212ms/sample - loss: 46082.0664 - val_loss: 49137.2422\n",
      "Epoch 113/200\n",
      "199/199 [==============================] - 40s 202ms/sample - loss: 45608.0586 - val_loss: 49529.6992\n",
      "Epoch 114/200\n",
      "199/199 [==============================] - 41s 206ms/sample - loss: 45495.9102 - val_loss: 48966.2188\n",
      "Epoch 115/200\n",
      "199/199 [==============================] - 38s 191ms/sample - loss: 45231.3047 - val_loss: 48824.9883\n",
      "Epoch 116/200\n",
      "199/199 [==============================] - 39s 196ms/sample - loss: 44971.8125 - val_loss: 49219.4336\n",
      "Epoch 117/200\n",
      "199/199 [==============================] - 39s 198ms/sample - loss: 44712.1992 - val_loss: 48997.0234\n",
      "Epoch 118/200\n",
      "199/199 [==============================] - 45s 224ms/sample - loss: 44450.5117 - val_loss: 48549.6445\n",
      "Epoch 119/200\n",
      "199/199 [==============================] - 40s 203ms/sample - loss: 44292.0352 - val_loss: 48886.8359\n",
      "Epoch 120/200\n",
      "199/199 [==============================] - 42s 209ms/sample - loss: 43942.9102 - val_loss: 49024.5742\n",
      "Epoch 121/200\n",
      "199/199 [==============================] - 39s 198ms/sample - loss: 43833.1758 - val_loss: 48448.9531\n",
      "Epoch 122/200\n",
      "199/199 [==============================] - 41s 204ms/sample - loss: 43513.1992 - val_loss: 48395.6406\n",
      "Epoch 123/200\n",
      "199/199 [==============================] - 38s 192ms/sample - loss: 43279.6680 - val_loss: 48653.4766\n",
      "Epoch 124/200\n",
      "199/199 [==============================] - 49s 245ms/sample - loss: 43065.3047 - val_loss: 48191.7227\n",
      "Epoch 125/200\n",
      "199/199 [==============================] - 41s 208ms/sample - loss: 42800.2812 - val_loss: 48052.5781\n",
      "Epoch 126/200\n",
      "199/199 [==============================] - 38s 192ms/sample - loss: 42624.8828 - val_loss: 48255.1406\n",
      "Epoch 127/200\n",
      "199/199 [==============================] - 41s 208ms/sample - loss: 42330.2305 - val_loss: 48077.0859\n",
      "Epoch 128/200\n",
      "199/199 [==============================] - 43s 219ms/sample - loss: 42121.0664 - val_loss: 47800.8398\n",
      "Epoch 129/200\n",
      "199/199 [==============================] - 44s 223ms/sample - loss: 41927.8906 - val_loss: 47856.5117\n",
      "Epoch 130/200\n",
      "199/199 [==============================] - 40s 200ms/sample - loss: 41668.2070 - val_loss: 47954.1523\n",
      "Epoch 131/200\n",
      "199/199 [==============================] - 41s 207ms/sample - loss: 41425.7070 - val_loss: 47666.4688\n",
      "Epoch 132/200\n",
      "199/199 [==============================] - 40s 199ms/sample - loss: 41248.0625 - val_loss: 47705.2188\n",
      "Epoch 133/200\n",
      "199/199 [==============================] - 39s 194ms/sample - loss: 41057.5117 - val_loss: 47739.3867\n",
      "Epoch 134/200\n",
      "199/199 [==============================] - 42s 212ms/sample - loss: 40826.4375 - val_loss: 47558.0625\n",
      "Epoch 135/200\n",
      "199/199 [==============================] - 45s 224ms/sample - loss: 40604.4492 - val_loss: 47458.0195\n",
      "Epoch 136/200\n",
      "199/199 [==============================] - 41s 208ms/sample - loss: 40380.6289 - val_loss: 47477.4102\n",
      "Epoch 137/200\n",
      "199/199 [==============================] - 38s 192ms/sample - loss: 40186.9258 - val_loss: 47451.9961\n",
      "Epoch 138/200\n",
      "199/199 [==============================] - 41s 204ms/sample - loss: 39944.0898 - val_loss: 47257.2695\n",
      "Epoch 139/200\n",
      "199/199 [==============================] - 38s 193ms/sample - loss: 39747.9961 - val_loss: 47396.5352\n",
      "Epoch 140/200\n",
      "199/199 [==============================] - 38s 192ms/sample - loss: 39540.8711 - val_loss: 47280.2617\n",
      "Epoch 141/200\n",
      "199/199 [==============================] - 41s 205ms/sample - loss: 39351.8711 - val_loss: 47010.1289\n",
      "Epoch 142/200\n",
      "199/199 [==============================] - 40s 203ms/sample - loss: 39096.1055 - val_loss: 47158.2109\n"
     ]
    },
    {
     "name": "stdout",
     "output_type": "stream",
     "text": [
      "Epoch 143/200\n",
      "199/199 [==============================] - 41s 204ms/sample - loss: 38941.1250 - val_loss: 46824.9688\n",
      "Epoch 144/200\n",
      "199/199 [==============================] - 46s 230ms/sample - loss: 38706.5781 - val_loss: 46967.2461\n",
      "Epoch 145/200\n",
      "199/199 [==============================] - 38s 193ms/sample - loss: 38491.5938 - val_loss: 46767.2617\n",
      "Epoch 146/200\n",
      "199/199 [==============================] - 39s 197ms/sample - loss: 38324.2852 - val_loss: 46809.3320\n",
      "Epoch 147/200\n",
      "199/199 [==============================] - 40s 202ms/sample - loss: 38137.5430 - val_loss: 46636.3789\n",
      "Epoch 148/200\n",
      "199/199 [==============================] - 38s 191ms/sample - loss: 37909.8789 - val_loss: 46552.1367\n",
      "Epoch 149/200\n",
      "199/199 [==============================] - 43s 218ms/sample - loss: 37742.3750 - val_loss: 46619.7266\n",
      "Epoch 150/200\n",
      "199/199 [==============================] - 40s 199ms/sample - loss: 37515.0234 - val_loss: 46560.5508\n",
      "Epoch 151/200\n",
      "199/199 [==============================] - 47s 238ms/sample - loss: 37358.3203 - val_loss: 46419.0664\n",
      "Epoch 152/200\n",
      "199/199 [==============================] - 45s 229ms/sample - loss: 37205.5195 - val_loss: 46398.9727\n",
      "Epoch 153/200\n",
      "199/199 [==============================] - 45s 225ms/sample - loss: 36962.2656 - val_loss: 46361.3672\n",
      "Epoch 154/200\n",
      "199/199 [==============================] - 41s 204ms/sample - loss: 36798.4766 - val_loss: 46258.8555\n",
      "Epoch 155/200\n",
      "199/199 [==============================] - 39s 194ms/sample - loss: 36626.9961 - val_loss: 46449.5078\n",
      "Epoch 156/200\n",
      "199/199 [==============================] - 43s 218ms/sample - loss: 36437.2852 - val_loss: 45957.1133\n",
      "Epoch 157/200\n",
      "199/199 [==============================] - 52s 263ms/sample - loss: 36276.4375 - val_loss: 46576.1172\n",
      "Epoch 158/200\n",
      "199/199 [==============================] - 41s 204ms/sample - loss: 36188.7891 - val_loss: 45685.1719\n",
      "Epoch 159/200\n",
      "199/199 [==============================] - 38s 189ms/sample - loss: 35969.5039 - val_loss: 46206.7266\n",
      "Epoch 160/200\n",
      "199/199 [==============================] - 43s 217ms/sample - loss: 35734.9492 - val_loss: 45892.5391\n",
      "Epoch 161/200\n",
      "199/199 [==============================] - 38s 192ms/sample - loss: 35572.3281 - val_loss: 45819.3281\n",
      "Epoch 162/200\n",
      "199/199 [==============================] - 37s 188ms/sample - loss: 35335.5664 - val_loss: 45847.7812\n",
      "Epoch 163/200\n",
      "199/199 [==============================] - 43s 214ms/sample - loss: 35193.3711 - val_loss: 45463.9023\n",
      "Epoch 164/200\n",
      "199/199 [==============================] - 39s 195ms/sample - loss: 35120.5898 - val_loss: 46037.3711\n",
      "Epoch 165/200\n",
      "199/199 [==============================] - 53s 264ms/sample - loss: 34925.2148 - val_loss: 45214.2578\n",
      "Epoch 166/200\n",
      "199/199 [==============================] - 41s 209ms/sample - loss: 34796.8125 - val_loss: 46274.8320\n",
      "Epoch 167/200\n",
      "199/199 [==============================] - 37s 187ms/sample - loss: 34790.3047 - val_loss: 44854.1797\n",
      "Epoch 168/200\n",
      "199/199 [==============================] - 41s 204ms/sample - loss: 34664.8516 - val_loss: 45989.7734\n",
      "Epoch 169/200\n",
      "199/199 [==============================] - 40s 201ms/sample - loss: 34419.6367 - val_loss: 44727.7773\n",
      "Epoch 170/200\n",
      "199/199 [==============================] - 40s 201ms/sample - loss: 34151.9727 - val_loss: 45237.1133\n",
      "Epoch 171/200\n",
      "199/199 [==============================] - 47s 237ms/sample - loss: 33787.1172 - val_loss: 45423.5898\n",
      "Epoch 172/200\n",
      "199/199 [==============================] - 45s 226ms/sample - loss: 33760.2930 - val_loss: 44463.7344\n",
      "Epoch 173/200\n",
      "199/199 [==============================] - 39s 198ms/sample - loss: 33731.8789 - val_loss: 45374.0312\n",
      "Epoch 174/200\n",
      "199/199 [==============================] - 44s 222ms/sample - loss: 33476.6641 - val_loss: 44560.7422\n",
      "Epoch 175/200\n",
      "199/199 [==============================] - 43s 216ms/sample - loss: 33176.8359 - val_loss: 44541.7031\n",
      "Epoch 176/200\n",
      "199/199 [==============================] - 47s 234ms/sample - loss: 33001.1719 - val_loss: 45265.2188\n",
      "Epoch 177/200\n",
      "199/199 [==============================] - 48s 241ms/sample - loss: 33039.7852 - val_loss: 44128.0781\n",
      "Epoch 178/200\n",
      "199/199 [==============================] - 40s 202ms/sample - loss: 32852.7852 - val_loss: 44746.7617\n",
      "Epoch 179/200\n",
      "199/199 [==============================] - 41s 205ms/sample - loss: 32515.4453 - val_loss: 44845.5469\n",
      "Epoch 180/200\n",
      "199/199 [==============================] - 39s 198ms/sample - loss: 32428.8867 - val_loss: 44082.9453\n",
      "Epoch 181/200\n",
      "199/199 [==============================] - 43s 215ms/sample - loss: 32324.3320 - val_loss: 45058.3008\n",
      "Epoch 182/200\n",
      "199/199 [==============================] - 42s 209ms/sample - loss: 32146.9316 - val_loss: 44436.5898\n",
      "Epoch 183/200\n",
      "199/199 [==============================] - 40s 201ms/sample - loss: 31910.4297 - val_loss: 44431.4414\n",
      "Epoch 184/200\n",
      "199/199 [==============================] - 37s 186ms/sample - loss: 31706.8008 - val_loss: 44436.1562\n",
      "Epoch 185/200\n",
      "199/199 [==============================] - 42s 212ms/sample - loss: 31557.0176 - val_loss: 44101.2578\n",
      "Epoch 186/200\n",
      "199/199 [==============================] - 48s 242ms/sample - loss: 31431.2520 - val_loss: 44663.5117\n",
      "Epoch 187/200\n",
      "199/199 [==============================] - 39s 198ms/sample - loss: 31289.2129 - val_loss: 44133.9414\n",
      "Epoch 188/200\n",
      "199/199 [==============================] - 42s 210ms/sample - loss: 31130.8848 - val_loss: 44303.4492\n",
      "Epoch 189/200\n",
      "199/199 [==============================] - 38s 193ms/sample - loss: 30957.7773 - val_loss: 44201.5781\n",
      "Epoch 190/200\n",
      "199/199 [==============================] - 44s 220ms/sample - loss: 30826.0859 - val_loss: 44013.9922\n",
      "Epoch 191/200\n",
      "199/199 [==============================] - 40s 200ms/sample - loss: 30632.6602 - val_loss: 44118.7422\n",
      "Epoch 192/200\n",
      "199/199 [==============================] - 39s 194ms/sample - loss: 30477.2656 - val_loss: 43999.0078\n",
      "Epoch 193/200\n",
      "199/199 [==============================] - 42s 211ms/sample - loss: 30329.4941 - val_loss: 43925.9102\n",
      "Epoch 194/200\n",
      "199/199 [==============================] - 51s 258ms/sample - loss: 30207.3418 - val_loss: 44144.6914\n",
      "Epoch 195/200\n",
      "199/199 [==============================] - 44s 219ms/sample - loss: 30057.5801 - val_loss: 43506.4102\n",
      "Epoch 196/200\n",
      "199/199 [==============================] - 45s 227ms/sample - loss: 29962.8574 - val_loss: 44340.7266\n",
      "Epoch 197/200\n",
      "199/199 [==============================] - 37s 188ms/sample - loss: 29840.6289 - val_loss: 43413.1836\n",
      "Epoch 198/200\n",
      "199/199 [==============================] - 37s 186ms/sample - loss: 29628.0957 - val_loss: 44134.0664\n",
      "Epoch 199/200\n",
      "199/199 [==============================] - 38s 191ms/sample - loss: 29474.8613 - val_loss: 43377.9766\n",
      "Epoch 200/200\n",
      "199/199 [==============================] - 38s 192ms/sample - loss: 29295.8184 - val_loss: 43631.5195\n"
     ]
    }
   ],
   "source": [
    "# Learning\n",
    "# Finally, we train the model:\n",
    "history = vae_model.fit(X_train, X_train, \n",
    "                        shuffle=True, \n",
    "                        epochs=epochs, \n",
    "                        batch_size=256, \n",
    "                        validation_data=(X_test, X_test))\n",
    "#history = vae_model.fit(X_train, X_train,\n",
    "#                        shuffle=True,\n",
    "#                        epochs=10,\n",
    "#                        batch_size=256)\n",
    "\n",
    "vae_model.save_weights('vae_breast.h5')"
   ]
  },
  {
   "cell_type": "code",
   "execution_count": 24,
   "id": "4db2e36a",
   "metadata": {},
   "outputs": [
    {
     "data": {
      "image/png": "[encoded data removed]",
      "text/plain": [
       "<Figure size 432x288 with 1 Axes>"
      ]
     },
     "metadata": {
      "needs_background": "light"
     },
     "output_type": "display_data"
    }
   ],
   "source": [
    "# plot loss history\n",
    "loss = history.history['loss']\n",
    "val_loss = history.history['val_loss']\n",
    "epochs = range(len(loss))\n",
    "\n",
    "plt.figure()\n",
    "plt.plot(epochs, loss, label='Training loss')\n",
    "plt.plot(epochs, val_loss, label='Validation loss')\n",
    "plt.xlabel('Epochs')\n",
    "plt.ylabel('Loss')\n",
    "plt.title('Training and validation loss')\n",
    "plt.legend(['Training loss', 'Validation loss'], loc='upper right');\n",
    "plt.show()\n"
   ]
  },
  {
   "cell_type": "code",
   "execution_count": 25,
   "id": "b2b0d3fe",
   "metadata": {},
   "outputs": [],
   "source": [
    "score = vae_model.evaluate(X_test, X_test, verbose = 1)"
   ]
  },
  {
   "cell_type": "code",
   "execution_count": 26,
   "id": "b0b855c7",
   "metadata": {},
   "outputs": [
    {
     "name": "stdout",
     "output_type": "stream",
     "text": [
      "Test Loss: 15659.709673713236\n"
     ]
    }
   ],
   "source": [
    "print('Test Loss:', score)"
   ]
  },
  {
   "cell_type": "code",
   "execution_count": 27,
   "id": "636aaac1",
   "metadata": {},
   "outputs": [
    {
     "name": "stderr",
     "output_type": "stream",
     "text": [
      "C:\\Users\\Innocent SADO\\Anaconda3\\envs\\Master2\\lib\\site-packages\\keras\\engine\\training_v1.py:2079: UserWarning: `Model.state_updates` will be removed in a future version. This property should not be used in TensorFlow 2.0, as `updates` are applied automatically.\n",
      "  updates=self.state_updates,\n"
     ]
    }
   ],
   "source": [
    "#mae_vector = get_error_term(X_pred, X_test)#, _rmse=False)\n",
    "\n",
    "# Code to predict the anomalies based on the threshold\n",
    "\n",
    "\n",
    "y_pred = vae_model.predict(X_test)\n",
    "y_dist = np.linalg.norm(X_test - y_pred, axis = -1)\n",
    "threshold = np.quantile(y_dist, 0.75)\n",
    "#threshold = 37.5\n",
    "\n",
    "z = zip(y_dist >= threshold, y_dist)\n",
    "y_label=[]\n",
    "error = []\n",
    "for idx, (is_anomaly, y_dist) in enumerate(z):\n",
    "    if is_anomaly:\n",
    "        y_label.append(1)\n",
    "    else:\n",
    "        y_label.append(0)\n",
    "    error.append(y_dist)"
   ]
  },
  {
   "cell_type": "code",
   "execution_count": 28,
   "id": "676c91b7",
   "metadata": {},
   "outputs": [
    {
     "data": {
      "text/plain": [
       "24.115543840995745"
      ]
     },
     "execution_count": 28,
     "metadata": {},
     "output_type": "execute_result"
    }
   ],
   "source": [
    "threshold"
   ]
  },
  {
   "cell_type": "code",
   "execution_count": 29,
   "id": "0bf87f52",
   "metadata": {},
   "outputs": [
    {
     "data": {
      "text/plain": [
       "0.94"
      ]
     },
     "execution_count": 29,
     "metadata": {},
     "output_type": "execute_result"
    }
   ],
   "source": [
    "#Code to calculate AUC\n",
    "from sklearn.metrics import confusion_matrix, roc_auc_score\n",
    "\n",
    "roc_auc_score(y_test, y_label)"
   ]
  },
  {
   "cell_type": "code",
   "execution_count": 30,
   "id": "c26f81f4",
   "metadata": {},
   "outputs": [
    {
     "data": {
      "image/png": "[encoded data removed]",
      "text/plain": [
       "<Figure size 720x576 with 2 Axes>"
      ]
     },
     "metadata": {
      "needs_background": "light"
     },
     "output_type": "display_data"
    }
   ],
   "source": [
    "# Code to show the confusion matrix\n",
    "\n",
    "viz = Visualization()\n",
    "viz.draw_confusion_matrix(y_test, y_label)"
   ]
  },
  {
   "cell_type": "code",
   "execution_count": 31,
   "id": "8df136b2",
   "metadata": {},
   "outputs": [
    {
     "name": "stdout",
     "output_type": "stream",
     "text": [
      "              precision    recall  f1-score   support\n",
      "\n",
      "           0       0.95      1.00      0.98        60\n",
      "           1       1.00      0.88      0.94        25\n",
      "\n",
      "    accuracy                           0.96        85\n",
      "   macro avg       0.98      0.94      0.96        85\n",
      "weighted avg       0.97      0.96      0.96        85\n",
      "\n"
     ]
    }
   ],
   "source": [
    "from sklearn.metrics import classification_report\n",
    "\n",
    "print(classification_report(y_test, y_label))"
   ]
  },
  {
   "cell_type": "code",
   "execution_count": 32,
   "id": "c961f3a0",
   "metadata": {},
   "outputs": [
    {
     "name": "stdout",
     "output_type": "stream",
     "text": [
      "AUC: 94.00%\n",
      "\n",
      "F1_score: 93.62%\n",
      "\n",
      "Accuracy: 96.47%\n",
      "\n",
      "Precision: 100.00%\n",
      "\n",
      "Recall: 88.00%\n",
      "\n",
      "Specificity: 100.00%\n",
      "\n"
     ]
    }
   ],
   "source": [
    "from sklearn import metrics\n",
    "\n",
    "#y_pred =  (mae_vector > error_thresh).astype('int').ravel()\n",
    "y_pred =  y_label\n",
    "AUC = metrics.roc_auc_score(y_test, y_pred)\n",
    "F1 = metrics.f1_score(y_test, y_pred)\n",
    "Accuracy = metrics.accuracy_score(y_test, y_pred)\n",
    "Precision = metrics.precision_score(y_test, y_pred)\n",
    "Recall = metrics.recall_score(y_test, y_pred)\n",
    "tn, fp, fn, tp = metrics.confusion_matrix(y_test, y_pred).ravel()\n",
    "Specificity = tn / (tn+fp)\n",
    "\n",
    "print(\"AUC: {:.2%}\\n\".format(AUC))\n",
    "print(\"F1_score: {:.2%}\\n\".format(F1))\n",
    "print(\"Accuracy: {:.2%}\\n\".format(Accuracy))\n",
    "print(\"Precision: {:.2%}\\n\".format(Precision))\n",
    "print(\"Recall: {:.2%}\\n\".format(Recall))\n",
    "print(\"Specificity: {:.2%}\\n\".format(Specificity))"
   ]
  }
 ],
 "metadata": {
  "kernelspec": {
   "display_name": "Python 3 (ipykernel)",
   "language": "python",
   "name": "python3"
  },
  "language_info": {
   "codemirror_mode": {
    "name": "ipython",
    "version": 3
   },
   "file_extension": ".py",
   "mimetype": "text/x-python",
   "name": "python",
   "nbconvert_exporter": "python",
   "pygments_lexer": "ipython3",
   "version": "3.8.13"
  }
 },
 "nbformat": 4,
 "nbformat_minor": 5
}
