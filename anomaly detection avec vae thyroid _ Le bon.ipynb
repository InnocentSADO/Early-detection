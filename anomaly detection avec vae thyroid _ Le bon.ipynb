{
 "cells": [
  {
   "cell_type": "code",
   "execution_count": 1,
   "id": "5cb618f2",
   "metadata": {},
   "outputs": [],
   "source": [
    "from datetime import datetime\n",
    "import matplotlib.pyplot as plt\n",
    "import numpy as np\n",
    "import pandas as pd\n",
    "import random as rd\n",
    "\n",
    "\n",
    "import tensorflow as tf\n",
    "tf.compat.v1.disable_eager_execution()\n",
    "from tensorflow.keras.models import Model, load_model\n",
    "from tensorflow.keras.layers import Lambda, Input, Dense\n",
    "from tensorflow.keras.losses import mse, binary_crossentropy, kl_divergence\n",
    "from tensorflow.keras import optimizers\n",
    "from keras.utils.vis_utils import plot_model\n",
    "from tensorflow.keras import backend as K\n",
    "\n",
    "from sklearn.model_selection import train_test_split\n",
    "from sklearn.preprocessing import MinMaxScaler, StandardScaler, PowerTransformer\n",
    "\n",
    "import seaborn as sns\n",
    "import matplotlib.pyplot as plt\n",
    "\n",
    "%matplotlib inline"
   ]
  },
  {
   "cell_type": "code",
   "execution_count": 2,
   "id": "0d53a566",
   "metadata": {},
   "outputs": [],
   "source": [
    "#Function to read data from file\n",
    "def get_data(din):\n",
    "    bf = pd.read_csv(din,sep='\\t')\n",
    "    genes = bf['Hugo_Symbol']\n",
    "    cols = list(bf.columns)\n",
    "    cols.remove('Entrez_Gene_Id')\n",
    "    cols.remove('Hugo_Symbol')\n",
    "    bf = bf[cols]\n",
    "    bf = bf.transpose()\n",
    "    bf.columns = genes\n",
    "    return bf\n",
    "\n",
    "def getDataset(din1, din2, din3):\n",
    "    normal1 = get_data(din1)\n",
    "    normal2 = get_data(din2)\n",
    "    abnormal = get_data(din3)\n",
    "    common_gene = set(list(normal1.columns)).intersection(set(list(normal2.columns))).intersection(set(list(abnormal.columns)))\n",
    "    common_gene = list(common_gene)\n",
    "    normal1 = normal1[common_gene]\n",
    "    normal2 = normal2[common_gene]\n",
    "    abnormal = abnormal[common_gene]\n",
    "    #abnormal = list(abnormal)\n",
    "    \n",
    "    X_train = pd.concat( [normal1, normal2] ).values\n",
    "    \n",
    "    abnormal = abnormal.values.tolist()\n",
    "    normal1 = normal1.values.tolist()\n",
    "    \n",
    "    abnormal = list(np.float_(abnormal))\n",
    "    normal1 = list(np.float_(normal1))\n",
    "    \n",
    "    abnormal = rd.SystemRandom().sample(abnormal, 47)\n",
    "    normal1 = rd.SystemRandom().sample(normal1, 112)\n",
    "    \n",
    "    abnormal = pd.DataFrame(abnormal)\n",
    "    normal1 = pd.DataFrame(normal1)\n",
    "    \n",
    "    #X_train = np.random.shuffle(X_train) \n",
    "    X_test = pd.concat( [normal1, abnormal] ).values\n",
    "    y_test = np.zeros(len(X_test), dtype=int)\n",
    "    y_test[len(normal1):] = 1\n",
    "    \n",
    "\n",
    "    \n",
    "    X_train = np.asarray(X_train)\n",
    "    X_test = np.asarray(X_test)\n",
    "    y_test = np.asarray(y_test)\n",
    "                \n",
    "\n",
    "    return X_train, X_test, y_test"
   ]
  },
  {
   "cell_type": "code",
   "execution_count": 3,
   "id": "ed1de1e1",
   "metadata": {},
   "outputs": [],
   "source": [
    "# Code to visualize the results\n",
    "\n",
    "class Visualization:\n",
    "    labels = [\"Normal\",\"Anomal\"]\n",
    "    \n",
    "    def draw_confusion_matrix(self, y, y_pred):\n",
    "        matrix = confusion_matrix(y, y_pred)\n",
    "        \n",
    "        plt.figure(figsize=(10,8))\n",
    "        colors = [\"orange\",\"green\"]\n",
    "        sns.heatmap(matrix, xticklabels=self.labels, yticklabels=self.labels, cmap=colors, annot=True, fmt=\"d\")\n",
    "        plt.title(\"Confusion Matrix\")\n",
    "        plt.ylabel(\"Actual\")\n",
    "        plt.xlabel(\"Predicted\")\n",
    "        plt.show()\n",
    "        \n",
    "    def draw_anomaly(self, y, error, treshold):\n",
    "        groupsDF = pd.DataFrame({'error':error,'true':y}).groupby('true')\n",
    "        \n",
    "        figure,axes = plt.subplots(figsize=(12,8))\n",
    "        \n",
    "        for name, group in groupsDF:\n",
    "            axes.plot(group.index, group.error, marker='x' if name == 1 else 'o', linestyle='',\n",
    "                     color='r' if name ==1 else 'g', label=\"Anomaly\" if name == 1 else \"Normal\")\n",
    "            \n",
    "        axes.hlines(treshold, axes.get_xlim()[0], axes.get_xlim()[1], colors='b', zorder = 100, label = 'Treshold')\n",
    "        axes.legend()\n",
    "            \n",
    "        plt.title(\"Anomalies\")\n",
    "        plt.ylabel(\"Error\")\n",
    "        plt.xlabel(\"Data\")\n",
    "        plt.show()\n",
    "        \n",
    "    def draw_error(self, error, treshold):\n",
    "        plt.plot(error, marker='o', ms=3.5, linestyle='', label='Point')\n",
    "        \n",
    "        plt.hlines(treshold, xmin=0, xmax=len(error)-1, colors=\"b\", zorder=100, label='Treshold')\n",
    "        plt.legend()\n",
    "        plt.title(\"Reconstruction error\")\n",
    "        plt.ylabel(\"Error\")\n",
    "        plt.xlabel(\"Data\")\n",
    "        plt.show()\n",
    "    "
   ]
  },
  {
   "cell_type": "code",
   "execution_count": 4,
   "id": "8d213bbf",
   "metadata": {},
   "outputs": [],
   "source": [
    "din1 = 'data/thyroid-rsem-fpkm-gtex.txt'\n",
    "din2 = 'data/thca-rsem-fpkm-tcga.txt'\n",
    "din3 = 'data/thca-rsem-fpkm-tcga-t.txt'\n",
    "\n",
    "X_train, X_test, y_test = getDataset(din1, din2, din3)\n"
   ]
  },
  {
   "cell_type": "code",
   "execution_count": 5,
   "id": "be40d5f4",
   "metadata": {},
   "outputs": [],
   "source": [
    "from numpy import savetxt\n",
    "\n",
    "savetxt('dataset/x_train_thca.csv', X_train, delimiter='\\t')\n",
    "savetxt('dataset/x_test_thca.csv', X_test, delimiter='\\t')\n",
    "savetxt('dataset/y_test_thca.csv', y_test, delimiter='\\t')\n",
    "\n"
   ]
  },
  {
   "cell_type": "code",
   "execution_count": 6,
   "id": "631b1097",
   "metadata": {},
   "outputs": [],
   "source": [
    "scaler = MinMaxScaler()\n",
    "X_train = scaler.fit_transform(X_train)\n",
    "X_test = scaler.fit_transform(X_test)\n"
   ]
  },
  {
   "cell_type": "code",
   "execution_count": null,
   "id": "7296ea59",
   "metadata": {},
   "outputs": [],
   "source": []
  },
  {
   "cell_type": "code",
   "execution_count": 7,
   "id": "18274ab4",
   "metadata": {},
   "outputs": [
    {
     "name": "stdout",
     "output_type": "stream",
     "text": [
      "[[0.04296537 0.62774946 0.         ... 0.57400883 0.39456086 0.06962208]\n",
      " [0.08030303 0.57585605 0.         ... 0.34714435 0.17654926 0.05567599]\n",
      " [0.14249639 0.39588821 0.         ... 0.5255297  0.22024075 0.00603367]\n",
      " ...\n",
      " [0.36374459 0.25481476 0.         ... 0.42589193 0.19393669 0.30374305]\n",
      " [0.27287157 0.21215749 0.         ... 0.21356622 0.23316986 0.19054845]\n",
      " [0.         0.09598741 0.         ... 0.37081328 0.10967454 0.10589638]]\n"
     ]
    }
   ],
   "source": [
    "print(X_test)"
   ]
  },
  {
   "cell_type": "code",
   "execution_count": 8,
   "id": "e3db7c50",
   "metadata": {},
   "outputs": [
    {
     "data": {
      "text/plain": [
       "(371, 19239)"
      ]
     },
     "execution_count": 8,
     "metadata": {},
     "output_type": "execute_result"
    }
   ],
   "source": [
    "X_train.shape"
   ]
  },
  {
   "cell_type": "code",
   "execution_count": 9,
   "id": "3ed3d95e",
   "metadata": {},
   "outputs": [
    {
     "data": {
      "text/plain": [
       "(159, 19239)"
      ]
     },
     "execution_count": 9,
     "metadata": {},
     "output_type": "execute_result"
    }
   ],
   "source": [
    "X_test.shape"
   ]
  },
  {
   "cell_type": "code",
   "execution_count": 10,
   "id": "d385d0c6",
   "metadata": {},
   "outputs": [
    {
     "name": "stdout",
     "output_type": "stream",
     "text": [
      "[0 0 0 0 0 0 0 0 0 0 0 0 0 0 0 0 0 0 0 0 0 0 0 0 0 0 0 0 0 0 0 0 0 0 0 0 0\n",
      " 0 0 0 0 0 0 0 0 0 0 0 0 0 0 0 0 0 0 0 0 0 0 0 0 0 0 0 0 0 0 0 0 0 0 0 0 0\n",
      " 0 0 0 0 0 0 0 0 0 0 0 0 0 0 0 0 0 0 0 0 0 0 0 0 0 0 0 0 0 0 0 0 0 0 0 0 0\n",
      " 0 1 1 1 1 1 1 1 1 1 1 1 1 1 1 1 1 1 1 1 1 1 1 1 1 1 1 1 1 1 1 1 1 1 1 1 1\n",
      " 1 1 1 1 1 1 1 1 1 1 1]\n"
     ]
    }
   ],
   "source": [
    "print(y_test)"
   ]
  },
  {
   "cell_type": "code",
   "execution_count": 11,
   "id": "ac3abc31",
   "metadata": {},
   "outputs": [],
   "source": [
    "def get_error_term(v1, v2, _rmse=True):\n",
    "    if _rmse:\n",
    "        return np.sqrt(np.mean((v1 - v2) ** 2, axis=1))\n",
    "    #return MAE\n",
    "    return np.mean(abs(v1 - v2), axis=1)"
   ]
  },
  {
   "cell_type": "code",
   "execution_count": 12,
   "id": "9ac29f5d",
   "metadata": {},
   "outputs": [],
   "source": [
    "# The reparameterization trick\n",
    "\n",
    "def sample(args):\n",
    "    z_mean, z_log_var = args\n",
    "    batch = K.shape(z_mean)[0]\n",
    "    dim = K.int_shape(z_mean)[1]\n",
    "    epsilon = K.random_normal(shape=(batch, dim))\n",
    "    return z_mean + K.exp(0.5 * z_log_var) * epsilon"
   ]
  },
  {
   "cell_type": "code",
   "execution_count": 13,
   "id": "ddb8680a",
   "metadata": {},
   "outputs": [],
   "source": [
    "original_dim = X_train.shape[1]\n",
    "input_shape = (original_dim,)\n",
    "intermediate_dim = int(original_dim / 2)\n",
    "latent_dim = int(original_dim / 3)"
   ]
  },
  {
   "cell_type": "raw",
   "id": "240b7c0d",
   "metadata": {},
   "source": [
    "# encoder model\n",
    "inputs = Input(shape=input_shape, name='encoder_input')\n",
    "x = Dense(intermediate_dim, activation='relu')(inputs)\n",
    "z_mean = Dense(latent_dim, name='z_mean')(x)\n",
    "z_log_var = Dense(latent_dim, name='z_log_var')(x)\n",
    "# use the reparameterization trick and get the output from the sample() function\n",
    "z = Lambda(sample, output_shape=(latent_dim,), name='z')([z_mean, z_log_var])\n",
    "encoder = Model(inputs, z, name='encoder')\n",
    "encoder.summary()"
   ]
  },
  {
   "cell_type": "code",
   "execution_count": 14,
   "id": "367e3742",
   "metadata": {},
   "outputs": [
    {
     "name": "stdout",
     "output_type": "stream",
     "text": [
      "Model: \"encoder\"\n",
      "__________________________________________________________________________________________________\n",
      " Layer (type)                   Output Shape         Param #     Connected to                     \n",
      "==================================================================================================\n",
      " encoder_input (InputLayer)     [(None, 19239)]      0           []                               \n",
      "                                                                                                  \n",
      " dense (Dense)                  (None, 9619)         185069560   ['encoder_input[0][0]']          \n",
      "                                                                                                  \n",
      " z_mean (Dense)                 (None, 6413)         61693060    ['dense[0][0]']                  \n",
      "                                                                                                  \n",
      " z_log_var (Dense)              (None, 6413)         61693060    ['dense[0][0]']                  \n",
      "                                                                                                  \n",
      " z (Lambda)                     (None, 6413)         0           ['z_mean[0][0]',                 \n",
      "                                                                  'z_log_var[0][0]']              \n",
      "                                                                                                  \n",
      "==================================================================================================\n",
      "Total params: 308,455,680\n",
      "Trainable params: 308,455,680\n",
      "Non-trainable params: 0\n",
      "__________________________________________________________________________________________________\n"
     ]
    }
   ],
   "source": [
    "# encoder model\n",
    "inputs = Input(shape=input_shape, name='encoder_input')\n",
    "x = Dense(intermediate_dim, activation='relu')(inputs)\n",
    "z_mean = Dense(latent_dim, name='z_mean')(x)\n",
    "z_log_var = Dense(latent_dim, name='z_log_var')(x)\n",
    "\n",
    "# sampling \n",
    "z = Lambda(sample, output_shape=(latent_dim,), name='z')([z_mean, z_log_var]) \n",
    "\n",
    "# instantiate encoder model\n",
    "encoder = Model(inputs, z, name='encoder')\n",
    "encoder.summary()"
   ]
  },
  {
   "cell_type": "code",
   "execution_count": 15,
   "id": "8a95e17f",
   "metadata": {},
   "outputs": [
    {
     "data": {
      "image/png": "[encoded data removed]",
      "text/plain": [
       "<IPython.core.display.Image object>"
      ]
     },
     "execution_count": 15,
     "metadata": {},
     "output_type": "execute_result"
    }
   ],
   "source": [
    "plot_model(encoder, to_file='vae_mlp_encoder.png', show_shapes=True)"
   ]
  },
  {
   "cell_type": "code",
   "execution_count": 16,
   "id": "74f61e01",
   "metadata": {},
   "outputs": [
    {
     "name": "stdout",
     "output_type": "stream",
     "text": [
      "Model: \"decoder\"\n",
      "_________________________________________________________________\n",
      " Layer (type)                Output Shape              Param #   \n",
      "=================================================================\n",
      " z_sampling (InputLayer)     [(None, 6413)]            0         \n",
      "                                                                 \n",
      " dense_1 (Dense)             (None, 9619)              61696266  \n",
      "                                                                 \n",
      " dense_2 (Dense)             (None, 19239)             185079180 \n",
      "                                                                 \n",
      "=================================================================\n",
      "Total params: 246,775,446\n",
      "Trainable params: 246,775,446\n",
      "Non-trainable params: 0\n",
      "_________________________________________________________________\n"
     ]
    }
   ],
   "source": [
    "# decoder model\n",
    "latent_inputs = Input(shape=(latent_dim,), name='z_sampling')\n",
    "x = Dense(intermediate_dim, activation='relu')(latent_inputs)\n",
    "outputs = Dense(original_dim, activation='sigmoid')(x)\n",
    "# Instantiate the decoder model:\n",
    "decoder = Model(latent_inputs, outputs, name='decoder')\n",
    "decoder.summary()"
   ]
  },
  {
   "cell_type": "code",
   "execution_count": 17,
   "id": "96ca5008",
   "metadata": {},
   "outputs": [
    {
     "data": {
      "image/png": "[encoded data removed]",
      "text/plain": [
       "<IPython.core.display.Image object>"
      ]
     },
     "execution_count": 17,
     "metadata": {},
     "output_type": "execute_result"
    }
   ],
   "source": [
    "plot_model(decoder, to_file='vae_mlp_decoder.png', show_shapes=True)"
   ]
  },
  {
   "cell_type": "code",
   "execution_count": 18,
   "id": "ce62c389",
   "metadata": {},
   "outputs": [],
   "source": [
    "# full VAE model\n",
    "outputs = decoder(encoder(inputs))\n",
    "vae_model = Model(inputs, outputs, name='vae_mlp')"
   ]
  },
  {
   "cell_type": "code",
   "execution_count": 19,
   "id": "16ae91fe",
   "metadata": {},
   "outputs": [
    {
     "data": {
      "image/png": "[encoded data removed]",
      "text/plain": [
       "<IPython.core.display.Image object>"
      ]
     },
     "execution_count": 19,
     "metadata": {},
     "output_type": "execute_result"
    }
   ],
   "source": [
    "plot_model(vae_model, to_file='vae_mlp_model.png', show_shapes=True)"
   ]
  },
  {
   "cell_type": "code",
   "execution_count": 20,
   "id": "8293a3c7",
   "metadata": {},
   "outputs": [],
   "source": [
    "# the KL loss function:\n",
    "def vae_loss(x, x_decoded_mean):\n",
    "    # compute the average MSE error, then scale it up, ie. simply sum on all axes\n",
    "    reconstruction_loss = K.sum(K.square(x - x_decoded_mean))\n",
    "    # compute the KL loss\n",
    "    kl_loss = - 0.5 * K.sum(1 + z_log_var - K.square(z_mean) - K.square(K.exp(z_log_var)), axis=-1)\n",
    "    # return the average loss over all \n",
    "    total_loss = K.mean(reconstruction_loss + kl_loss)    \n",
    "    #total_loss = reconstruction_loss + kl_loss\n",
    "    return total_loss"
   ]
  },
  {
   "cell_type": "code",
   "execution_count": 21,
   "id": "1685a48f",
   "metadata": {},
   "outputs": [
    {
     "name": "stdout",
     "output_type": "stream",
     "text": [
      "Model: \"vae_mlp\"\n",
      "_________________________________________________________________\n",
      " Layer (type)                Output Shape              Param #   \n",
      "=================================================================\n",
      " encoder_input (InputLayer)  [(None, 19239)]           0         \n",
      "                                                                 \n",
      " encoder (Functional)        (None, 6413)              308455680 \n",
      "                                                                 \n",
      " decoder (Functional)        (None, 19239)             246775446 \n",
      "                                                                 \n",
      "=================================================================\n",
      "Total params: 555,231,126\n",
      "Trainable params: 555,231,126\n",
      "Non-trainable params: 0\n",
      "_________________________________________________________________\n"
     ]
    }
   ],
   "source": [
    "#opt = optimizers.Adam(learning_rate=0.01)\n",
    "\n",
    "\n",
    "epochs = 200\n",
    "learning_rate = 0.0001\n",
    "decay_rate = learning_rate / epochs\n",
    "#opt = optimizers.RMSprop(learning_rate=learning_rate, decay=decay_rate)\n",
    "opt = optimizers.Adam(learning_rate=learning_rate, decay=decay_rate)\n",
    "vae_model.compile(optimizer=opt, loss=vae_loss)\n",
    "\n",
    "#vae_model.compile(optimizer='adam',\n",
    "#                  loss=vae_loss)\n",
    "\n",
    "vae_model.summary()"
   ]
  },
  {
   "cell_type": "code",
   "execution_count": 22,
   "id": "7e78913c",
   "metadata": {
    "scrolled": true
   },
   "outputs": [
    {
     "name": "stdout",
     "output_type": "stream",
     "text": [
      "Train on 371 samples, validate on 159 samples\n",
      "Epoch 1/200\n",
      "371/371 [==============================] - ETA: 0s - loss: 482406.2079 "
     ]
    },
    {
     "name": "stderr",
     "output_type": "stream",
     "text": [
      "C:\\Users\\Innocent SADO\\Anaconda3\\envs\\Master2\\lib\\site-packages\\keras\\engine\\training_v1.py:2057: UserWarning: `Model.state_updates` will be removed in a future version. This property should not be used in TensorFlow 2.0, as `updates` are applied automatically.\n",
      "  updates = self.state_updates\n"
     ]
    },
    {
     "name": "stdout",
     "output_type": "stream",
     "text": [
      "371/371 [==============================] - 138s 372ms/sample - loss: 482406.2079 - val_loss: 179071.2031\n",
      "Epoch 2/200\n",
      "371/371 [==============================] - 100s 268ms/sample - loss: 200596.8083 - val_loss: 171253.3594\n",
      "Epoch 3/200\n",
      "371/371 [==============================] - 92s 247ms/sample - loss: 153002.2825 - val_loss: 125056.2734\n",
      "Epoch 4/200\n",
      "371/371 [==============================] - 85s 228ms/sample - loss: 121038.1699 - val_loss: 118320.9531\n",
      "Epoch 5/200\n",
      "371/371 [==============================] - 96s 258ms/sample - loss: 110592.4219 - val_loss: 121074.5156\n",
      "Epoch 6/200\n",
      "371/371 [==============================] - 91s 246ms/sample - loss: 106331.3441 - val_loss: 113909.2188\n",
      "Epoch 7/200\n",
      "371/371 [==============================] - 81s 218ms/sample - loss: 98344.7077 - val_loss: 108112.5938\n",
      "Epoch 8/200\n",
      "371/371 [==============================] - 83s 223ms/sample - loss: 95575.9580 - val_loss: 106678.9844\n",
      "Epoch 9/200\n",
      "371/371 [==============================] - 77s 207ms/sample - loss: 94314.6824 - val_loss: 106747.7734\n",
      "Epoch 10/200\n",
      "371/371 [==============================] - 79s 212ms/sample - loss: 92444.1268 - val_loss: 106671.7266\n",
      "Epoch 11/200\n",
      "371/371 [==============================] - 81s 219ms/sample - loss: 91224.7835 - val_loss: 104183.5312\n",
      "Epoch 12/200\n",
      "371/371 [==============================] - 87s 236ms/sample - loss: 88487.7509 - val_loss: 103127.1250\n",
      "Epoch 13/200\n",
      "371/371 [==============================] - 83s 224ms/sample - loss: 88051.9348 - val_loss: 103069.6953\n",
      "Epoch 14/200\n",
      "371/371 [==============================] - 86s 231ms/sample - loss: 85977.4048 - val_loss: 102219.8359\n",
      "Epoch 15/200\n",
      "371/371 [==============================] - 81s 219ms/sample - loss: 85677.0284 - val_loss: 100433.4219\n",
      "Epoch 16/200\n",
      "371/371 [==============================] - 78s 211ms/sample - loss: 84828.4430 - val_loss: 100803.6328\n",
      "Epoch 17/200\n",
      "371/371 [==============================] - 77s 209ms/sample - loss: 82885.2867 - val_loss: 99150.2266\n",
      "Epoch 18/200\n",
      "371/371 [==============================] - 77s 208ms/sample - loss: 82389.4066 - val_loss: 97908.6484\n",
      "Epoch 19/200\n",
      "371/371 [==============================] - 77s 207ms/sample - loss: 80535.2748 - val_loss: 97530.0156\n",
      "Epoch 20/200\n",
      "371/371 [==============================] - 78s 209ms/sample - loss: 79299.8068 - val_loss: 96054.2656\n",
      "Epoch 21/200\n",
      "371/371 [==============================] - 78s 210ms/sample - loss: 78448.1724 - val_loss: 95899.2656\n",
      "Epoch 22/200\n",
      "371/371 [==============================] - 79s 212ms/sample - loss: 77192.2912 - val_loss: 93924.5938\n",
      "Epoch 23/200\n",
      "371/371 [==============================] - 83s 222ms/sample - loss: 76017.2816 - val_loss: 93340.1094\n",
      "Epoch 24/200\n",
      "371/371 [==============================] - 91s 246ms/sample - loss: 74116.4692 - val_loss: 91705.6953\n",
      "Epoch 25/200\n",
      "371/371 [==============================] - 81s 217ms/sample - loss: 71778.1119 - val_loss: 90573.2734\n",
      "Epoch 26/200\n",
      "371/371 [==============================] - 80s 215ms/sample - loss: 71125.5955 - val_loss: 89574.0234\n",
      "Epoch 27/200\n",
      "371/371 [==============================] - 80s 214ms/sample - loss: 69826.7937 - val_loss: 88616.3750\n",
      "Epoch 28/200\n",
      "371/371 [==============================] - 82s 221ms/sample - loss: 68741.7491 - val_loss: 87864.9766\n",
      "Epoch 29/200\n",
      "371/371 [==============================] - 88s 237ms/sample - loss: 67842.1092 - val_loss: 87722.1328\n",
      "Epoch 30/200\n",
      "371/371 [==============================] - 93s 251ms/sample - loss: 66681.0221 - val_loss: 87029.9375\n",
      "Epoch 31/200\n",
      "371/371 [==============================] - 85s 229ms/sample - loss: 67071.1922 - val_loss: 86489.0625\n",
      "Epoch 32/200\n",
      "371/371 [==============================] - 84s 225ms/sample - loss: 65633.3906 - val_loss: 85080.7031\n",
      "Epoch 33/200\n",
      "371/371 [==============================] - 92s 248ms/sample - loss: 64311.0176 - val_loss: 84143.5625\n",
      "Epoch 34/200\n",
      "371/371 [==============================] - 84s 225ms/sample - loss: 62904.9756 - val_loss: 84347.9297\n",
      "Epoch 35/200\n",
      "371/371 [==============================] - 111s 298ms/sample - loss: 62930.3592 - val_loss: 83458.3359\n",
      "Epoch 36/200\n",
      "371/371 [==============================] - 103s 278ms/sample - loss: 61962.5455 - val_loss: 81819.7344\n",
      "Epoch 37/200\n",
      "371/371 [==============================] - 100s 268ms/sample - loss: 60664.3594 - val_loss: 81379.7969\n",
      "Epoch 38/200\n",
      "371/371 [==============================] - 90s 242ms/sample - loss: 59436.9751 - val_loss: 81530.2734\n",
      "Epoch 39/200\n",
      "371/371 [==============================] - 88s 238ms/sample - loss: 59523.7560 - val_loss: 80916.0078\n",
      "Epoch 40/200\n",
      "371/371 [==============================] - 92s 247ms/sample - loss: 58470.7034 - val_loss: 80700.1094\n",
      "Epoch 41/200\n",
      "371/371 [==============================] - 114s 307ms/sample - loss: 59054.6435 - val_loss: 82767.5938\n",
      "Epoch 42/200\n",
      "371/371 [==============================] - 102s 275ms/sample - loss: 59914.0167 - val_loss: 81983.3750\n",
      "Epoch 43/200\n",
      "371/371 [==============================] - 127s 343ms/sample - loss: 60385.0049 - val_loss: 81686.1484\n",
      "Epoch 44/200\n",
      "371/371 [==============================] - 95s 256ms/sample - loss: 60268.9058 - val_loss: 81020.7266\n",
      "Epoch 45/200\n",
      "371/371 [==============================] - 91s 247ms/sample - loss: 58080.4273 - val_loss: 78900.4688\n",
      "Epoch 46/200\n",
      "371/371 [==============================] - 93s 252ms/sample - loss: 57019.9266 - val_loss: 78664.8828\n",
      "Epoch 47/200\n",
      "371/371 [==============================] - 84s 226ms/sample - loss: 56181.1702 - val_loss: 79182.5000\n",
      "Epoch 48/200\n",
      "371/371 [==============================] - 87s 234ms/sample - loss: 56106.3789 - val_loss: 77594.6797\n",
      "Epoch 49/200\n",
      "371/371 [==============================] - 86s 231ms/sample - loss: 54736.1256 - val_loss: 78016.0625\n",
      "Epoch 50/200\n",
      "371/371 [==============================] - 85s 229ms/sample - loss: 54978.4725 - val_loss: 77258.0078\n",
      "Epoch 51/200\n",
      "371/371 [==============================] - 81s 219ms/sample - loss: 53796.9380 - val_loss: 77027.0781\n",
      "Epoch 52/200\n",
      "371/371 [==============================] - 84s 227ms/sample - loss: 54108.7573 - val_loss: 76843.4062\n",
      "Epoch 53/200\n",
      "371/371 [==============================] - 81s 218ms/sample - loss: 53284.9740 - val_loss: 76309.0000\n",
      "Epoch 54/200\n",
      "371/371 [==============================] - 85s 229ms/sample - loss: 52961.8040 - val_loss: 76008.0000\n",
      "Epoch 55/200\n",
      "371/371 [==============================] - 81s 219ms/sample - loss: 52933.1259 - val_loss: 75868.2969\n",
      "Epoch 56/200\n",
      "371/371 [==============================] - 85s 228ms/sample - loss: 52029.6091 - val_loss: 75538.4531\n",
      "Epoch 57/200\n",
      "371/371 [==============================] - 81s 218ms/sample - loss: 51491.2794 - val_loss: 75170.1094\n",
      "Epoch 58/200\n",
      "371/371 [==============================] - 91s 245ms/sample - loss: 51697.4490 - val_loss: 75249.5938\n",
      "Epoch 59/200\n",
      "371/371 [==============================] - 91s 246ms/sample - loss: 51686.3666 - val_loss: 74928.6328\n",
      "Epoch 60/200\n",
      "371/371 [==============================] - 95s 255ms/sample - loss: 51232.2880 - val_loss: 74427.0625\n",
      "Epoch 61/200\n",
      "371/371 [==============================] - 98s 264ms/sample - loss: 50676.7925 - val_loss: 74463.4375\n",
      "Epoch 62/200\n",
      "371/371 [==============================] - 104s 281ms/sample - loss: 50087.5800 - val_loss: 74188.9844\n",
      "Epoch 63/200\n",
      "371/371 [==============================] - 102s 276ms/sample - loss: 50325.8841 - val_loss: 73819.1719\n",
      "Epoch 64/200\n",
      "371/371 [==============================] - 87s 234ms/sample - loss: 49167.9809 - val_loss: 73756.1484\n",
      "Epoch 65/200\n",
      "371/371 [==============================] - 90s 243ms/sample - loss: 49762.9381 - val_loss: 73615.5312\n",
      "Epoch 66/200\n",
      "371/371 [==============================] - 96s 258ms/sample - loss: 49253.8321 - val_loss: 73306.5703\n",
      "Epoch 67/200\n",
      "371/371 [==============================] - 94s 255ms/sample - loss: 49181.7353 - val_loss: 73651.5000\n",
      "Epoch 68/200\n",
      "371/371 [==============================] - 82s 221ms/sample - loss: 49206.7891 - val_loss: 74098.9375\n",
      "Epoch 69/200\n",
      "371/371 [==============================] - 87s 234ms/sample - loss: 49921.5402 - val_loss: 74754.9922\n",
      "Epoch 70/200\n",
      "371/371 [==============================] - 87s 235ms/sample - loss: 50427.5407 - val_loss: 74894.8047\n",
      "Epoch 71/200\n",
      "371/371 [==============================] - 81s 218ms/sample - loss: 50990.3490 - val_loss: 73096.3203\n",
      "Epoch 72/200\n"
     ]
    },
    {
     "name": "stdout",
     "output_type": "stream",
     "text": [
      "371/371 [==============================] - 80s 216ms/sample - loss: 48480.6699 - val_loss: 72705.5000\n",
      "Epoch 73/200\n",
      "371/371 [==============================] - 84s 227ms/sample - loss: 48796.6177 - val_loss: 73211.1094\n",
      "Epoch 74/200\n",
      "371/371 [==============================] - 86s 233ms/sample - loss: 49271.7974 - val_loss: 71921.3906\n",
      "Epoch 75/200\n",
      "371/371 [==============================] - 83s 223ms/sample - loss: 47632.3982 - val_loss: 72451.8203\n",
      "Epoch 76/200\n",
      "371/371 [==============================] - 81s 217ms/sample - loss: 47512.8807 - val_loss: 72037.9844\n",
      "Epoch 77/200\n",
      "371/371 [==============================] - 88s 238ms/sample - loss: 47186.7240 - val_loss: 72015.2422\n",
      "Epoch 78/200\n",
      "371/371 [==============================] - 79s 214ms/sample - loss: 46924.4615 - val_loss: 71808.6719\n",
      "Epoch 79/200\n",
      "371/371 [==============================] - 79s 212ms/sample - loss: 47111.2713 - val_loss: 71517.1641\n",
      "Epoch 80/200\n",
      "371/371 [==============================] - 87s 234ms/sample - loss: 46313.0244 - val_loss: 71241.6406\n",
      "Epoch 81/200\n",
      "371/371 [==============================] - 79s 213ms/sample - loss: 46698.2898 - val_loss: 71512.6406\n",
      "Epoch 82/200\n",
      "371/371 [==============================] - 75s 201ms/sample - loss: 46208.9071 - val_loss: 70785.6797\n",
      "Epoch 83/200\n",
      "371/371 [==============================] - 93s 250ms/sample - loss: 46129.6242 - val_loss: 71109.2578\n",
      "Epoch 84/200\n",
      "371/371 [==============================] - 81s 218ms/sample - loss: 45886.7702 - val_loss: 70420.7422\n",
      "Epoch 85/200\n",
      "371/371 [==============================] - 83s 223ms/sample - loss: 45316.9834 - val_loss: 70664.6172\n",
      "Epoch 86/200\n",
      "371/371 [==============================] - 85s 229ms/sample - loss: 45189.0051 - val_loss: 70277.7891\n",
      "Epoch 87/200\n",
      "371/371 [==============================] - 80s 216ms/sample - loss: 45032.5031 - val_loss: 70180.6562\n",
      "Epoch 88/200\n",
      "371/371 [==============================] - 78s 209ms/sample - loss: 44636.7031 - val_loss: 69927.7266\n",
      "Epoch 89/200\n",
      "371/371 [==============================] - 84s 228ms/sample - loss: 44620.7788 - val_loss: 69956.5859\n",
      "Epoch 90/200\n",
      "371/371 [==============================] - 80s 215ms/sample - loss: 44259.5547 - val_loss: 69932.1094\n",
      "Epoch 91/200\n",
      "371/371 [==============================] - 78s 210ms/sample - loss: 44191.7937 - val_loss: 69774.2734\n",
      "Epoch 92/200\n",
      "371/371 [==============================] - 78s 210ms/sample - loss: 44258.2852 - val_loss: 69870.9688\n",
      "Epoch 93/200\n",
      "371/371 [==============================] - 83s 223ms/sample - loss: 43827.7346 - val_loss: 69529.0547\n",
      "Epoch 94/200\n",
      "371/371 [==============================] - 82s 220ms/sample - loss: 44033.3234 - val_loss: 69660.5859\n",
      "Epoch 95/200\n",
      "371/371 [==============================] - 78s 210ms/sample - loss: 43488.7853 - val_loss: 69311.5000\n",
      "Epoch 96/200\n",
      "371/371 [==============================] - 77s 208ms/sample - loss: 43699.0561 - val_loss: 69753.3672\n",
      "Epoch 97/200\n",
      "371/371 [==============================] - 86s 232ms/sample - loss: 43229.6379 - val_loss: 69487.4766\n",
      "Epoch 98/200\n",
      "371/371 [==============================] - 79s 213ms/sample - loss: 44131.5870 - val_loss: 70400.6719\n",
      "Epoch 99/200\n",
      "371/371 [==============================] - 77s 209ms/sample - loss: 43985.1121 - val_loss: 69947.4375\n",
      "Epoch 100/200\n",
      "371/371 [==============================] - 85s 230ms/sample - loss: 44453.2048 - val_loss: 69918.3359\n",
      "Epoch 101/200\n",
      "371/371 [==============================] - 80s 216ms/sample - loss: 43667.1928 - val_loss: 69567.3438\n",
      "Epoch 102/200\n",
      "371/371 [==============================] - 85s 230ms/sample - loss: 43283.7165 - val_loss: 68969.2109\n",
      "Epoch 103/200\n",
      "371/371 [==============================] - 80s 216ms/sample - loss: 43001.5519 - val_loss: 69681.1719\n",
      "Epoch 104/200\n",
      "371/371 [==============================] - 83s 224ms/sample - loss: 42747.9149 - val_loss: 68845.9844\n",
      "Epoch 105/200\n",
      "371/371 [==============================] - 81s 218ms/sample - loss: 42680.8734 - val_loss: 68878.2500\n",
      "Epoch 106/200\n",
      "371/371 [==============================] - 77s 208ms/sample - loss: 42126.9584 - val_loss: 69088.4922\n",
      "Epoch 107/200\n",
      "371/371 [==============================] - 90s 242ms/sample - loss: 42313.8044 - val_loss: 68581.0781\n",
      "Epoch 108/200\n",
      "371/371 [==============================] - 79s 212ms/sample - loss: 42047.5931 - val_loss: 68677.0625\n",
      "Epoch 109/200\n",
      "371/371 [==============================] - 76s 204ms/sample - loss: 41791.4831 - val_loss: 68756.7891\n",
      "Epoch 110/200\n",
      "371/371 [==============================] - 76s 205ms/sample - loss: 41817.9257 - val_loss: 68506.1797\n",
      "Epoch 111/200\n",
      "371/371 [==============================] - 75s 201ms/sample - loss: 41912.8592 - val_loss: 68396.0234\n",
      "Epoch 112/200\n",
      "371/371 [==============================] - 78s 210ms/sample - loss: 41421.2033 - val_loss: 67939.6172\n",
      "Epoch 113/200\n",
      "371/371 [==============================] - 76s 204ms/sample - loss: 40605.6069 - val_loss: 67894.5547\n",
      "Epoch 114/200\n",
      "371/371 [==============================] - 78s 210ms/sample - loss: 40662.9870 - val_loss: 68016.1797\n",
      "Epoch 115/200\n",
      "371/371 [==============================] - 81s 219ms/sample - loss: 40873.8149 - val_loss: 67842.1328\n",
      "Epoch 116/200\n",
      "371/371 [==============================] - 77s 209ms/sample - loss: 40526.4807 - val_loss: 67481.0469\n",
      "Epoch 117/200\n",
      "371/371 [==============================] - 80s 215ms/sample - loss: 40218.0696 - val_loss: 67366.5391\n",
      "Epoch 118/200\n",
      "371/371 [==============================] - 77s 207ms/sample - loss: 40227.5469 - val_loss: 67429.7031\n",
      "Epoch 119/200\n",
      "371/371 [==============================] - 78s 210ms/sample - loss: 39947.5511 - val_loss: 67444.6328\n",
      "Epoch 120/200\n",
      "371/371 [==============================] - 77s 208ms/sample - loss: 39674.8828 - val_loss: 67157.5859\n",
      "Epoch 121/200\n",
      "371/371 [==============================] - 77s 207ms/sample - loss: 39634.0405 - val_loss: 67398.2734\n",
      "Epoch 122/200\n",
      "371/371 [==============================] - 85s 229ms/sample - loss: 39713.5622 - val_loss: 67246.1172\n",
      "Epoch 123/200\n",
      "371/371 [==============================] - 81s 217ms/sample - loss: 39511.2378 - val_loss: 67919.8516\n",
      "Epoch 124/200\n",
      "371/371 [==============================] - 87s 234ms/sample - loss: 40049.0128 - val_loss: 67765.7266\n",
      "Epoch 125/200\n",
      "371/371 [==============================] - 74s 198ms/sample - loss: 40286.9371 - val_loss: 68165.9141\n",
      "Epoch 126/200\n",
      "371/371 [==============================] - 80s 215ms/sample - loss: 40393.7222 - val_loss: 67111.4375\n",
      "Epoch 127/200\n",
      "371/371 [==============================] - 82s 222ms/sample - loss: 39326.4040 - val_loss: 66991.6484\n",
      "Epoch 128/200\n",
      "371/371 [==============================] - 77s 208ms/sample - loss: 39083.0261 - val_loss: 67081.5156\n",
      "Epoch 129/200\n",
      "371/371 [==============================] - 75s 202ms/sample - loss: 39018.6673 - val_loss: 66950.6484\n",
      "Epoch 130/200\n",
      "371/371 [==============================] - 82s 221ms/sample - loss: 38940.7302 - val_loss: 67144.3047\n",
      "Epoch 131/200\n",
      "371/371 [==============================] - 82s 220ms/sample - loss: 38874.8525 - val_loss: 66402.6250\n",
      "Epoch 132/200\n",
      "371/371 [==============================] - 78s 210ms/sample - loss: 38154.6098 - val_loss: 66543.6641\n",
      "Epoch 133/200\n",
      "371/371 [==============================] - 86s 232ms/sample - loss: 38264.0135 - val_loss: 66581.1250\n",
      "Epoch 134/200\n",
      "371/371 [==============================] - 80s 217ms/sample - loss: 37936.6026 - val_loss: 65966.1797\n",
      "Epoch 135/200\n",
      "371/371 [==============================] - 81s 218ms/sample - loss: 37805.5842 - val_loss: 66525.9141\n",
      "Epoch 136/200\n",
      "371/371 [==============================] - 100s 271ms/sample - loss: 37703.2164 - val_loss: 65868.1484\n",
      "Epoch 137/200\n",
      "371/371 [==============================] - 85s 229ms/sample - loss: 37547.6205 - val_loss: 65836.0078\n",
      "Epoch 138/200\n",
      "371/371 [==============================] - 79s 214ms/sample - loss: 37192.9412 - val_loss: 65839.0703\n",
      "Epoch 139/200\n",
      "371/371 [==============================] - 81s 217ms/sample - loss: 36962.5685 - val_loss: 65565.2969\n",
      "Epoch 140/200\n",
      "371/371 [==============================] - 83s 225ms/sample - loss: 36915.6537 - val_loss: 65609.5938\n",
      "Epoch 141/200\n",
      "371/371 [==============================] - 77s 208ms/sample - loss: 36459.8598 - val_loss: 65755.3594\n",
      "Epoch 142/200\n",
      "371/371 [==============================] - 75s 203ms/sample - loss: 36613.7263 - val_loss: 65214.6523\n"
     ]
    },
    {
     "name": "stdout",
     "output_type": "stream",
     "text": [
      "Epoch 143/200\n",
      "371/371 [==============================] - 87s 236ms/sample - loss: 36175.2891 - val_loss: 65618.4062\n",
      "Epoch 144/200\n",
      "371/371 [==============================] - 85s 229ms/sample - loss: 36305.8566 - val_loss: 65174.6172\n",
      "Epoch 145/200\n",
      "371/371 [==============================] - 75s 203ms/sample - loss: 36259.0198 - val_loss: 65663.6953\n",
      "Epoch 146/200\n",
      "371/371 [==============================] - 76s 204ms/sample - loss: 36169.8859 - val_loss: 65407.4844\n",
      "Epoch 147/200\n",
      "371/371 [==============================] - 73s 197ms/sample - loss: 36354.0966 - val_loss: 66281.5312\n",
      "Epoch 148/200\n",
      "371/371 [==============================] - 91s 246ms/sample - loss: 36811.3944 - val_loss: 65721.1250\n",
      "Epoch 149/200\n",
      "371/371 [==============================] - 79s 214ms/sample - loss: 36770.0520 - val_loss: 66259.6641\n",
      "Epoch 150/200\n",
      "371/371 [==============================] - 74s 201ms/sample - loss: 36677.2282 - val_loss: 64944.6289\n",
      "Epoch 151/200\n",
      "371/371 [==============================] - 81s 219ms/sample - loss: 36003.3327 - val_loss: 65403.6406\n",
      "Epoch 152/200\n",
      "371/371 [==============================] - 86s 231ms/sample - loss: 35787.5033 - val_loss: 65106.4414\n",
      "Epoch 153/200\n",
      "371/371 [==============================] - 79s 212ms/sample - loss: 35580.8239 - val_loss: 64680.6289\n",
      "Epoch 154/200\n",
      "371/371 [==============================] - 83s 224ms/sample - loss: 35094.5184 - val_loss: 65358.6367\n",
      "Epoch 155/200\n",
      "371/371 [==============================] - 80s 216ms/sample - loss: 35052.1466 - val_loss: 64437.0000\n",
      "Epoch 156/200\n",
      "371/371 [==============================] - 79s 212ms/sample - loss: 34564.2432 - val_loss: 64532.5547\n",
      "Epoch 157/200\n",
      "371/371 [==============================] - 92s 248ms/sample - loss: 34474.3580 - val_loss: 64916.3398\n",
      "Epoch 158/200\n",
      "371/371 [==============================] - 91s 245ms/sample - loss: 34402.4984 - val_loss: 64146.4023\n",
      "Epoch 159/200\n",
      "371/371 [==============================] - 80s 216ms/sample - loss: 34281.2448 - val_loss: 64617.2461\n",
      "Epoch 160/200\n",
      "371/371 [==============================] - 79s 214ms/sample - loss: 34000.9940 - val_loss: 64017.0000\n",
      "Epoch 161/200\n",
      "371/371 [==============================] - 94s 253ms/sample - loss: 33868.5972 - val_loss: 64152.1641\n",
      "Epoch 162/200\n",
      "371/371 [==============================] - 79s 214ms/sample - loss: 33856.3228 - val_loss: 64182.7109\n",
      "Epoch 163/200\n",
      "371/371 [==============================] - 74s 200ms/sample - loss: 33574.5937 - val_loss: 64014.6211\n",
      "Epoch 164/200\n",
      "371/371 [==============================] - 74s 199ms/sample - loss: 33519.7028 - val_loss: 63698.7188\n",
      "Epoch 165/200\n",
      "371/371 [==============================] - 82s 222ms/sample - loss: 33349.9162 - val_loss: 64695.9375\n",
      "Epoch 166/200\n",
      "371/371 [==============================] - 81s 219ms/sample - loss: 33312.9868 - val_loss: 63678.2695\n",
      "Epoch 167/200\n",
      "371/371 [==============================] - 83s 224ms/sample - loss: 33444.1083 - val_loss: 65413.9102\n",
      "Epoch 168/200\n",
      "371/371 [==============================] - 76s 205ms/sample - loss: 33684.3735 - val_loss: 64304.1523\n",
      "Epoch 169/200\n",
      "371/371 [==============================] - 75s 203ms/sample - loss: 34088.5079 - val_loss: 65628.2969\n",
      "Epoch 170/200\n",
      "371/371 [==============================] - 87s 234ms/sample - loss: 34411.1200 - val_loss: 63963.2500\n",
      "Epoch 171/200\n",
      "371/371 [==============================] - 80s 215ms/sample - loss: 33298.7131 - val_loss: 64287.3594\n",
      "Epoch 172/200\n",
      "371/371 [==============================] - 82s 220ms/sample - loss: 32805.4950 - val_loss: 63839.8633\n",
      "Epoch 173/200\n",
      "371/371 [==============================] - 85s 230ms/sample - loss: 32872.8407 - val_loss: 63906.2266\n",
      "Epoch 174/200\n",
      "371/371 [==============================] - 84s 226ms/sample - loss: 32579.6356 - val_loss: 63891.6836\n",
      "Epoch 175/200\n",
      "371/371 [==============================] - 80s 215ms/sample - loss: 32020.2551 - val_loss: 63443.7031\n",
      "Epoch 176/200\n",
      "371/371 [==============================] - 97s 262ms/sample - loss: 32043.7295 - val_loss: 63614.1680\n",
      "Epoch 177/200\n",
      "371/371 [==============================] - 88s 238ms/sample - loss: 31800.6575 - val_loss: 63382.9375\n",
      "Epoch 178/200\n",
      "371/371 [==============================] - 79s 213ms/sample - loss: 31676.2599 - val_loss: 63002.2891\n",
      "Epoch 179/200\n",
      "371/371 [==============================] - 85s 228ms/sample - loss: 31446.0709 - val_loss: 63464.9922\n",
      "Epoch 180/200\n",
      "371/371 [==============================] - 96s 260ms/sample - loss: 31547.5345 - val_loss: 63013.8672\n",
      "Epoch 181/200\n",
      "371/371 [==============================] - 81s 219ms/sample - loss: 30934.7670 - val_loss: 62847.8945\n",
      "Epoch 182/200\n",
      "371/371 [==============================] - 89s 239ms/sample - loss: 30801.1664 - val_loss: 63255.4102\n",
      "Epoch 183/200\n",
      "371/371 [==============================] - 83s 225ms/sample - loss: 30671.3506 - val_loss: 62844.1250\n",
      "Epoch 184/200\n",
      "371/371 [==============================] - 84s 227ms/sample - loss: 30611.8933 - val_loss: 62884.5664\n",
      "Epoch 185/200\n",
      "371/371 [==============================] - 85s 230ms/sample - loss: 30386.6201 - val_loss: 63027.5234\n",
      "Epoch 186/200\n",
      "371/371 [==============================] - 92s 248ms/sample - loss: 30330.5937 - val_loss: 62360.5352\n",
      "Epoch 187/200\n",
      "371/371 [==============================] - 82s 221ms/sample - loss: 30264.2462 - val_loss: 63131.8945\n",
      "Epoch 188/200\n",
      "371/371 [==============================] - 89s 239ms/sample - loss: 30201.0964 - val_loss: 62290.3281\n",
      "Epoch 189/200\n",
      "371/371 [==============================] - 83s 225ms/sample - loss: 30061.2502 - val_loss: 63215.9766\n",
      "Epoch 190/200\n",
      "371/371 [==============================] - 78s 210ms/sample - loss: 29899.8526 - val_loss: 62078.3008\n",
      "Epoch 191/200\n",
      "371/371 [==============================] - 90s 244ms/sample - loss: 29971.6317 - val_loss: 63678.2266\n",
      "Epoch 192/200\n",
      "371/371 [==============================] - 90s 243ms/sample - loss: 30319.4620 - val_loss: 62311.6094\n",
      "Epoch 193/200\n",
      "371/371 [==============================] - 82s 221ms/sample - loss: 30720.9928 - val_loss: 65011.5898\n",
      "Epoch 194/200\n",
      "371/371 [==============================] - 80s 216ms/sample - loss: 31510.9164 - val_loss: 62535.2461\n",
      "Epoch 195/200\n",
      "371/371 [==============================] - 80s 215ms/sample - loss: 31068.8905 - val_loss: 63391.5664\n",
      "Epoch 196/200\n",
      "371/371 [==============================] - 81s 219ms/sample - loss: 30463.4650 - val_loss: 62502.4609\n",
      "Epoch 197/200\n",
      "371/371 [==============================] - 77s 209ms/sample - loss: 29732.9024 - val_loss: 61959.6172\n",
      "Epoch 198/200\n",
      "371/371 [==============================] - 96s 258ms/sample - loss: 29550.9231 - val_loss: 62963.0195\n",
      "Epoch 199/200\n",
      "371/371 [==============================] - 79s 214ms/sample - loss: 29364.5330 - val_loss: 61948.4336\n",
      "Epoch 200/200\n",
      "371/371 [==============================] - 84s 227ms/sample - loss: 28887.1989 - val_loss: 62367.5859\n"
     ]
    }
   ],
   "source": [
    "# Learning\n",
    "# Finally, we train the model:\n",
    "history = vae_model.fit(X_train, X_train, \n",
    "                        shuffle=True, \n",
    "                        epochs=epochs, \n",
    "                        batch_size=256, \n",
    "                        validation_data=(X_test, X_test))\n",
    "#history = vae_model.fit(X_train, X_train,\n",
    "#                        shuffle=True,\n",
    "#                        epochs=10,\n",
    "#                        batch_size=256)\n",
    "\n",
    "vae_model.save_weights('vae_thyroid.h5')"
   ]
  },
  {
   "cell_type": "code",
   "execution_count": 23,
   "id": "4db2e36a",
   "metadata": {},
   "outputs": [
    {
     "data": {
      "image/png": "[encoded data removed]",
      "text/plain": [
       "<Figure size 432x288 with 1 Axes>"
      ]
     },
     "metadata": {
      "needs_background": "light"
     },
     "output_type": "display_data"
    }
   ],
   "source": [
    "# plot loss history\n",
    "loss = history.history['loss']\n",
    "val_loss = history.history['val_loss']\n",
    "epochs = range(len(loss))\n",
    "\n",
    "plt.figure()\n",
    "plt.plot(epochs, loss, label='Training loss')\n",
    "plt.plot(epochs, val_loss, label='Validation loss')\n",
    "plt.xlabel('Epochs')\n",
    "plt.ylabel('Loss')\n",
    "plt.title('Training and validation loss')\n",
    "plt.legend(['Training loss', 'Validation loss'], loc='upper right');\n",
    "plt.show()\n"
   ]
  },
  {
   "cell_type": "code",
   "execution_count": 24,
   "id": "b2b0d3fe",
   "metadata": {},
   "outputs": [],
   "source": [
    "score = vae_model.evaluate(X_test, X_test, verbose = 1)"
   ]
  },
  {
   "cell_type": "code",
   "execution_count": 25,
   "id": "b0b855c7",
   "metadata": {},
   "outputs": [
    {
     "name": "stdout",
     "output_type": "stream",
     "text": [
      "Test Loss: 13826.114214819183\n"
     ]
    }
   ],
   "source": [
    "print('Test Loss:', score)"
   ]
  },
  {
   "cell_type": "code",
   "execution_count": 26,
   "id": "636aaac1",
   "metadata": {},
   "outputs": [
    {
     "name": "stderr",
     "output_type": "stream",
     "text": [
      "C:\\Users\\Innocent SADO\\Anaconda3\\envs\\Master2\\lib\\site-packages\\keras\\engine\\training_v1.py:2079: UserWarning: `Model.state_updates` will be removed in a future version. This property should not be used in TensorFlow 2.0, as `updates` are applied automatically.\n",
      "  updates=self.state_updates,\n"
     ]
    }
   ],
   "source": [
    "#mae_vector = get_error_term(X_pred, X_test)#, _rmse=False)\n",
    "\n",
    "# Code to predict the anomalies based on the threshold\n",
    "\n",
    "\n",
    "y_pred = vae_model.predict(X_test)\n",
    "y_dist = np.linalg.norm(X_test - y_pred, axis = -1)\n",
    "threshold = np.quantile(y_dist, 0.75)\n",
    "#threshold = 37.5\n",
    "\n",
    "z = zip(y_dist >= threshold, y_dist)\n",
    "y_label=[]\n",
    "error = []\n",
    "for idx, (is_anomaly, y_dist) in enumerate(z):\n",
    "    if is_anomaly:\n",
    "        y_label.append(1)\n",
    "    else:\n",
    "        y_label.append(0)\n",
    "    error.append(y_dist)"
   ]
  },
  {
   "cell_type": "code",
   "execution_count": 27,
   "id": "676c91b7",
   "metadata": {},
   "outputs": [
    {
     "data": {
      "text/plain": [
       "21.002866280061717"
      ]
     },
     "execution_count": 27,
     "metadata": {},
     "output_type": "execute_result"
    }
   ],
   "source": [
    "threshold"
   ]
  },
  {
   "cell_type": "code",
   "execution_count": 28,
   "id": "0bf87f52",
   "metadata": {},
   "outputs": [
    {
     "data": {
      "text/plain": [
       "0.925531914893617"
      ]
     },
     "execution_count": 28,
     "metadata": {},
     "output_type": "execute_result"
    }
   ],
   "source": [
    "#Code to calculate AUC\n",
    "from sklearn.metrics import confusion_matrix, roc_auc_score\n",
    "\n",
    "roc_auc_score(y_test, y_label)"
   ]
  },
  {
   "cell_type": "code",
   "execution_count": 29,
   "id": "c26f81f4",
   "metadata": {},
   "outputs": [
    {
     "data": {
      "image/png": "[encoded data removed]",
      "text/plain": [
       "<Figure size 720x576 with 2 Axes>"
      ]
     },
     "metadata": {
      "needs_background": "light"
     },
     "output_type": "display_data"
    }
   ],
   "source": [
    "# Code to show the confusion matrix\n",
    "\n",
    "viz = Visualization()\n",
    "viz.draw_confusion_matrix(y_test, y_label)"
   ]
  },
  {
   "cell_type": "code",
   "execution_count": 30,
   "id": "8df136b2",
   "metadata": {},
   "outputs": [
    {
     "name": "stdout",
     "output_type": "stream",
     "text": [
      "              precision    recall  f1-score   support\n",
      "\n",
      "           0       0.94      1.00      0.97       112\n",
      "           1       1.00      0.85      0.92        47\n",
      "\n",
      "    accuracy                           0.96       159\n",
      "   macro avg       0.97      0.93      0.94       159\n",
      "weighted avg       0.96      0.96      0.95       159\n",
      "\n"
     ]
    }
   ],
   "source": [
    "from sklearn.metrics import classification_report\n",
    "\n",
    "print(classification_report(y_test, y_label))"
   ]
  },
  {
   "cell_type": "code",
   "execution_count": 31,
   "id": "c961f3a0",
   "metadata": {},
   "outputs": [
    {
     "name": "stdout",
     "output_type": "stream",
     "text": [
      "AUC: 92.55%\n",
      "\n",
      "F1_score: 91.95%\n",
      "\n",
      "Accuracy: 95.60%\n",
      "\n",
      "Precision: 100.00%\n",
      "\n",
      "Recall: 85.11%\n",
      "\n",
      "Specificity: 100.00%\n",
      "\n"
     ]
    }
   ],
   "source": [
    "from sklearn import metrics\n",
    "\n",
    "#y_pred =  (mae_vector > error_thresh).astype('int').ravel()\n",
    "y_pred =  y_label\n",
    "AUC = metrics.roc_auc_score(y_test, y_pred)\n",
    "F1 = metrics.f1_score(y_test, y_pred)\n",
    "Accuracy = metrics.accuracy_score(y_test, y_pred)\n",
    "Precision = metrics.precision_score(y_test, y_pred)\n",
    "Recall = metrics.recall_score(y_test, y_pred)\n",
    "tn, fp, fn, tp = metrics.confusion_matrix(y_test, y_pred).ravel()\n",
    "Specificity = tn / (tn+fp)\n",
    "\n",
    "print(\"AUC: {:.2%}\\n\".format(AUC))\n",
    "print(\"F1_score: {:.2%}\\n\".format(F1))\n",
    "print(\"Accuracy: {:.2%}\\n\".format(Accuracy))\n",
    "print(\"Precision: {:.2%}\\n\".format(Precision))\n",
    "print(\"Recall: {:.2%}\\n\".format(Recall))\n",
    "print(\"Specificity: {:.2%}\\n\".format(Specificity))"
   ]
  }
 ],
 "metadata": {
  "kernelspec": {
   "display_name": "Python 3 (ipykernel)",
   "language": "python",
   "name": "python3"
  },
  "language_info": {
   "codemirror_mode": {
    "name": "ipython",
    "version": 3
   },
   "file_extension": ".py",
   "mimetype": "text/x-python",
   "name": "python",
   "nbconvert_exporter": "python",
   "pygments_lexer": "ipython3",
   "version": "3.8.13"
  }
 },
 "nbformat": 4,
 "nbformat_minor": 5
}
