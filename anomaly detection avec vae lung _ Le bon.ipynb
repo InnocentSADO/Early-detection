{
 "cells": [
  {
   "cell_type": "code",
   "execution_count": 1,
   "id": "5cb618f2",
   "metadata": {},
   "outputs": [],
   "source": [
    "from datetime import datetime\n",
    "import matplotlib.pyplot as plt\n",
    "import numpy as np\n",
    "import pandas as pd\n",
    "import random as rd\n",
    "\n",
    "\n",
    "import tensorflow as tf\n",
    "tf.compat.v1.disable_eager_execution()\n",
    "from tensorflow.keras.models import Model, load_model\n",
    "from tensorflow.keras.layers import Lambda, Input, Dense\n",
    "from tensorflow.keras.losses import mse, binary_crossentropy, kl_divergence\n",
    "from tensorflow.keras import optimizers\n",
    "from keras.utils.vis_utils import plot_model\n",
    "from tensorflow.keras import backend as K\n",
    "\n",
    "from sklearn.model_selection import train_test_split\n",
    "from sklearn.preprocessing import MinMaxScaler, StandardScaler, PowerTransformer\n",
    "\n",
    "import seaborn as sns\n",
    "import matplotlib.pyplot as plt\n",
    "\n",
    "%matplotlib inline"
   ]
  },
  {
   "cell_type": "code",
   "execution_count": 2,
   "id": "0d53a566",
   "metadata": {},
   "outputs": [],
   "source": [
    "#Function to read data from file\n",
    "def get_data(din):\n",
    "    bf = pd.read_csv(din,sep='\\t')\n",
    "    genes = bf['Hugo_Symbol']\n",
    "    cols = list(bf.columns)\n",
    "    cols.remove('Entrez_Gene_Id')\n",
    "    cols.remove('Hugo_Symbol')\n",
    "    bf = bf[cols]\n",
    "    bf = bf.transpose()\n",
    "    bf.columns = genes\n",
    "    return bf\n",
    "\n",
    "def getDataset(din1, din2, din3):\n",
    "    normal1 = get_data(din1)\n",
    "    normal2 = get_data(din2)\n",
    "    abnormal = get_data(din3)\n",
    "    common_gene = set(list(normal1.columns)).intersection(set(list(normal2.columns))).intersection(set(list(abnormal.columns)))\n",
    "    common_gene = list(common_gene)\n",
    "    normal1 = normal1[common_gene]\n",
    "    normal2 = normal2[common_gene]\n",
    "    abnormal = abnormal[common_gene]\n",
    "    #abnormal = list(abnormal)\n",
    "    \n",
    "    X_train = pd.concat( [normal1, normal2] ).values\n",
    "    \n",
    "    abnormal = abnormal.values.tolist()\n",
    "    normal1 = normal1.values.tolist()\n",
    "    \n",
    "    abnormal = list(np.float_(abnormal))\n",
    "    normal1 = list(np.float_(normal1))\n",
    "    \n",
    "    abnormal = rd.SystemRandom().sample(abnormal, 48)\n",
    "    normal1 = rd.SystemRandom().sample(normal1, 112)\n",
    "    \n",
    "    abnormal = pd.DataFrame(abnormal)\n",
    "    normal1 = pd.DataFrame(normal1)\n",
    "    \n",
    "    #X_train = np.random.shuffle(X_train) \n",
    "    X_test = pd.concat( [normal1, abnormal] ).values\n",
    "    y_test = np.zeros(len(X_test), dtype=int)\n",
    "    y_test[len(normal1):] = 1\n",
    "    \n",
    "\n",
    "    \n",
    "    X_train = np.asarray(X_train)\n",
    "    X_test = np.asarray(X_test)\n",
    "    y_test = np.asarray(y_test)\n",
    "                \n",
    "\n",
    "    return X_train, X_test, y_test"
   ]
  },
  {
   "cell_type": "code",
   "execution_count": 3,
   "id": "ed1de1e1",
   "metadata": {},
   "outputs": [],
   "source": [
    "# Code to visualize the results\n",
    "\n",
    "class Visualization:\n",
    "    labels = [\"Normal\",\"Anomal\"]\n",
    "    \n",
    "    def draw_confusion_matrix(self, y, y_pred):\n",
    "        matrix = confusion_matrix(y, y_pred)\n",
    "        \n",
    "        plt.figure(figsize=(10,8))\n",
    "        colors = [\"orange\",\"green\"]\n",
    "        sns.heatmap(matrix, xticklabels=self.labels, yticklabels=self.labels, cmap=colors, annot=True, fmt=\"d\")\n",
    "        plt.title(\"Confusion Matrix\")\n",
    "        plt.ylabel(\"Actual\")\n",
    "        plt.xlabel(\"Predicted\")\n",
    "        plt.show()\n",
    "        \n",
    "    def draw_anomaly(self, y, error, treshold):\n",
    "        groupsDF = pd.DataFrame({'error':error,'true':y}).groupby('true')\n",
    "        \n",
    "        figure,axes = plt.subplots(figsize=(12,8))\n",
    "        \n",
    "        for name, group in groupsDF:\n",
    "            axes.plot(group.index, group.error, marker='x' if name == 1 else 'o', linestyle='',\n",
    "                     color='r' if name ==1 else 'g', label=\"Anomaly\" if name == 1 else \"Normal\")\n",
    "            \n",
    "        axes.hlines(treshold, axes.get_xlim()[0], axes.get_xlim()[1], colors='b', zorder = 100, label = 'Treshold')\n",
    "        axes.legend()\n",
    "            \n",
    "        plt.title(\"Anomalies\")\n",
    "        plt.ylabel(\"Error\")\n",
    "        plt.xlabel(\"Data\")\n",
    "        plt.show()\n",
    "        \n",
    "    def draw_error(self, error, treshold):\n",
    "        plt.plot(error, marker='o', ms=3.5, linestyle='', label='Point')\n",
    "        \n",
    "        plt.hlines(treshold, xmin=0, xmax=len(error)-1, colors=\"b\", zorder=100, label='Treshold')\n",
    "        plt.legend()\n",
    "        plt.title(\"Reconstruction error\")\n",
    "        plt.ylabel(\"Error\")\n",
    "        plt.xlabel(\"Data\")\n",
    "        plt.show()\n",
    "    "
   ]
  },
  {
   "cell_type": "code",
   "execution_count": 4,
   "id": "8d213bbf",
   "metadata": {},
   "outputs": [],
   "source": [
    "din1 = 'data/lung-rsem-fpkm-gtex.txt'\n",
    "din2 = 'data/luad-rsem-fpkm-tcga.txt'\n",
    "din3 = 'data/luad-rsem-fpkm-tcga-t.txt'\n",
    "\n",
    "X_train, X_test, y_test = getDataset(din1, din2, din3)\n"
   ]
  },
  {
   "cell_type": "code",
   "execution_count": 5,
   "id": "102aa441",
   "metadata": {},
   "outputs": [],
   "source": [
    "from numpy import savetxt\n",
    "\n",
    "savetxt('dataset/x_train_luad.csv', X_train, delimiter='\\t')\n",
    "savetxt('dataset/x_test_luad.csv', X_test, delimiter='\\t')\n",
    "savetxt('dataset/y_test_luad.csv', y_test, delimiter='\\t')\n",
    "\n"
   ]
  },
  {
   "cell_type": "code",
   "execution_count": 6,
   "id": "546feb5f",
   "metadata": {},
   "outputs": [],
   "source": [
    "scaler = MinMaxScaler()\n",
    "X_train = scaler.fit_transform(X_train)\n",
    "X_test = scaler.fit_transform(X_test)\n"
   ]
  },
  {
   "cell_type": "code",
   "execution_count": null,
   "id": "b0c805f0",
   "metadata": {},
   "outputs": [],
   "source": []
  },
  {
   "cell_type": "code",
   "execution_count": 7,
   "id": "6996bcdd",
   "metadata": {},
   "outputs": [
    {
     "name": "stdout",
     "output_type": "stream",
     "text": [
      "[[0.37164293 0.21506771 0.00445513 ... 0.26066139 0.28530252 0.16021602]\n",
      " [0.14980035 0.39223728 0.00410256 ... 0.34566522 0.9648202  0.20882088]\n",
      " [0.11345158 0.57447158 0.00503205 ... 0.70335163 0.20176465 0.10193519]\n",
      " ...\n",
      " [0.24993328 0.01521929 0.         ... 0.32422114 0.01442435 0.09653465]\n",
      " [0.30657701 0.12790577 0.00692308 ... 0.39179648 0.10020265 0.25416292]\n",
      " [0.63616157 0.01715295 0.01035256 ... 0.26066139 0.49095646 0.16876688]]\n"
     ]
    }
   ],
   "source": [
    "print(X_test)"
   ]
  },
  {
   "cell_type": "code",
   "execution_count": 8,
   "id": "e3db7c50",
   "metadata": {},
   "outputs": [
    {
     "data": {
      "text/plain": [
       "(372, 19648)"
      ]
     },
     "execution_count": 8,
     "metadata": {},
     "output_type": "execute_result"
    }
   ],
   "source": [
    "X_train.shape"
   ]
  },
  {
   "cell_type": "code",
   "execution_count": 9,
   "id": "3ed3d95e",
   "metadata": {},
   "outputs": [
    {
     "data": {
      "text/plain": [
       "(160, 19648)"
      ]
     },
     "execution_count": 9,
     "metadata": {},
     "output_type": "execute_result"
    }
   ],
   "source": [
    "X_test.shape"
   ]
  },
  {
   "cell_type": "code",
   "execution_count": 10,
   "id": "d385d0c6",
   "metadata": {},
   "outputs": [
    {
     "name": "stdout",
     "output_type": "stream",
     "text": [
      "[0 0 0 0 0 0 0 0 0 0 0 0 0 0 0 0 0 0 0 0 0 0 0 0 0 0 0 0 0 0 0 0 0 0 0 0 0\n",
      " 0 0 0 0 0 0 0 0 0 0 0 0 0 0 0 0 0 0 0 0 0 0 0 0 0 0 0 0 0 0 0 0 0 0 0 0 0\n",
      " 0 0 0 0 0 0 0 0 0 0 0 0 0 0 0 0 0 0 0 0 0 0 0 0 0 0 0 0 0 0 0 0 0 0 0 0 0\n",
      " 0 1 1 1 1 1 1 1 1 1 1 1 1 1 1 1 1 1 1 1 1 1 1 1 1 1 1 1 1 1 1 1 1 1 1 1 1\n",
      " 1 1 1 1 1 1 1 1 1 1 1 1]\n"
     ]
    }
   ],
   "source": [
    "print(y_test)"
   ]
  },
  {
   "cell_type": "code",
   "execution_count": 11,
   "id": "ac3abc31",
   "metadata": {},
   "outputs": [],
   "source": [
    "def get_error_term(v1, v2, _rmse=True):\n",
    "    if _rmse:\n",
    "        return np.sqrt(np.mean((v1 - v2) ** 2, axis=1))\n",
    "    #return MAE\n",
    "    return np.mean(abs(v1 - v2), axis=1)"
   ]
  },
  {
   "cell_type": "code",
   "execution_count": 12,
   "id": "9ac29f5d",
   "metadata": {},
   "outputs": [],
   "source": [
    "# The reparameterization trick\n",
    "\n",
    "def sample(args):\n",
    "    z_mean, z_log_var = args\n",
    "    batch = K.shape(z_mean)[0]\n",
    "    dim = K.int_shape(z_mean)[1]\n",
    "    epsilon = K.random_normal(shape=(batch, dim))\n",
    "    return z_mean + K.exp(0.5 * z_log_var) * epsilon"
   ]
  },
  {
   "cell_type": "code",
   "execution_count": 13,
   "id": "ddb8680a",
   "metadata": {},
   "outputs": [],
   "source": [
    "original_dim = X_train.shape[1]\n",
    "input_shape = (original_dim,)\n",
    "intermediate_dim = int(original_dim / 2)\n",
    "latent_dim = int(original_dim / 3)"
   ]
  },
  {
   "cell_type": "raw",
   "id": "240b7c0d",
   "metadata": {},
   "source": [
    "# encoder model\n",
    "inputs = Input(shape=input_shape, name='encoder_input')\n",
    "x = Dense(intermediate_dim, activation='relu')(inputs)\n",
    "z_mean = Dense(latent_dim, name='z_mean')(x)\n",
    "z_log_var = Dense(latent_dim, name='z_log_var')(x)\n",
    "# use the reparameterization trick and get the output from the sample() function\n",
    "z = Lambda(sample, output_shape=(latent_dim,), name='z')([z_mean, z_log_var])\n",
    "encoder = Model(inputs, z, name='encoder')\n",
    "encoder.summary()"
   ]
  },
  {
   "cell_type": "code",
   "execution_count": 14,
   "id": "367e3742",
   "metadata": {},
   "outputs": [
    {
     "name": "stdout",
     "output_type": "stream",
     "text": [
      "Model: \"encoder\"\n",
      "__________________________________________________________________________________________________\n",
      " Layer (type)                   Output Shape         Param #     Connected to                     \n",
      "==================================================================================================\n",
      " encoder_input (InputLayer)     [(None, 19648)]      0           []                               \n",
      "                                                                                                  \n",
      " dense (Dense)                  (None, 9824)         193031776   ['encoder_input[0][0]']          \n",
      "                                                                                                  \n",
      " z_mean (Dense)                 (None, 6549)         64343925    ['dense[0][0]']                  \n",
      "                                                                                                  \n",
      " z_log_var (Dense)              (None, 6549)         64343925    ['dense[0][0]']                  \n",
      "                                                                                                  \n",
      " z (Lambda)                     (None, 6549)         0           ['z_mean[0][0]',                 \n",
      "                                                                  'z_log_var[0][0]']              \n",
      "                                                                                                  \n",
      "==================================================================================================\n",
      "Total params: 321,719,626\n",
      "Trainable params: 321,719,626\n",
      "Non-trainable params: 0\n",
      "__________________________________________________________________________________________________\n"
     ]
    }
   ],
   "source": [
    "# encoder model\n",
    "inputs = Input(shape=input_shape, name='encoder_input')\n",
    "x = Dense(intermediate_dim, activation='relu')(inputs)\n",
    "z_mean = Dense(latent_dim, name='z_mean')(x)\n",
    "z_log_var = Dense(latent_dim, name='z_log_var')(x)\n",
    "\n",
    "# sampling \n",
    "z = Lambda(sample, output_shape=(latent_dim,), name='z')([z_mean, z_log_var]) \n",
    "\n",
    "# instantiate encoder model\n",
    "encoder = Model(inputs, z, name='encoder')\n",
    "encoder.summary()"
   ]
  },
  {
   "cell_type": "code",
   "execution_count": 15,
   "id": "8a95e17f",
   "metadata": {},
   "outputs": [
    {
     "data": {
      "image/png": "[encoded data removed]",
      "text/plain": [
       "<IPython.core.display.Image object>"
      ]
     },
     "execution_count": 15,
     "metadata": {},
     "output_type": "execute_result"
    }
   ],
   "source": [
    "plot_model(encoder, to_file='vae_mlp_encoder.png', show_shapes=True)"
   ]
  },
  {
   "cell_type": "code",
   "execution_count": 16,
   "id": "74f61e01",
   "metadata": {},
   "outputs": [
    {
     "name": "stdout",
     "output_type": "stream",
     "text": [
      "Model: \"decoder\"\n",
      "_________________________________________________________________\n",
      " Layer (type)                Output Shape              Param #   \n",
      "=================================================================\n",
      " z_sampling (InputLayer)     [(None, 6549)]            0         \n",
      "                                                                 \n",
      " dense_1 (Dense)             (None, 9824)              64347200  \n",
      "                                                                 \n",
      " dense_2 (Dense)             (None, 19648)             193041600 \n",
      "                                                                 \n",
      "=================================================================\n",
      "Total params: 257,388,800\n",
      "Trainable params: 257,388,800\n",
      "Non-trainable params: 0\n",
      "_________________________________________________________________\n"
     ]
    }
   ],
   "source": [
    "# decoder model\n",
    "latent_inputs = Input(shape=(latent_dim,), name='z_sampling')\n",
    "x = Dense(intermediate_dim, activation='relu')(latent_inputs)\n",
    "outputs = Dense(original_dim, activation='sigmoid')(x)\n",
    "# Instantiate the decoder model:\n",
    "decoder = Model(latent_inputs, outputs, name='decoder')\n",
    "decoder.summary()"
   ]
  },
  {
   "cell_type": "code",
   "execution_count": 17,
   "id": "96ca5008",
   "metadata": {},
   "outputs": [
    {
     "data": {
      "image/png": "[encoded data removed]",
      "text/plain": [
       "<IPython.core.display.Image object>"
      ]
     },
     "execution_count": 17,
     "metadata": {},
     "output_type": "execute_result"
    }
   ],
   "source": [
    "plot_model(decoder, to_file='vae_mlp_decoder.png', show_shapes=True)"
   ]
  },
  {
   "cell_type": "code",
   "execution_count": 18,
   "id": "ce62c389",
   "metadata": {},
   "outputs": [],
   "source": [
    "# full VAE model\n",
    "outputs = decoder(encoder(inputs))\n",
    "vae_model = Model(inputs, outputs, name='vae_mlp')"
   ]
  },
  {
   "cell_type": "code",
   "execution_count": 19,
   "id": "16ae91fe",
   "metadata": {},
   "outputs": [
    {
     "data": {
      "image/png": "[encoded data removed]",
      "text/plain": [
       "<IPython.core.display.Image object>"
      ]
     },
     "execution_count": 19,
     "metadata": {},
     "output_type": "execute_result"
    }
   ],
   "source": [
    "plot_model(vae_model, to_file='vae_mlp_model.png', show_shapes=True)"
   ]
  },
  {
   "cell_type": "code",
   "execution_count": 20,
   "id": "8293a3c7",
   "metadata": {},
   "outputs": [],
   "source": [
    "# the KL loss function:\n",
    "def vae_loss(x, x_decoded_mean):\n",
    "    # compute the average MSE error, then scale it up, ie. simply sum on all axes\n",
    "    reconstruction_loss = K.sum(K.square(x - x_decoded_mean))\n",
    "    # compute the KL loss\n",
    "    kl_loss = - 0.5 * K.sum(1 + z_log_var - K.square(z_mean) - K.square(K.exp(z_log_var)), axis=-1)\n",
    "    # return the average loss over all \n",
    "    total_loss = K.mean(reconstruction_loss + kl_loss)    \n",
    "    #total_loss = reconstruction_loss + kl_loss\n",
    "    return total_loss"
   ]
  },
  {
   "cell_type": "code",
   "execution_count": 21,
   "id": "1685a48f",
   "metadata": {},
   "outputs": [
    {
     "name": "stdout",
     "output_type": "stream",
     "text": [
      "Model: \"vae_mlp\"\n",
      "_________________________________________________________________\n",
      " Layer (type)                Output Shape              Param #   \n",
      "=================================================================\n",
      " encoder_input (InputLayer)  [(None, 19648)]           0         \n",
      "                                                                 \n",
      " encoder (Functional)        (None, 6549)              321719626 \n",
      "                                                                 \n",
      " decoder (Functional)        (None, 19648)             257388800 \n",
      "                                                                 \n",
      "=================================================================\n",
      "Total params: 579,108,426\n",
      "Trainable params: 579,108,426\n",
      "Non-trainable params: 0\n",
      "_________________________________________________________________\n"
     ]
    }
   ],
   "source": [
    "#opt = optimizers.Adam(learning_rate=0.01)\n",
    "\n",
    "\n",
    "epochs = 200\n",
    "learning_rate = 0.0001\n",
    "decay_rate = learning_rate / epochs\n",
    "#opt = optimizers.RMSprop(learning_rate=learning_rate, decay=decay_rate)\n",
    "opt = optimizers.Adam(learning_rate=learning_rate, decay=decay_rate)\n",
    "vae_model.compile(optimizer=opt, loss=vae_loss)\n",
    "\n",
    "#vae_model.compile(optimizer='adam',\n",
    "#                  loss=vae_loss)\n",
    "\n",
    "vae_model.summary()"
   ]
  },
  {
   "cell_type": "code",
   "execution_count": 22,
   "id": "7e78913c",
   "metadata": {
    "scrolled": false
   },
   "outputs": [
    {
     "name": "stdout",
     "output_type": "stream",
     "text": [
      "Train on 372 samples, validate on 160 samples\n",
      "Epoch 1/200\n",
      "372/372 [==============================] - ETA: 0s - loss: 589494.8421 "
     ]
    },
    {
     "name": "stderr",
     "output_type": "stream",
     "text": [
      "C:\\Users\\Innocent SADO\\Anaconda3\\envs\\Master2\\lib\\site-packages\\keras\\engine\\training_v1.py:2057: UserWarning: `Model.state_updates` will be removed in a future version. This property should not be used in TensorFlow 2.0, as `updates` are applied automatically.\n",
      "  updates = self.state_updates\n"
     ]
    },
    {
     "name": "stdout",
     "output_type": "stream",
     "text": [
      "372/372 [==============================] - 138s 372ms/sample - loss: 589494.8421 - val_loss: 186549.7500\n",
      "Epoch 2/200\n",
      "372/372 [==============================] - 94s 253ms/sample - loss: 217805.0370 - val_loss: 179886.4844\n",
      "Epoch 3/200\n",
      "372/372 [==============================] - 83s 224ms/sample - loss: 194433.3961 - val_loss: 149672.7969\n",
      "Epoch 4/200\n",
      "372/372 [==============================] - 81s 219ms/sample - loss: 143483.0344 - val_loss: 116538.6016\n",
      "Epoch 5/200\n",
      "372/372 [==============================] - 411s 1s/sample - loss: 110810.1972 - val_loss: 107441.3359\n",
      "Epoch 6/200\n",
      "372/372 [==============================] - 89s 238ms/sample - loss: 106047.9994 - val_loss: 102969.6484\n",
      "Epoch 7/200\n",
      "372/372 [==============================] - 66s 178ms/sample - loss: 101379.3482 - val_loss: 102206.4453\n",
      "Epoch 8/200\n",
      "372/372 [==============================] - 72s 192ms/sample - loss: 97866.7262 - val_loss: 98711.5625\n",
      "Epoch 9/200\n",
      "372/372 [==============================] - 72s 192ms/sample - loss: 93023.1268 - val_loss: 97483.5859\n",
      "Epoch 10/200\n",
      "372/372 [==============================] - 76s 205ms/sample - loss: 89830.3337 - val_loss: 97102.8359\n",
      "Epoch 11/200\n",
      "372/372 [==============================] - 74s 198ms/sample - loss: 90291.7773 - val_loss: 95872.6016\n",
      "Epoch 12/200\n",
      "372/372 [==============================] - 66s 179ms/sample - loss: 88779.9983 - val_loss: 94606.1719\n",
      "Epoch 13/200\n",
      "372/372 [==============================] - 80s 214ms/sample - loss: 86442.5512 - val_loss: 93779.2578\n",
      "Epoch 14/200\n",
      "372/372 [==============================] - 67s 179ms/sample - loss: 85432.5226 - val_loss: 92482.4609\n",
      "Epoch 15/200\n",
      "372/372 [==============================] - 71s 192ms/sample - loss: 83604.5897 - val_loss: 91214.5391\n",
      "Epoch 16/200\n",
      "372/372 [==============================] - 69s 185ms/sample - loss: 81635.2388 - val_loss: 89812.9219\n",
      "Epoch 17/200\n",
      "372/372 [==============================] - 66s 178ms/sample - loss: 78725.9753 - val_loss: 88345.7812\n",
      "Epoch 18/200\n",
      "372/372 [==============================] - 71s 191ms/sample - loss: 77117.1075 - val_loss: 87496.3750\n",
      "Epoch 19/200\n",
      "372/372 [==============================] - 68s 181ms/sample - loss: 75760.6683 - val_loss: 86843.5703\n",
      "Epoch 20/200\n",
      "372/372 [==============================] - 64s 173ms/sample - loss: 74536.3279 - val_loss: 85873.5000\n",
      "Epoch 21/200\n",
      "372/372 [==============================] - 68s 182ms/sample - loss: 72639.1426 - val_loss: 85558.8359\n",
      "Epoch 22/200\n",
      "372/372 [==============================] - 70s 189ms/sample - loss: 72084.9874 - val_loss: 84854.0078\n",
      "Epoch 23/200\n",
      "372/372 [==============================] - 66s 177ms/sample - loss: 69705.6623 - val_loss: 83896.2891\n",
      "Epoch 24/200\n",
      "372/372 [==============================] - 69s 186ms/sample - loss: 69190.6552 - val_loss: 83372.2344\n",
      "Epoch 25/200\n",
      "372/372 [==============================] - 67s 181ms/sample - loss: 69402.0911 - val_loss: 82690.9531\n",
      "Epoch 26/200\n",
      "372/372 [==============================] - 65s 176ms/sample - loss: 68260.6320 - val_loss: 82146.8750\n",
      "Epoch 27/200\n",
      "372/372 [==============================] - 62s 167ms/sample - loss: 67882.2494 - val_loss: 81871.6094\n",
      "Epoch 28/200\n",
      "372/372 [==============================] - 68s 181ms/sample - loss: 66442.1638 - val_loss: 81272.4219\n",
      "Epoch 29/200\n",
      "372/372 [==============================] - 64s 173ms/sample - loss: 64911.3468 - val_loss: 80839.8594\n",
      "Epoch 30/200\n",
      "372/372 [==============================] - 65s 174ms/sample - loss: 64381.9323 - val_loss: 80360.5234\n",
      "Epoch 31/200\n",
      "372/372 [==============================] - 65s 174ms/sample - loss: 64069.4473 - val_loss: 79840.7031\n",
      "Epoch 32/200\n",
      "372/372 [==============================] - 64s 173ms/sample - loss: 62639.4090 - val_loss: 79250.5000\n",
      "Epoch 33/200\n",
      "372/372 [==============================] - 69s 185ms/sample - loss: 62211.9896 - val_loss: 79059.3594\n",
      "Epoch 34/200\n",
      "372/372 [==============================] - 66s 178ms/sample - loss: 62392.2969 - val_loss: 78325.3906\n",
      "Epoch 35/200\n",
      "372/372 [==============================] - 62s 167ms/sample - loss: 62423.2491 - val_loss: 78804.3594\n",
      "Epoch 36/200\n",
      "372/372 [==============================] - 68s 183ms/sample - loss: 60653.6210 - val_loss: 77809.8281\n",
      "Epoch 37/200\n",
      "372/372 [==============================] - 66s 176ms/sample - loss: 60139.7828 - val_loss: 79507.7656\n",
      "Epoch 38/200\n",
      "372/372 [==============================] - 63s 169ms/sample - loss: 62427.8343 - val_loss: 77192.6719\n",
      "Epoch 39/200\n",
      "372/372 [==============================] - 66s 179ms/sample - loss: 60443.5798 - val_loss: 76513.2734\n",
      "Epoch 40/200\n",
      "372/372 [==============================] - 73s 197ms/sample - loss: 58892.9965 - val_loss: 75566.6641\n",
      "Epoch 41/200\n",
      "372/372 [==============================] - 67s 181ms/sample - loss: 58415.3470 - val_loss: 75081.8828\n",
      "Epoch 42/200\n",
      "372/372 [==============================] - 72s 194ms/sample - loss: 56456.8332 - val_loss: 74922.8750\n",
      "Epoch 43/200\n",
      "372/372 [==============================] - 75s 202ms/sample - loss: 56445.2123 - val_loss: 73976.1250\n",
      "Epoch 44/200\n",
      "372/372 [==============================] - 83s 223ms/sample - loss: 55487.4672 - val_loss: 73628.1641\n",
      "Epoch 45/200\n",
      "372/372 [==============================] - 66s 177ms/sample - loss: 55101.2039 - val_loss: 73636.5078\n",
      "Epoch 46/200\n",
      "372/372 [==============================] - 72s 195ms/sample - loss: 54643.2675 - val_loss: 72913.5078\n",
      "Epoch 47/200\n",
      "372/372 [==============================] - 68s 184ms/sample - loss: 54284.4691 - val_loss: 72396.1875\n",
      "Epoch 48/200\n",
      "372/372 [==============================] - 75s 200ms/sample - loss: 54138.0659 - val_loss: 72500.0859\n",
      "Epoch 49/200\n",
      "372/372 [==============================] - 72s 194ms/sample - loss: 53829.6064 - val_loss: 71919.2500\n",
      "Epoch 50/200\n",
      "372/372 [==============================] - 79s 212ms/sample - loss: 52568.4371 - val_loss: 71567.8594\n",
      "Epoch 51/200\n",
      "372/372 [==============================] - 72s 195ms/sample - loss: 52672.2103 - val_loss: 71599.4766\n",
      "Epoch 52/200\n",
      "372/372 [==============================] - 73s 197ms/sample - loss: 52233.8457 - val_loss: 71086.1719\n",
      "Epoch 53/200\n",
      "372/372 [==============================] - 76s 203ms/sample - loss: 51834.6859 - val_loss: 70635.5156\n",
      "Epoch 54/200\n",
      "372/372 [==============================] - 68s 184ms/sample - loss: 51699.3926 - val_loss: 71035.6641\n",
      "Epoch 55/200\n",
      "372/372 [==============================] - 81s 217ms/sample - loss: 51154.3651 - val_loss: 70351.5625\n",
      "Epoch 56/200\n",
      "372/372 [==============================] - 76s 204ms/sample - loss: 51291.9111 - val_loss: 71601.4062\n",
      "Epoch 57/200\n",
      "372/372 [==============================] - 68s 182ms/sample - loss: 51159.2744 - val_loss: 71194.7109\n",
      "Epoch 58/200\n",
      "372/372 [==============================] - 79s 213ms/sample - loss: 52467.1371 - val_loss: 71415.0000\n",
      "Epoch 59/200\n",
      "372/372 [==============================] - 84s 227ms/sample - loss: 51783.1315 - val_loss: 69044.9844\n",
      "Epoch 60/200\n",
      "372/372 [==============================] - 110s 295ms/sample - loss: 49829.2481 - val_loss: 68892.6406\n",
      "Epoch 61/200\n",
      "372/372 [==============================] - 102s 275ms/sample - loss: 49399.1704 - val_loss: 69324.0234\n",
      "Epoch 62/200\n",
      "372/372 [==============================] - 78s 211ms/sample - loss: 49996.4935 - val_loss: 67938.0000\n",
      "Epoch 63/200\n",
      "372/372 [==============================] - 73s 195ms/sample - loss: 48019.5606 - val_loss: 67877.9219\n",
      "Epoch 64/200\n",
      "372/372 [==============================] - 78s 210ms/sample - loss: 48522.4590 - val_loss: 68177.9844\n",
      "Epoch 65/200\n",
      "372/372 [==============================] - 69s 186ms/sample - loss: 47771.5746 - val_loss: 67010.0156\n",
      "Epoch 66/200\n",
      "372/372 [==============================] - 68s 182ms/sample - loss: 46678.9225 - val_loss: 67133.9219\n",
      "Epoch 67/200\n",
      "372/372 [==============================] - 66s 177ms/sample - loss: 46990.0108 - val_loss: 67230.3906\n",
      "Epoch 68/200\n",
      "372/372 [==============================] - 71s 191ms/sample - loss: 46700.5458 - val_loss: 66316.2031\n",
      "Epoch 69/200\n",
      "372/372 [==============================] - 75s 202ms/sample - loss: 45918.2265 - val_loss: 66709.2500\n",
      "Epoch 70/200\n",
      "372/372 [==============================] - 70s 189ms/sample - loss: 45516.7017 - val_loss: 66475.1641\n",
      "Epoch 71/200\n",
      "372/372 [==============================] - 75s 202ms/sample - loss: 45686.8399 - val_loss: 66015.6953\n",
      "Epoch 72/200\n"
     ]
    },
    {
     "name": "stdout",
     "output_type": "stream",
     "text": [
      "372/372 [==============================] - 76s 205ms/sample - loss: 45448.0562 - val_loss: 66177.2734\n",
      "Epoch 73/200\n",
      "372/372 [==============================] - 67s 180ms/sample - loss: 45034.0136 - val_loss: 65844.8281\n",
      "Epoch 74/200\n",
      "372/372 [==============================] - 68s 182ms/sample - loss: 45070.8736 - val_loss: 65583.9219\n",
      "Epoch 75/200\n",
      "372/372 [==============================] - 79s 212ms/sample - loss: 44560.0244 - val_loss: 65699.3516\n",
      "Epoch 76/200\n",
      "372/372 [==============================] - 65s 176ms/sample - loss: 44248.7528 - val_loss: 65097.9609\n",
      "Epoch 77/200\n",
      "372/372 [==============================] - 66s 179ms/sample - loss: 43766.7988 - val_loss: 65217.6484\n",
      "Epoch 78/200\n",
      "372/372 [==============================] - 73s 196ms/sample - loss: 43685.0541 - val_loss: 64922.4883\n",
      "Epoch 79/200\n",
      "372/372 [==============================] - 77s 208ms/sample - loss: 43483.7623 - val_loss: 64895.5703\n",
      "Epoch 80/200\n",
      "372/372 [==============================] - 73s 198ms/sample - loss: 43272.0441 - val_loss: 64676.7930\n",
      "Epoch 81/200\n",
      "372/372 [==============================] - 68s 184ms/sample - loss: 43213.9522 - val_loss: 64548.3203\n",
      "Epoch 82/200\n",
      "372/372 [==============================] - 87s 234ms/sample - loss: 42701.2325 - val_loss: 64271.9688\n",
      "Epoch 83/200\n",
      "372/372 [==============================] - 71s 192ms/sample - loss: 42414.2693 - val_loss: 64381.1016\n",
      "Epoch 84/200\n",
      "372/372 [==============================] - 92s 247ms/sample - loss: 42399.7502 - val_loss: 63995.9688\n",
      "Epoch 85/200\n",
      "372/372 [==============================] - 72s 195ms/sample - loss: 42164.5253 - val_loss: 64105.5117\n",
      "Epoch 86/200\n",
      "372/372 [==============================] - 83s 222ms/sample - loss: 41811.8742 - val_loss: 63597.4375\n",
      "Epoch 87/200\n",
      "372/372 [==============================] - 67s 180ms/sample - loss: 41597.8372 - val_loss: 63985.2695\n",
      "Epoch 88/200\n",
      "372/372 [==============================] - 66s 178ms/sample - loss: 41773.0977 - val_loss: 63412.8242\n",
      "Epoch 89/200\n",
      "372/372 [==============================] - 72s 193ms/sample - loss: 41846.0260 - val_loss: 64367.1016\n",
      "Epoch 90/200\n",
      "372/372 [==============================] - 74s 199ms/sample - loss: 41491.6627 - val_loss: 63457.7734\n",
      "Epoch 91/200\n",
      "372/372 [==============================] - 71s 190ms/sample - loss: 42108.2604 - val_loss: 65012.0625\n",
      "Epoch 92/200\n",
      "372/372 [==============================] - 65s 174ms/sample - loss: 42094.0831 - val_loss: 63185.1484\n",
      "Epoch 93/200\n",
      "372/372 [==============================] - 76s 204ms/sample - loss: 41818.1855 - val_loss: 63386.9258\n",
      "Epoch 94/200\n",
      "372/372 [==============================] - 74s 199ms/sample - loss: 40870.5849 - val_loss: 63058.8359\n",
      "Epoch 95/200\n",
      "372/372 [==============================] - 71s 190ms/sample - loss: 41015.4693 - val_loss: 62959.5859\n",
      "Epoch 96/200\n",
      "372/372 [==============================] - 69s 187ms/sample - loss: 40853.4354 - val_loss: 63023.9062\n",
      "Epoch 97/200\n",
      "372/372 [==============================] - 73s 196ms/sample - loss: 40132.5996 - val_loss: 62202.1992\n",
      "Epoch 98/200\n",
      "372/372 [==============================] - 66s 177ms/sample - loss: 39945.9966 - val_loss: 62116.8008\n",
      "Epoch 99/200\n",
      "372/372 [==============================] - 70s 189ms/sample - loss: 39226.0290 - val_loss: 62516.1250\n",
      "Epoch 100/200\n",
      "372/372 [==============================] - 78s 211ms/sample - loss: 39251.3443 - val_loss: 61859.7734\n",
      "Epoch 101/200\n",
      "372/372 [==============================] - 76s 205ms/sample - loss: 38932.2202 - val_loss: 61996.0508\n",
      "Epoch 102/200\n",
      "372/372 [==============================] - 79s 213ms/sample - loss: 38756.7874 - val_loss: 62017.8203\n",
      "Epoch 103/200\n",
      "372/372 [==============================] - 78s 209ms/sample - loss: 38605.0468 - val_loss: 61586.0117\n",
      "Epoch 104/200\n",
      "372/372 [==============================] - 71s 191ms/sample - loss: 37942.1236 - val_loss: 61436.2109\n",
      "Epoch 105/200\n",
      "372/372 [==============================] - 79s 213ms/sample - loss: 38361.9545 - val_loss: 61611.8008\n",
      "Epoch 106/200\n",
      "372/372 [==============================] - 71s 191ms/sample - loss: 37802.2235 - val_loss: 61111.1016\n",
      "Epoch 107/200\n",
      "372/372 [==============================] - 66s 177ms/sample - loss: 37982.2982 - val_loss: 61882.4375\n",
      "Epoch 108/200\n",
      "372/372 [==============================] - 67s 180ms/sample - loss: 37738.3411 - val_loss: 60901.7422\n",
      "Epoch 109/200\n",
      "372/372 [==============================] - 66s 178ms/sample - loss: 37790.9179 - val_loss: 62236.5430\n",
      "Epoch 110/200\n",
      "372/372 [==============================] - 73s 196ms/sample - loss: 37745.5355 - val_loss: 61038.0234\n",
      "Epoch 111/200\n",
      "372/372 [==============================] - 77s 207ms/sample - loss: 37509.8668 - val_loss: 62171.3203\n",
      "Epoch 112/200\n",
      "372/372 [==============================] - 72s 193ms/sample - loss: 38101.1701 - val_loss: 60923.8438\n",
      "Epoch 113/200\n",
      "372/372 [==============================] - 67s 180ms/sample - loss: 37434.9294 - val_loss: 61389.5117\n",
      "Epoch 114/200\n",
      "372/372 [==============================] - 72s 192ms/sample - loss: 36584.7502 - val_loss: 60377.5742\n",
      "Epoch 115/200\n",
      "372/372 [==============================] - 66s 178ms/sample - loss: 36303.8600 - val_loss: 60483.5859\n",
      "Epoch 116/200\n",
      "372/372 [==============================] - 71s 192ms/sample - loss: 36190.5702 - val_loss: 60330.9805\n",
      "Epoch 117/200\n",
      "372/372 [==============================] - 80s 215ms/sample - loss: 36371.7623 - val_loss: 60003.8047\n",
      "Epoch 118/200\n",
      "372/372 [==============================] - 69s 185ms/sample - loss: 36031.9409 - val_loss: 60520.1016\n",
      "Epoch 119/200\n",
      "372/372 [==============================] - 66s 178ms/sample - loss: 35518.4655 - val_loss: 59836.0625\n",
      "Epoch 120/200\n",
      "372/372 [==============================] - 72s 194ms/sample - loss: 35582.8604 - val_loss: 60475.1250\n",
      "Epoch 121/200\n",
      "372/372 [==============================] - 81s 218ms/sample - loss: 35390.1942 - val_loss: 59878.2305\n",
      "Epoch 122/200\n",
      "372/372 [==============================] - 79s 212ms/sample - loss: 35207.1912 - val_loss: 60049.4922\n",
      "Epoch 123/200\n",
      "372/372 [==============================] - 65s 175ms/sample - loss: 35018.2666 - val_loss: 59749.5742\n",
      "Epoch 124/200\n",
      "372/372 [==============================] - 72s 194ms/sample - loss: 34915.9687 - val_loss: 59810.2617\n",
      "Epoch 125/200\n",
      "372/372 [==============================] - 74s 198ms/sample - loss: 34409.9612 - val_loss: 59764.6016\n",
      "Epoch 126/200\n",
      "372/372 [==============================] - 72s 193ms/sample - loss: 34579.1493 - val_loss: 59917.4062\n",
      "Epoch 127/200\n",
      "372/372 [==============================] - 67s 181ms/sample - loss: 34713.9503 - val_loss: 59493.4688\n",
      "Epoch 128/200\n",
      "372/372 [==============================] - 64s 173ms/sample - loss: 34382.7917 - val_loss: 59965.4492\n",
      "Epoch 129/200\n",
      "372/372 [==============================] - 67s 179ms/sample - loss: 34534.6164 - val_loss: 59373.2383\n",
      "Epoch 130/200\n",
      "372/372 [==============================] - 65s 176ms/sample - loss: 34546.0486 - val_loss: 60448.6953\n",
      "Epoch 131/200\n",
      "372/372 [==============================] - 68s 183ms/sample - loss: 34527.9294 - val_loss: 59155.8438\n",
      "Epoch 132/200\n",
      "372/372 [==============================] - 71s 191ms/sample - loss: 34734.7061 - val_loss: 61057.4375\n",
      "Epoch 133/200\n",
      "372/372 [==============================] - 67s 181ms/sample - loss: 35210.9441 - val_loss: 59014.0117\n",
      "Epoch 134/200\n",
      "372/372 [==============================] - 72s 194ms/sample - loss: 34781.7828 - val_loss: 60383.8125\n",
      "Epoch 135/200\n",
      "372/372 [==============================] - 67s 181ms/sample - loss: 34783.5212 - val_loss: 58447.9141\n",
      "Epoch 136/200\n",
      "372/372 [==============================] - 67s 179ms/sample - loss: 33707.4165 - val_loss: 58600.2109\n",
      "Epoch 137/200\n",
      "372/372 [==============================] - 64s 172ms/sample - loss: 33357.5953 - val_loss: 59077.7930\n",
      "Epoch 138/200\n",
      "372/372 [==============================] - 68s 182ms/sample - loss: 33648.4433 - val_loss: 58284.9180\n",
      "Epoch 139/200\n",
      "372/372 [==============================] - 67s 179ms/sample - loss: 33440.0840 - val_loss: 58973.7109\n",
      "Epoch 140/200\n",
      "372/372 [==============================] - 68s 183ms/sample - loss: 33309.2299 - val_loss: 58512.1680\n",
      "Epoch 141/200\n",
      "372/372 [==============================] - 71s 192ms/sample - loss: 32360.3776 - val_loss: 58645.1016\n",
      "Epoch 142/200\n",
      "372/372 [==============================] - 75s 201ms/sample - loss: 32522.7774 - val_loss: 58847.4141\n"
     ]
    },
    {
     "name": "stdout",
     "output_type": "stream",
     "text": [
      "Epoch 143/200\n",
      "372/372 [==============================] - 68s 184ms/sample - loss: 32253.5306 - val_loss: 58276.1367\n",
      "Epoch 144/200\n",
      "372/372 [==============================] - 68s 181ms/sample - loss: 32289.6901 - val_loss: 58811.5820\n",
      "Epoch 145/200\n",
      "372/372 [==============================] - 69s 184ms/sample - loss: 32101.3738 - val_loss: 58063.8125\n",
      "Epoch 146/200\n",
      "372/372 [==============================] - 68s 182ms/sample - loss: 31988.3944 - val_loss: 58803.4883\n",
      "Epoch 147/200\n",
      "372/372 [==============================] - 75s 202ms/sample - loss: 32089.5123 - val_loss: 57939.3203\n",
      "Epoch 148/200\n",
      "372/372 [==============================] - 71s 192ms/sample - loss: 32163.2545 - val_loss: 58769.3242\n",
      "Epoch 149/200\n",
      "372/372 [==============================] - 73s 196ms/sample - loss: 31683.8374 - val_loss: 57714.7266\n",
      "Epoch 150/200\n",
      "372/372 [==============================] - 70s 187ms/sample - loss: 31622.5819 - val_loss: 58906.1758\n",
      "Epoch 151/200\n",
      "372/372 [==============================] - 68s 183ms/sample - loss: 31370.3394 - val_loss: 57628.0820\n",
      "Epoch 152/200\n",
      "372/372 [==============================] - 74s 200ms/sample - loss: 31450.3579 - val_loss: 58835.7109\n",
      "Epoch 153/200\n",
      "372/372 [==============================] - 73s 195ms/sample - loss: 31433.5192 - val_loss: 57495.2617\n",
      "Epoch 154/200\n",
      "372/372 [==============================] - 71s 190ms/sample - loss: 31148.2565 - val_loss: 58716.3242\n",
      "Epoch 155/200\n",
      "372/372 [==============================] - 73s 196ms/sample - loss: 31088.2233 - val_loss: 57273.1016\n",
      "Epoch 156/200\n",
      "372/372 [==============================] - 89s 239ms/sample - loss: 30987.7590 - val_loss: 58665.8828\n",
      "Epoch 157/200\n",
      "372/372 [==============================] - 77s 207ms/sample - loss: 31115.2110 - val_loss: 57362.7891\n",
      "Epoch 158/200\n",
      "372/372 [==============================] - 74s 200ms/sample - loss: 30861.7314 - val_loss: 58374.9883\n",
      "Epoch 159/200\n",
      "372/372 [==============================] - 71s 191ms/sample - loss: 30728.9224 - val_loss: 57244.5000\n",
      "Epoch 160/200\n",
      "372/372 [==============================] - 72s 192ms/sample - loss: 30751.2648 - val_loss: 58050.6445\n",
      "Epoch 161/200\n",
      "372/372 [==============================] - 70s 187ms/sample - loss: 30286.6693 - val_loss: 56978.2109\n",
      "Epoch 162/200\n",
      "372/372 [==============================] - 71s 190ms/sample - loss: 29873.4579 - val_loss: 57513.2422\n",
      "Epoch 163/200\n",
      "372/372 [==============================] - 73s 195ms/sample - loss: 29921.5397 - val_loss: 57185.2383\n",
      "Epoch 164/200\n",
      "372/372 [==============================] - 69s 185ms/sample - loss: 29676.6104 - val_loss: 57577.6641\n",
      "Epoch 165/200\n",
      "372/372 [==============================] - 69s 185ms/sample - loss: 29601.9519 - val_loss: 57291.6328\n",
      "Epoch 166/200\n",
      "372/372 [==============================] - 70s 189ms/sample - loss: 29605.0463 - val_loss: 57436.4883\n",
      "Epoch 167/200\n",
      "372/372 [==============================] - 72s 195ms/sample - loss: 29386.4939 - val_loss: 57275.8047\n",
      "Epoch 168/200\n",
      "372/372 [==============================] - 81s 218ms/sample - loss: 29160.0893 - val_loss: 57228.4297\n",
      "Epoch 169/200\n",
      "372/372 [==============================] - 76s 205ms/sample - loss: 29042.9087 - val_loss: 57423.9609\n",
      "Epoch 170/200\n",
      "372/372 [==============================] - 70s 188ms/sample - loss: 28752.8137 - val_loss: 56754.8555\n",
      "Epoch 171/200\n",
      "372/372 [==============================] - 86s 231ms/sample - loss: 28665.2935 - val_loss: 57931.1758\n",
      "Epoch 172/200\n",
      "372/372 [==============================] - 85s 229ms/sample - loss: 28848.6655 - val_loss: 56446.8008\n",
      "Epoch 173/200\n",
      "372/372 [==============================] - 81s 218ms/sample - loss: 29010.6153 - val_loss: 59442.9258\n",
      "Epoch 174/200\n",
      "372/372 [==============================] - 77s 207ms/sample - loss: 29568.3696 - val_loss: 56552.3867\n",
      "Epoch 175/200\n",
      "372/372 [==============================] - 73s 196ms/sample - loss: 30203.8057 - val_loss: 60621.6250\n",
      "Epoch 176/200\n",
      "372/372 [==============================] - 71s 191ms/sample - loss: 31280.0263 - val_loss: 56408.6367\n",
      "Epoch 177/200\n",
      "372/372 [==============================] - 74s 200ms/sample - loss: 29988.1749 - val_loss: 56457.3359\n",
      "Epoch 178/200\n",
      "372/372 [==============================] - 82s 220ms/sample - loss: 28646.3986 - val_loss: 57325.7695\n",
      "Epoch 179/200\n",
      "372/372 [==============================] - 75s 203ms/sample - loss: 28824.3219 - val_loss: 55715.6367\n",
      "Epoch 180/200\n",
      "372/372 [==============================] - 77s 206ms/sample - loss: 28708.6912 - val_loss: 56392.7070\n",
      "Epoch 181/200\n",
      "372/372 [==============================] - 78s 210ms/sample - loss: 27927.7164 - val_loss: 56652.6016\n",
      "Epoch 182/200\n",
      "372/372 [==============================] - 80s 214ms/sample - loss: 27779.4260 - val_loss: 56122.5742\n",
      "Epoch 183/200\n",
      "372/372 [==============================] - 69s 187ms/sample - loss: 27724.2272 - val_loss: 56719.7109\n",
      "Epoch 184/200\n",
      "372/372 [==============================] - 70s 187ms/sample - loss: 27711.3322 - val_loss: 56473.7500\n",
      "Epoch 185/200\n",
      "372/372 [==============================] - 74s 198ms/sample - loss: 27532.1197 - val_loss: 56558.1133\n",
      "Epoch 186/200\n",
      "372/372 [==============================] - 70s 188ms/sample - loss: 27146.8940 - val_loss: 56249.3203\n",
      "Epoch 187/200\n",
      "372/372 [==============================] - 66s 178ms/sample - loss: 26889.1895 - val_loss: 56415.6172\n",
      "Epoch 188/200\n",
      "372/372 [==============================] - 80s 216ms/sample - loss: 27284.9747 - val_loss: 56031.8633\n",
      "Epoch 189/200\n",
      "372/372 [==============================] - 74s 200ms/sample - loss: 26774.3307 - val_loss: 56359.4492\n",
      "Epoch 190/200\n",
      "372/372 [==============================] - 77s 207ms/sample - loss: 26712.2698 - val_loss: 55868.6016\n",
      "Epoch 191/200\n",
      "372/372 [==============================] - 78s 210ms/sample - loss: 26464.5556 - val_loss: 56222.2734\n",
      "Epoch 192/200\n",
      "372/372 [==============================] - 75s 201ms/sample - loss: 26257.4085 - val_loss: 56140.3867\n",
      "Epoch 193/200\n",
      "372/372 [==============================] - 90s 241ms/sample - loss: 26222.5558 - val_loss: 55999.6016\n",
      "Epoch 194/200\n",
      "372/372 [==============================] - 110s 295ms/sample - loss: 25960.8662 - val_loss: 56184.5703\n",
      "Epoch 195/200\n",
      "372/372 [==============================] - 86s 230ms/sample - loss: 26011.2145 - val_loss: 56422.5000\n",
      "Epoch 196/200\n",
      "372/372 [==============================] - 97s 261ms/sample - loss: 25906.9920 - val_loss: 55876.3867\n",
      "Epoch 197/200\n",
      "372/372 [==============================] - 86s 230ms/sample - loss: 25780.5040 - val_loss: 56728.4805\n",
      "Epoch 198/200\n",
      "372/372 [==============================] - 97s 261ms/sample - loss: 25736.7151 - val_loss: 55487.2109\n",
      "Epoch 199/200\n",
      "372/372 [==============================] - 107s 288ms/sample - loss: 25484.6602 - val_loss: 56818.0859\n",
      "Epoch 200/200\n",
      "372/372 [==============================] - 81s 218ms/sample - loss: 25626.2690 - val_loss: 55235.7383\n"
     ]
    }
   ],
   "source": [
    "# Learning\n",
    "# Finally, we train the model:\n",
    "history = vae_model.fit(X_train, X_train, \n",
    "                        shuffle=True, \n",
    "                        epochs=epochs, \n",
    "                        batch_size=256, \n",
    "                        validation_data=(X_test, X_test))\n",
    "#history = vae_model.fit(X_train, X_train,\n",
    "#                        shuffle=True,\n",
    "#                        epochs=10,\n",
    "#                        batch_size=256)\n",
    "\n",
    "vae_model.save_weights('vae_lung.h5')"
   ]
  },
  {
   "cell_type": "code",
   "execution_count": 23,
   "id": "4db2e36a",
   "metadata": {},
   "outputs": [
    {
     "data": {
      "image/png": "[encoded data removed]",
      "text/plain": [
       "<Figure size 432x288 with 1 Axes>"
      ]
     },
     "metadata": {
      "needs_background": "light"
     },
     "output_type": "display_data"
    }
   ],
   "source": [
    "# plot loss history\n",
    "loss = history.history['loss']\n",
    "val_loss = history.history['val_loss']\n",
    "epochs = range(len(loss))\n",
    "\n",
    "plt.figure()\n",
    "plt.plot(epochs, loss, label='Training loss')\n",
    "plt.plot(epochs, val_loss, label='Validation loss')\n",
    "plt.xlabel('Epochs')\n",
    "plt.ylabel('Loss')\n",
    "plt.title('Training and validation loss')\n",
    "plt.legend(['Training loss', 'Validation loss'], loc='upper right');\n",
    "plt.show()\n"
   ]
  },
  {
   "cell_type": "code",
   "execution_count": 24,
   "id": "b2b0d3fe",
   "metadata": {},
   "outputs": [],
   "source": [
    "score = vae_model.evaluate(X_test, X_test, verbose = 1)"
   ]
  },
  {
   "cell_type": "code",
   "execution_count": 25,
   "id": "b0b855c7",
   "metadata": {},
   "outputs": [
    {
     "name": "stdout",
     "output_type": "stream",
     "text": [
      "Test Loss: 11980.4271484375\n"
     ]
    }
   ],
   "source": [
    "print('Test Loss:', score)"
   ]
  },
  {
   "cell_type": "code",
   "execution_count": 26,
   "id": "636aaac1",
   "metadata": {},
   "outputs": [
    {
     "name": "stderr",
     "output_type": "stream",
     "text": [
      "C:\\Users\\Innocent SADO\\Anaconda3\\envs\\Master2\\lib\\site-packages\\keras\\engine\\training_v1.py:2079: UserWarning: `Model.state_updates` will be removed in a future version. This property should not be used in TensorFlow 2.0, as `updates` are applied automatically.\n",
      "  updates=self.state_updates,\n"
     ]
    }
   ],
   "source": [
    "#mae_vector = get_error_term(X_pred, X_test)#, _rmse=False)\n",
    "\n",
    "# Code to predict the anomalies based on the threshold\n",
    "\n",
    "\n",
    "y_pred = vae_model.predict(X_test)\n",
    "y_dist = np.linalg.norm(X_test - y_pred, axis = -1)\n",
    "threshold = np.quantile(y_dist, 0.75)\n",
    "#threshold = 37.5\n",
    "\n",
    "z = zip(y_dist >= threshold, y_dist)\n",
    "y_label=[]\n",
    "error = []\n",
    "for idx, (is_anomaly, y_dist) in enumerate(z):\n",
    "    if is_anomaly:\n",
    "        y_label.append(1)\n",
    "    else:\n",
    "        y_label.append(0)\n",
    "    error.append(y_dist)"
   ]
  },
  {
   "cell_type": "code",
   "execution_count": 27,
   "id": "676c91b7",
   "metadata": {},
   "outputs": [
    {
     "data": {
      "text/plain": [
       "18.694277999132293"
      ]
     },
     "execution_count": 27,
     "metadata": {},
     "output_type": "execute_result"
    }
   ],
   "source": [
    "threshold"
   ]
  },
  {
   "cell_type": "code",
   "execution_count": 28,
   "id": "0bf87f52",
   "metadata": {},
   "outputs": [
    {
     "data": {
      "text/plain": [
       "0.8869047619047618"
      ]
     },
     "execution_count": 28,
     "metadata": {},
     "output_type": "execute_result"
    }
   ],
   "source": [
    "#Code to calculate AUC\n",
    "from sklearn.metrics import confusion_matrix, roc_auc_score\n",
    "\n",
    "roc_auc_score(y_test, y_label)"
   ]
  },
  {
   "cell_type": "code",
   "execution_count": 29,
   "id": "c26f81f4",
   "metadata": {},
   "outputs": [
    {
     "data": {
      "image/png": "[encoded data removed]",
      "text/plain": [
       "<Figure size 720x576 with 2 Axes>"
      ]
     },
     "metadata": {
      "needs_background": "light"
     },
     "output_type": "display_data"
    }
   ],
   "source": [
    "# Code to show the confusion matrix\n",
    "\n",
    "viz = Visualization()\n",
    "viz.draw_confusion_matrix(y_test, y_label)"
   ]
  },
  {
   "cell_type": "code",
   "execution_count": 30,
   "id": "8df136b2",
   "metadata": {},
   "outputs": [
    {
     "name": "stdout",
     "output_type": "stream",
     "text": [
      "              precision    recall  f1-score   support\n",
      "\n",
      "           0       0.92      0.98      0.95       112\n",
      "           1       0.95      0.79      0.86        48\n",
      "\n",
      "    accuracy                           0.93       160\n",
      "   macro avg       0.93      0.89      0.91       160\n",
      "weighted avg       0.93      0.93      0.92       160\n",
      "\n"
     ]
    }
   ],
   "source": [
    "from sklearn.metrics import classification_report\n",
    "\n",
    "print(classification_report(y_test, y_label))"
   ]
  },
  {
   "cell_type": "code",
   "execution_count": 31,
   "id": "c961f3a0",
   "metadata": {},
   "outputs": [
    {
     "name": "stdout",
     "output_type": "stream",
     "text": [
      "AUC: 88.69%\n",
      "\n",
      "F1_score: 86.36%\n",
      "\n",
      "Accuracy: 92.50%\n",
      "\n",
      "Precision: 95.00%\n",
      "\n",
      "Recall: 79.17%\n",
      "\n",
      "Specificity: 98.21%\n",
      "\n"
     ]
    }
   ],
   "source": [
    "from sklearn import metrics\n",
    "\n",
    "#y_pred =  (mae_vector > error_thresh).astype('int').ravel()\n",
    "y_pred =  y_label\n",
    "AUC = metrics.roc_auc_score(y_test, y_pred)\n",
    "F1 = metrics.f1_score(y_test, y_pred)\n",
    "Accuracy = metrics.accuracy_score(y_test, y_pred)\n",
    "Precision = metrics.precision_score(y_test, y_pred)\n",
    "Recall = metrics.recall_score(y_test, y_pred)\n",
    "tn, fp, fn, tp = metrics.confusion_matrix(y_test, y_pred).ravel()\n",
    "Specificity = tn / (tn+fp)\n",
    "\n",
    "print(\"AUC: {:.2%}\\n\".format(AUC))\n",
    "print(\"F1_score: {:.2%}\\n\".format(F1))\n",
    "print(\"Accuracy: {:.2%}\\n\".format(Accuracy))\n",
    "print(\"Precision: {:.2%}\\n\".format(Precision))\n",
    "print(\"Recall: {:.2%}\\n\".format(Recall))\n",
    "print(\"Specificity: {:.2%}\\n\".format(Specificity))"
   ]
  }
 ],
 "metadata": {
  "kernelspec": {
   "display_name": "Python 3 (ipykernel)",
   "language": "python",
   "name": "python3"
  },
  "language_info": {
   "codemirror_mode": {
    "name": "ipython",
    "version": 3
   },
   "file_extension": ".py",
   "mimetype": "text/x-python",
   "name": "python",
   "nbconvert_exporter": "python",
   "pygments_lexer": "ipython3",
   "version": "3.8.13"
  }
 },
 "nbformat": 4,
 "nbformat_minor": 5
}
