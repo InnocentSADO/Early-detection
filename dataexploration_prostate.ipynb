{
 "cells": [
  {
   "cell_type": "code",
   "execution_count": 1,
   "id": "5cb618f2",
   "metadata": {},
   "outputs": [],
   "source": [
    "from datetime import datetime\n",
    "import matplotlib.pyplot as plt\n",
    "import numpy as np\n",
    "import pandas as pd\n",
    "import random as rd\n",
    "\n",
    "\n",
    "from sklearn.model_selection import train_test_split\n",
    "from sklearn.preprocessing import MinMaxScaler, StandardScaler, PowerTransformer\n",
    "\n",
    "import seaborn as sns\n",
    "import matplotlib.pyplot as plt\n",
    "\n",
    "%matplotlib inline"
   ]
  },
  {
   "cell_type": "code",
   "execution_count": 2,
   "id": "965c6c6b",
   "metadata": {},
   "outputs": [],
   "source": [
    "#Function to read data from file\n",
    "def get_data(din):\n",
    "    bf = pd.read_csv(din,sep='\\t')\n",
    "    genes = bf['Hugo_Symbol']\n",
    "    cols = list(bf.columns)\n",
    "    cols.remove('Entrez_Gene_Id')\n",
    "    cols.remove('Hugo_Symbol')\n",
    "    bf = bf[cols]\n",
    "    bf = bf.transpose()\n",
    "    bf.columns = genes\n",
    "    return bf\n",
    "\n",
    "def getDataset(din1, din2, din3):\n",
    "    normal1 = get_data(din1)\n",
    "    normal2 = get_data(din2)\n",
    "    abnormal = get_data(din3)\n",
    "    common_gene = set(list(normal1.columns)).intersection(set(list(normal2.columns))).intersection(set(list(abnormal.columns)))\n",
    "    common_gene = list(common_gene)\n",
    "    normal1 = normal1[common_gene]\n",
    "    normal2 = normal2[common_gene]\n",
    "    abnormal = abnormal[common_gene]\n",
    "    #abnormal = list(abnormal)\n",
    "    \n",
    "    X_train = pd.concat( [normal1, normal2] )#.values\n",
    "    \n",
    "    #abnormal = abnormal.values.tolist()\n",
    "    #normal1 = normal1.values.tolist()\n",
    "    \n",
    "    #abnormal = list(np.float_(abnormal))\n",
    "    #normal1 = list(np.float_(normal1))\n",
    "    \n",
    "    #abnormal = rd.SystemRandom().sample(abnormal, 25)\n",
    "    #normal1 = rd.SystemRandom().sample(normal1, 65)\n",
    "    \n",
    "    #abnormal = pd.DataFrame(abnormal)\n",
    "    #normal1 = pd.DataFrame(normal1)\n",
    "    \n",
    "    #X_train = np.random.shuffle(X_train) \n",
    "    X_test = pd.concat( [normal1, abnormal] )#.values\n",
    "    #y_test = np.zeros(len(X_test), dtype=int)\n",
    "    #y_test[len(normal1):] = 1\n",
    "    \n",
    "\n",
    "    \n",
    "    #X_train = np.asarray(X_train)\n",
    "    #X_test = np.asarray(X_test)\n",
    "    #y_test = np.asarray(y_test)\n",
    "                \n",
    "\n",
    "    return X_train, X_test#, y_test"
   ]
  },
  {
   "cell_type": "code",
   "execution_count": 3,
   "id": "5129d0f3",
   "metadata": {
    "scrolled": true
   },
   "outputs": [],
   "source": [
    "din1 = 'data/prostate-rsem-fpkm-gtex.txt'\n",
    "din2 = 'data/prad-rsem-fpkm-tcga.txt'\n",
    "din3 = 'data/prad-rsem-fpkm-tcga-t.txt'"
   ]
  },
  {
   "cell_type": "code",
   "execution_count": 4,
   "id": "755adf5b",
   "metadata": {},
   "outputs": [],
   "source": [
    "X_train, X_test = getDataset(din1, din2, din3)"
   ]
  },
  {
   "cell_type": "code",
   "execution_count": null,
   "id": "54c2a65e",
   "metadata": {},
   "outputs": [],
   "source": []
  },
  {
   "cell_type": "code",
   "execution_count": 6,
   "id": "583e6dae",
   "metadata": {},
   "outputs": [
    {
     "data": {
      "image/png": "[encoded data removed]",
      "text/plain": [
       "<Figure size 720x576 with 1 Axes>"
      ]
     },
     "metadata": {
      "needs_background": "light"
     },
     "output_type": "display_data"
    }
   ],
   "source": [
    "# Sélectionner les cinq premières colonnes et les cinq dernières colonnes\n",
    "cols = list(X_train.columns[:5]) + list(X_train.columns[-5:])\n",
    "df_subset = X_train[cols]\n",
    "\n",
    "# Afficher le boxplot\n",
    "plt.figure(figsize=(10,8))\n",
    "plt.boxplot(df_subset.values, labels=df_subset.columns)\n",
    "plt.title('Boxplot of the five first and five last genes of the Prostate tissue ')\n",
    "plt.xlabel('Gene')\n",
    "plt.ylabel('Expression levels')\n",
    "plt.show()"
   ]
  },
  {
   "cell_type": "code",
   "execution_count": null,
   "id": "516e9433",
   "metadata": {},
   "outputs": [],
   "source": []
  }
 ],
 "metadata": {
  "kernelspec": {
   "display_name": "Python 3 (ipykernel)",
   "language": "python",
   "name": "python3"
  },
  "language_info": {
   "codemirror_mode": {
    "name": "ipython",
    "version": 3
   },
   "file_extension": ".py",
   "mimetype": "text/x-python",
   "name": "python",
   "nbconvert_exporter": "python",
   "pygments_lexer": "ipython3",
   "version": "3.8.13"
  }
 },
 "nbformat": 4,
 "nbformat_minor": 5
}
