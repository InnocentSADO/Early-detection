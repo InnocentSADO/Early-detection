{
 "cells": [
  {
   "cell_type": "code",
   "execution_count": 1,
   "id": "5cb618f2",
   "metadata": {},
   "outputs": [],
   "source": [
    "from datetime import datetime\n",
    "import matplotlib.pyplot as plt\n",
    "import numpy as np\n",
    "import pandas as pd\n",
    "import random as rd\n",
    "\n",
    "\n",
    "import tensorflow as tf\n",
    "tf.compat.v1.disable_eager_execution()\n",
    "from tensorflow.keras.models import Model, load_model\n",
    "from tensorflow.keras.layers import Lambda, Input, Dense\n",
    "from tensorflow.keras.losses import mse, binary_crossentropy, kl_divergence\n",
    "from tensorflow.keras import optimizers\n",
    "from keras.utils.vis_utils import plot_model\n",
    "from tensorflow.keras import backend as K\n",
    "\n",
    "from sklearn.model_selection import train_test_split\n",
    "from sklearn.preprocessing import MinMaxScaler, StandardScaler, PowerTransformer\n",
    "\n",
    "import seaborn as sns\n",
    "import matplotlib.pyplot as plt\n",
    "\n",
    "%matplotlib inline"
   ]
  },
  {
   "cell_type": "code",
   "execution_count": 2,
   "id": "0d53a566",
   "metadata": {},
   "outputs": [],
   "source": [
    "#Function to read data from file\n",
    "def get_data(din):\n",
    "    bf = pd.read_csv(din,sep='\\t')\n",
    "    genes = bf['Hugo_Symbol']\n",
    "    cols = list(bf.columns)\n",
    "    cols.remove('Entrez_Gene_Id')\n",
    "    cols.remove('Hugo_Symbol')\n",
    "    bf = bf[cols]\n",
    "    bf = bf.transpose()\n",
    "    bf.columns = genes\n",
    "    return bf\n",
    "\n",
    "def getDataset(din1, din2, din3):\n",
    "    normal1 = get_data(din1)\n",
    "    normal2 = get_data(din2)\n",
    "    abnormal = get_data(din3)\n",
    "    common_gene = set(list(normal1.columns)).intersection(set(list(normal2.columns))).intersection(set(list(abnormal.columns)))\n",
    "    common_gene = list(common_gene)\n",
    "    normal1 = normal1[common_gene]\n",
    "    normal2 = normal2[common_gene]\n",
    "    abnormal = abnormal[common_gene]\n",
    "    #abnormal = list(abnormal)\n",
    "    \n",
    "    X_train = pd.concat( [normal1, normal2] ).values\n",
    "    \n",
    "    abnormal = abnormal.values.tolist()\n",
    "    normal1 = normal1.values.tolist()\n",
    "    \n",
    "    abnormal = list(np.float_(abnormal))\n",
    "    normal1 = list(np.float_(normal1))\n",
    "    \n",
    "    abnormal = rd.SystemRandom().sample(abnormal, 29)\n",
    "    normal1 = rd.SystemRandom().sample(normal1, 68)\n",
    "    \n",
    "    abnormal = pd.DataFrame(abnormal)\n",
    "    normal1 = pd.DataFrame(normal1)\n",
    "    \n",
    "    #X_train = np.random.shuffle(X_train) \n",
    "    X_test = pd.concat( [normal1, abnormal] ).values\n",
    "    y_test = np.zeros(len(X_test), dtype=int)\n",
    "    y_test[len(normal1):] = 1\n",
    "    \n",
    "\n",
    "    \n",
    "    X_train = np.asarray(X_train)\n",
    "    X_test = np.asarray(X_test)\n",
    "    y_test = np.asarray(y_test)\n",
    "                \n",
    "\n",
    "    return X_train, X_test, y_test"
   ]
  },
  {
   "cell_type": "code",
   "execution_count": 3,
   "id": "ed1de1e1",
   "metadata": {},
   "outputs": [],
   "source": [
    "# Code to visualize the results\n",
    "\n",
    "class Visualization:\n",
    "    labels = [\"Normal\",\"Anomal\"]\n",
    "    \n",
    "    def draw_confusion_matrix(self, y, y_pred):\n",
    "        matrix = confusion_matrix(y, y_pred)\n",
    "        \n",
    "        plt.figure(figsize=(10,8))\n",
    "        colors = [\"orange\",\"green\"]\n",
    "        sns.heatmap(matrix, xticklabels=self.labels, yticklabels=self.labels, cmap=colors, annot=True, fmt=\"d\")\n",
    "        plt.title(\"Confusion Matrix\")\n",
    "        plt.ylabel(\"Actual\")\n",
    "        plt.xlabel(\"Predicted\")\n",
    "        plt.show()\n",
    "        \n",
    "    def draw_anomaly(self, y, error, treshold):\n",
    "        groupsDF = pd.DataFrame({'error':error,'true':y}).groupby('true')\n",
    "        \n",
    "        figure,axes = plt.subplots(figsize=(12,8))\n",
    "        \n",
    "        for name, group in groupsDF:\n",
    "            axes.plot(group.index, group.error, marker='x' if name == 1 else 'o', linestyle='',\n",
    "                     color='r' if name ==1 else 'g', label=\"Anomaly\" if name == 1 else \"Normal\")\n",
    "            \n",
    "        axes.hlines(treshold, axes.get_xlim()[0], axes.get_xlim()[1], colors='b', zorder = 100, label = 'Treshold')\n",
    "        axes.legend()\n",
    "            \n",
    "        plt.title(\"Anomalies\")\n",
    "        plt.ylabel(\"Error\")\n",
    "        plt.xlabel(\"Data\")\n",
    "        plt.show()\n",
    "        \n",
    "    def draw_error(self, error, treshold):\n",
    "        plt.plot(error, marker='o', ms=3.5, linestyle='', label='Point')\n",
    "        \n",
    "        plt.hlines(treshold, xmin=0, xmax=len(error)-1, colors=\"b\", zorder=100, label='Treshold')\n",
    "        plt.legend()\n",
    "        plt.title(\"Reconstruction error\")\n",
    "        plt.ylabel(\"Error\")\n",
    "        plt.xlabel(\"Data\")\n",
    "        plt.show()\n",
    "    "
   ]
  },
  {
   "cell_type": "code",
   "execution_count": 4,
   "id": "8d213bbf",
   "metadata": {},
   "outputs": [],
   "source": [
    "din1 = 'data/stomach-rsem-fpkm-gtex.txt'\n",
    "din2 = 'data/stad-rsem-fpkm-tcga.txt'\n",
    "din3 = 'data/stad-rsem-fpkm-tcga-t.txt'\n",
    "\n",
    "X_train, X_test, y_test = getDataset(din1, din2, din3)\n"
   ]
  },
  {
   "cell_type": "code",
   "execution_count": 5,
   "id": "39413d17",
   "metadata": {},
   "outputs": [],
   "source": [
    "from numpy import savetxt\n",
    "\n",
    "savetxt('dataset/x_train_stad.csv', X_train, delimiter='\\t')\n",
    "savetxt('dataset/x_test_stad.csv', X_test, delimiter='\\t')\n",
    "savetxt('dataset/y_test_stad.csv', y_test, delimiter='\\t')\n",
    "\n"
   ]
  },
  {
   "cell_type": "code",
   "execution_count": 6,
   "id": "c1ea954c",
   "metadata": {},
   "outputs": [],
   "source": [
    "scaler = MinMaxScaler()\n",
    "X_train = scaler.fit_transform(X_train)\n",
    "X_test = scaler.fit_transform(X_test)\n"
   ]
  },
  {
   "cell_type": "code",
   "execution_count": null,
   "id": "a064ba27",
   "metadata": {},
   "outputs": [],
   "source": []
  },
  {
   "cell_type": "code",
   "execution_count": 7,
   "id": "73125ae3",
   "metadata": {},
   "outputs": [
    {
     "name": "stdout",
     "output_type": "stream",
     "text": [
      "[[0.20939274 0.         0.06493073 ... 0.42915241 0.30827421 0.        ]\n",
      " [0.04309471 0.         0.33660144 ... 0.39839167 0.34367174 0.        ]\n",
      " [0.15771709 0.         0.0787044  ... 0.41578872 0.13289076 0.        ]\n",
      " ...\n",
      " [0.34319793 0.40828402 0.05318144 ... 0.34902053 0.24570899 0.        ]\n",
      " [0.23327102 0.         0.03928075 ... 0.07239149 0.55862636 0.        ]\n",
      " [0.43870496 0.         0.20002382 ... 0.01094533 1.         0.        ]]\n"
     ]
    }
   ],
   "source": [
    "print(X_test)"
   ]
  },
  {
   "cell_type": "code",
   "execution_count": 8,
   "id": "e3db7c50",
   "metadata": {},
   "outputs": [
    {
     "data": {
      "text/plain": [
       "(225, 19969)"
      ]
     },
     "execution_count": 8,
     "metadata": {},
     "output_type": "execute_result"
    }
   ],
   "source": [
    "X_train.shape"
   ]
  },
  {
   "cell_type": "code",
   "execution_count": 9,
   "id": "3ed3d95e",
   "metadata": {},
   "outputs": [
    {
     "data": {
      "text/plain": [
       "(97, 19969)"
      ]
     },
     "execution_count": 9,
     "metadata": {},
     "output_type": "execute_result"
    }
   ],
   "source": [
    "X_test.shape"
   ]
  },
  {
   "cell_type": "code",
   "execution_count": 10,
   "id": "d385d0c6",
   "metadata": {},
   "outputs": [
    {
     "name": "stdout",
     "output_type": "stream",
     "text": [
      "[0 0 0 0 0 0 0 0 0 0 0 0 0 0 0 0 0 0 0 0 0 0 0 0 0 0 0 0 0 0 0 0 0 0 0 0 0\n",
      " 0 0 0 0 0 0 0 0 0 0 0 0 0 0 0 0 0 0 0 0 0 0 0 0 0 0 0 0 0 0 0 1 1 1 1 1 1\n",
      " 1 1 1 1 1 1 1 1 1 1 1 1 1 1 1 1 1 1 1 1 1 1 1]\n"
     ]
    }
   ],
   "source": [
    "print(y_test)"
   ]
  },
  {
   "cell_type": "code",
   "execution_count": 11,
   "id": "ac3abc31",
   "metadata": {},
   "outputs": [],
   "source": [
    "def get_error_term(v1, v2, _rmse=True):\n",
    "    if _rmse:\n",
    "        return np.sqrt(np.mean((v1 - v2) ** 2, axis=1))\n",
    "    #return MAE\n",
    "    return np.mean(abs(v1 - v2), axis=1)"
   ]
  },
  {
   "cell_type": "code",
   "execution_count": 12,
   "id": "9ac29f5d",
   "metadata": {},
   "outputs": [],
   "source": [
    "# The reparameterization trick\n",
    "\n",
    "def sample(args):\n",
    "    z_mean, z_log_var = args\n",
    "    batch = K.shape(z_mean)[0]\n",
    "    dim = K.int_shape(z_mean)[1]\n",
    "    epsilon = K.random_normal(shape=(batch, dim))\n",
    "    return z_mean + K.exp(0.5 * z_log_var) * epsilon"
   ]
  },
  {
   "cell_type": "code",
   "execution_count": 13,
   "id": "ddb8680a",
   "metadata": {},
   "outputs": [],
   "source": [
    "original_dim = X_train.shape[1]\n",
    "input_shape = (original_dim,)\n",
    "intermediate_dim = int(original_dim / 2)\n",
    "latent_dim = int(original_dim / 3)"
   ]
  },
  {
   "cell_type": "raw",
   "id": "240b7c0d",
   "metadata": {},
   "source": [
    "# encoder model\n",
    "inputs = Input(shape=input_shape, name='encoder_input')\n",
    "x = Dense(intermediate_dim, activation='relu')(inputs)\n",
    "z_mean = Dense(latent_dim, name='z_mean')(x)\n",
    "z_log_var = Dense(latent_dim, name='z_log_var')(x)\n",
    "# use the reparameterization trick and get the output from the sample() function\n",
    "z = Lambda(sample, output_shape=(latent_dim,), name='z')([z_mean, z_log_var])\n",
    "encoder = Model(inputs, z, name='encoder')\n",
    "encoder.summary()"
   ]
  },
  {
   "cell_type": "code",
   "execution_count": 14,
   "id": "367e3742",
   "metadata": {},
   "outputs": [
    {
     "name": "stdout",
     "output_type": "stream",
     "text": [
      "Model: \"encoder\"\n",
      "__________________________________________________________________________________________________\n",
      " Layer (type)                   Output Shape         Param #     Connected to                     \n",
      "==================================================================================================\n",
      " encoder_input (InputLayer)     [(None, 19969)]      0           []                               \n",
      "                                                                                                  \n",
      " dense (Dense)                  (None, 9984)         199380480   ['encoder_input[0][0]']          \n",
      "                                                                                                  \n",
      " z_mean (Dense)                 (None, 6656)         66460160    ['dense[0][0]']                  \n",
      "                                                                                                  \n",
      " z_log_var (Dense)              (None, 6656)         66460160    ['dense[0][0]']                  \n",
      "                                                                                                  \n",
      " z (Lambda)                     (None, 6656)         0           ['z_mean[0][0]',                 \n",
      "                                                                  'z_log_var[0][0]']              \n",
      "                                                                                                  \n",
      "==================================================================================================\n",
      "Total params: 332,300,800\n",
      "Trainable params: 332,300,800\n",
      "Non-trainable params: 0\n",
      "__________________________________________________________________________________________________\n"
     ]
    }
   ],
   "source": [
    "# encoder model\n",
    "inputs = Input(shape=input_shape, name='encoder_input')\n",
    "x = Dense(intermediate_dim, activation='relu')(inputs)\n",
    "z_mean = Dense(latent_dim, name='z_mean')(x)\n",
    "z_log_var = Dense(latent_dim, name='z_log_var')(x)\n",
    "\n",
    "# sampling \n",
    "z = Lambda(sample, output_shape=(latent_dim,), name='z')([z_mean, z_log_var]) \n",
    "\n",
    "# instantiate encoder model\n",
    "encoder = Model(inputs, z, name='encoder')\n",
    "encoder.summary()"
   ]
  },
  {
   "cell_type": "code",
   "execution_count": 15,
   "id": "8a95e17f",
   "metadata": {},
   "outputs": [
    {
     "data": {
      "image/png": "[encoded data removed]",
      "text/plain": [
       "<IPython.core.display.Image object>"
      ]
     },
     "execution_count": 15,
     "metadata": {},
     "output_type": "execute_result"
    }
   ],
   "source": [
    "plot_model(encoder, to_file='vae_mlp_encoder.png', show_shapes=True)"
   ]
  },
  {
   "cell_type": "code",
   "execution_count": 16,
   "id": "74f61e01",
   "metadata": {},
   "outputs": [
    {
     "name": "stdout",
     "output_type": "stream",
     "text": [
      "Model: \"decoder\"\n",
      "_________________________________________________________________\n",
      " Layer (type)                Output Shape              Param #   \n",
      "=================================================================\n",
      " z_sampling (InputLayer)     [(None, 6656)]            0         \n",
      "                                                                 \n",
      " dense_1 (Dense)             (None, 9984)              66463488  \n",
      "                                                                 \n",
      " dense_2 (Dense)             (None, 19969)             199390465 \n",
      "                                                                 \n",
      "=================================================================\n",
      "Total params: 265,853,953\n",
      "Trainable params: 265,853,953\n",
      "Non-trainable params: 0\n",
      "_________________________________________________________________\n"
     ]
    }
   ],
   "source": [
    "# decoder model\n",
    "latent_inputs = Input(shape=(latent_dim,), name='z_sampling')\n",
    "x = Dense(intermediate_dim, activation='relu')(latent_inputs)\n",
    "outputs = Dense(original_dim, activation='sigmoid')(x)\n",
    "# Instantiate the decoder model:\n",
    "decoder = Model(latent_inputs, outputs, name='decoder')\n",
    "decoder.summary()"
   ]
  },
  {
   "cell_type": "code",
   "execution_count": 17,
   "id": "96ca5008",
   "metadata": {},
   "outputs": [
    {
     "data": {
      "image/png": "[encoded data removed]",
      "text/plain": [
       "<IPython.core.display.Image object>"
      ]
     },
     "execution_count": 17,
     "metadata": {},
     "output_type": "execute_result"
    }
   ],
   "source": [
    "plot_model(decoder, to_file='vae_mlp_decoder.png', show_shapes=True)"
   ]
  },
  {
   "cell_type": "code",
   "execution_count": 18,
   "id": "ce62c389",
   "metadata": {},
   "outputs": [],
   "source": [
    "# full VAE model\n",
    "outputs = decoder(encoder(inputs))\n",
    "vae_model = Model(inputs, outputs, name='vae_mlp')"
   ]
  },
  {
   "cell_type": "code",
   "execution_count": 19,
   "id": "16ae91fe",
   "metadata": {},
   "outputs": [
    {
     "data": {
      "image/png": "[encoded data removed]",
      "text/plain": [
       "<IPython.core.display.Image object>"
      ]
     },
     "execution_count": 19,
     "metadata": {},
     "output_type": "execute_result"
    }
   ],
   "source": [
    "plot_model(vae_model, to_file='vae_mlp_model.png', show_shapes=True)"
   ]
  },
  {
   "cell_type": "code",
   "execution_count": 20,
   "id": "8293a3c7",
   "metadata": {},
   "outputs": [],
   "source": [
    "# the KL loss function:\n",
    "def vae_loss(x, x_decoded_mean):\n",
    "    # compute the average MSE error, then scale it up, ie. simply sum on all axes\n",
    "    reconstruction_loss = K.sum(K.square(x - x_decoded_mean))\n",
    "    # compute the KL loss\n",
    "    kl_loss = - 0.5 * K.sum(1 + z_log_var - K.square(z_mean) - K.square(K.exp(z_log_var)), axis=-1)\n",
    "    # return the average loss over all \n",
    "    total_loss = K.mean(reconstruction_loss + kl_loss)    \n",
    "    #total_loss = reconstruction_loss + kl_loss\n",
    "    return total_loss"
   ]
  },
  {
   "cell_type": "code",
   "execution_count": 21,
   "id": "1685a48f",
   "metadata": {},
   "outputs": [
    {
     "name": "stdout",
     "output_type": "stream",
     "text": [
      "Model: \"vae_mlp\"\n",
      "_________________________________________________________________\n",
      " Layer (type)                Output Shape              Param #   \n",
      "=================================================================\n",
      " encoder_input (InputLayer)  [(None, 19969)]           0         \n",
      "                                                                 \n",
      " encoder (Functional)        (None, 6656)              332300800 \n",
      "                                                                 \n",
      " decoder (Functional)        (None, 19969)             265853953 \n",
      "                                                                 \n",
      "=================================================================\n",
      "Total params: 598,154,753\n",
      "Trainable params: 598,154,753\n",
      "Non-trainable params: 0\n",
      "_________________________________________________________________\n"
     ]
    }
   ],
   "source": [
    "#opt = optimizers.Adam(learning_rate=0.01)\n",
    "\n",
    "\n",
    "epochs = 200\n",
    "learning_rate = 0.0001\n",
    "decay_rate = learning_rate / epochs\n",
    "#opt = optimizers.RMSprop(learning_rate=learning_rate, decay=decay_rate)\n",
    "opt = optimizers.Adam(learning_rate=learning_rate, decay=decay_rate)\n",
    "vae_model.compile(optimizer=opt, loss=vae_loss)\n",
    "\n",
    "#vae_model.compile(optimizer='adam',\n",
    "#                  loss=vae_loss)\n",
    "\n",
    "vae_model.summary()"
   ]
  },
  {
   "cell_type": "code",
   "execution_count": 22,
   "id": "7e78913c",
   "metadata": {
    "scrolled": false
   },
   "outputs": [
    {
     "name": "stdout",
     "output_type": "stream",
     "text": [
      "Train on 225 samples, validate on 97 samples\n",
      "Epoch 1/200\n",
      "225/225 [==============================] - ETA: 0s - loss: 661007.9375"
     ]
    },
    {
     "name": "stderr",
     "output_type": "stream",
     "text": [
      "C:\\Users\\Innocent SADO\\Anaconda3\\envs\\Master2\\lib\\site-packages\\keras\\engine\\training_v1.py:2057: UserWarning: `Model.state_updates` will be removed in a future version. This property should not be used in TensorFlow 2.0, as `updates` are applied automatically.\n",
      "  updates = self.state_updates\n"
     ]
    },
    {
     "name": "stdout",
     "output_type": "stream",
     "text": [
      "225/225 [==============================] - 61s 272ms/sample - loss: 661007.9375 - val_loss: 193198.5000\n",
      "Epoch 2/200\n",
      "225/225 [==============================] - 48s 211ms/sample - loss: 433011.3125 - val_loss: 122881.8828\n",
      "Epoch 3/200\n",
      "225/225 [==============================] - 36s 158ms/sample - loss: 241193.1719 - val_loss: 136077.5312\n",
      "Epoch 4/200\n",
      "225/225 [==============================] - 34s 153ms/sample - loss: 232591.0625 - val_loss: 128479.1562\n",
      "Epoch 5/200\n",
      "225/225 [==============================] - 35s 155ms/sample - loss: 207651.0469 - val_loss: 108468.9922\n",
      "Epoch 6/200\n",
      "225/225 [==============================] - 37s 163ms/sample - loss: 163338.8594 - val_loss: 93086.7344\n",
      "Epoch 7/200\n",
      "225/225 [==============================] - 43s 190ms/sample - loss: 142216.1875 - val_loss: 89664.4219\n",
      "Epoch 8/200\n",
      "225/225 [==============================] - 37s 163ms/sample - loss: 148152.5781 - val_loss: 86378.9766\n",
      "Epoch 9/200\n",
      "225/225 [==============================] - 37s 165ms/sample - loss: 142949.3438 - val_loss: 83148.6562\n",
      "Epoch 10/200\n",
      "225/225 [==============================] - 38s 170ms/sample - loss: 132586.6094 - val_loss: 83098.7969\n",
      "Epoch 11/200\n",
      "225/225 [==============================] - 36s 162ms/sample - loss: 129206.9922 - val_loss: 84404.0000\n",
      "Epoch 12/200\n",
      "225/225 [==============================] - 37s 164ms/sample - loss: 129650.6953 - val_loss: 83892.4453\n",
      "Epoch 13/200\n",
      "225/225 [==============================] - 37s 163ms/sample - loss: 127882.7031 - val_loss: 81666.7812\n",
      "Epoch 14/200\n",
      "225/225 [==============================] - 37s 163ms/sample - loss: 122903.4141 - val_loss: 78755.8203\n",
      "Epoch 15/200\n",
      "225/225 [==============================] - 37s 165ms/sample - loss: 117841.8906 - val_loss: 76791.6875\n",
      "Epoch 16/200\n",
      "225/225 [==============================] - 38s 171ms/sample - loss: 114426.2812 - val_loss: 75574.1562\n",
      "Epoch 17/200\n",
      "225/225 [==============================] - 41s 182ms/sample - loss: 112399.8594 - val_loss: 74389.2500\n",
      "Epoch 18/200\n",
      "225/225 [==============================] - 41s 180ms/sample - loss: 109841.9844 - val_loss: 72977.6016\n",
      "Epoch 19/200\n",
      "225/225 [==============================] - 38s 168ms/sample - loss: 105868.4766 - val_loss: 72117.0000\n",
      "Epoch 20/200\n",
      "225/225 [==============================] - 44s 194ms/sample - loss: 102261.8516 - val_loss: 72174.1953\n",
      "Epoch 21/200\n",
      "225/225 [==============================] - 42s 185ms/sample - loss: 101194.2422 - val_loss: 71646.9062\n",
      "Epoch 22/200\n",
      "225/225 [==============================] - 37s 167ms/sample - loss: 99534.8828 - val_loss: 70622.2188\n",
      "Epoch 23/200\n",
      "225/225 [==============================] - 36s 162ms/sample - loss: 97629.0156 - val_loss: 69607.1172\n",
      "Epoch 24/200\n",
      "225/225 [==============================] - 41s 181ms/sample - loss: 95807.2188 - val_loss: 68651.4609\n",
      "Epoch 25/200\n",
      "225/225 [==============================] - 39s 175ms/sample - loss: 94076.8281 - val_loss: 68209.3594\n",
      "Epoch 26/200\n",
      "225/225 [==============================] - 43s 190ms/sample - loss: 93120.2344 - val_loss: 67815.2188\n",
      "Epoch 27/200\n",
      "225/225 [==============================] - 37s 166ms/sample - loss: 92090.9688 - val_loss: 67074.6406\n",
      "Epoch 28/200\n",
      "225/225 [==============================] - 39s 173ms/sample - loss: 90510.9609 - val_loss: 66865.1875\n",
      "Epoch 29/200\n",
      "225/225 [==============================] - 37s 164ms/sample - loss: 89672.8516 - val_loss: 66818.7656\n",
      "Epoch 30/200\n",
      "225/225 [==============================] - 37s 166ms/sample - loss: 89438.8828 - val_loss: 66582.3516\n",
      "Epoch 31/200\n",
      "225/225 [==============================] - 40s 179ms/sample - loss: 88769.2344 - val_loss: 66059.5703\n",
      "Epoch 32/200\n",
      "225/225 [==============================] - 41s 182ms/sample - loss: 87757.5547 - val_loss: 65375.0703\n",
      "Epoch 33/200\n",
      "225/225 [==============================] - 38s 169ms/sample - loss: 86979.8828 - val_loss: 64899.0352\n",
      "Epoch 34/200\n",
      "225/225 [==============================] - 44s 197ms/sample - loss: 86641.1875 - val_loss: 64507.7930\n",
      "Epoch 35/200\n",
      "225/225 [==============================] - 47s 210ms/sample - loss: 86073.5000 - val_loss: 64435.5352\n",
      "Epoch 36/200\n",
      "225/225 [==============================] - 40s 177ms/sample - loss: 85301.7031 - val_loss: 64746.5859\n",
      "Epoch 37/200\n",
      "225/225 [==============================] - 37s 163ms/sample - loss: 84847.3125 - val_loss: 64852.0000\n",
      "Epoch 38/200\n",
      "225/225 [==============================] - 39s 171ms/sample - loss: 84473.1562 - val_loss: 64517.4141\n",
      "Epoch 39/200\n",
      "225/225 [==============================] - 41s 181ms/sample - loss: 83835.2344 - val_loss: 63911.5117\n",
      "Epoch 40/200\n",
      "225/225 [==============================] - 47s 209ms/sample - loss: 83162.3750 - val_loss: 63694.9297\n",
      "Epoch 41/200\n",
      "225/225 [==============================] - 42s 188ms/sample - loss: 82804.2109 - val_loss: 63368.5156\n",
      "Epoch 42/200\n",
      "225/225 [==============================] - 44s 194ms/sample - loss: 82279.2500 - val_loss: 63094.7773\n",
      "Epoch 43/200\n",
      "225/225 [==============================] - 48s 216ms/sample - loss: 81635.1172 - val_loss: 62817.2148\n",
      "Epoch 44/200\n",
      "225/225 [==============================] - 45s 201ms/sample - loss: 81141.8125 - val_loss: 62533.9375\n",
      "Epoch 45/200\n",
      "225/225 [==============================] - 44s 194ms/sample - loss: 80606.7969 - val_loss: 62397.2227\n",
      "Epoch 46/200\n",
      "225/225 [==============================] - 40s 177ms/sample - loss: 79994.0078 - val_loss: 62387.8398\n",
      "Epoch 47/200\n",
      "225/225 [==============================] - 38s 168ms/sample - loss: 79464.5312 - val_loss: 62115.3828\n",
      "Epoch 48/200\n",
      "225/225 [==============================] - 41s 180ms/sample - loss: 78938.4297 - val_loss: 61567.6719\n",
      "Epoch 49/200\n",
      "225/225 [==============================] - 44s 194ms/sample - loss: 78279.7891 - val_loss: 61195.8555\n",
      "Epoch 50/200\n",
      "225/225 [==============================] - 49s 219ms/sample - loss: 77765.1562 - val_loss: 61033.1016\n",
      "Epoch 51/200\n",
      "225/225 [==============================] - 40s 178ms/sample - loss: 77160.6328 - val_loss: 60981.5586\n",
      "Epoch 52/200\n",
      "225/225 [==============================] - 37s 164ms/sample - loss: 76534.0625 - val_loss: 60818.5820\n",
      "Epoch 53/200\n",
      "225/225 [==============================] - 39s 172ms/sample - loss: 75993.6875 - val_loss: 60456.2461\n",
      "Epoch 54/200\n",
      "225/225 [==============================] - 40s 177ms/sample - loss: 75412.9531 - val_loss: 60133.1758\n",
      "Epoch 55/200\n",
      "225/225 [==============================] - 46s 203ms/sample - loss: 74830.6406 - val_loss: 60040.5195\n",
      "Epoch 56/200\n",
      "225/225 [==============================] - 41s 180ms/sample - loss: 74242.9922 - val_loss: 59837.2266\n",
      "Epoch 57/200\n",
      "225/225 [==============================] - 39s 175ms/sample - loss: 73597.2656 - val_loss: 59597.3086\n",
      "Epoch 58/200\n",
      "225/225 [==============================] - 38s 171ms/sample - loss: 73079.0547 - val_loss: 59385.3750\n",
      "Epoch 59/200\n",
      "225/225 [==============================] - 46s 206ms/sample - loss: 72393.3203 - val_loss: 59236.5859\n",
      "Epoch 60/200\n",
      "225/225 [==============================] - 48s 212ms/sample - loss: 71879.3906 - val_loss: 58876.6289\n",
      "Epoch 61/200\n",
      "225/225 [==============================] - 42s 186ms/sample - loss: 71214.4062 - val_loss: 58660.6328\n",
      "Epoch 62/200\n",
      "225/225 [==============================] - 38s 169ms/sample - loss: 70659.6250 - val_loss: 58395.3867\n",
      "Epoch 63/200\n",
      "225/225 [==============================] - 39s 174ms/sample - loss: 70065.5000 - val_loss: 58182.8125\n",
      "Epoch 64/200\n",
      "225/225 [==============================] - 38s 169ms/sample - loss: 69492.5703 - val_loss: 57905.5156\n",
      "Epoch 65/200\n",
      "225/225 [==============================] - 46s 203ms/sample - loss: 68944.3984 - val_loss: 57685.6797\n",
      "Epoch 66/200\n",
      "225/225 [==============================] - 46s 203ms/sample - loss: 68315.1406 - val_loss: 57429.5625\n",
      "Epoch 67/200\n",
      "225/225 [==============================] - 41s 184ms/sample - loss: 67797.5078 - val_loss: 57162.8125\n",
      "Epoch 68/200\n",
      "225/225 [==============================] - 43s 190ms/sample - loss: 67275.0547 - val_loss: 56973.9883\n",
      "Epoch 69/200\n",
      "225/225 [==============================] - 38s 171ms/sample - loss: 66751.0391 - val_loss: 56773.5703\n",
      "Epoch 70/200\n",
      "225/225 [==============================] - 46s 204ms/sample - loss: 66240.5078 - val_loss: 56539.5273\n",
      "Epoch 71/200\n",
      "225/225 [==============================] - 42s 186ms/sample - loss: 65739.9062 - val_loss: 56334.3867\n",
      "Epoch 72/200\n"
     ]
    },
    {
     "name": "stdout",
     "output_type": "stream",
     "text": [
      "225/225 [==============================] - 45s 198ms/sample - loss: 65246.6406 - val_loss: 56074.7422\n",
      "Epoch 73/200\n",
      "225/225 [==============================] - 44s 195ms/sample - loss: 64862.0781 - val_loss: 55807.2617\n",
      "Epoch 74/200\n",
      "225/225 [==============================] - 40s 180ms/sample - loss: 64354.6758 - val_loss: 55650.1328\n",
      "Epoch 75/200\n",
      "225/225 [==============================] - 40s 177ms/sample - loss: 63928.4453 - val_loss: 55486.6289\n",
      "Epoch 76/200\n",
      "225/225 [==============================] - 40s 176ms/sample - loss: 63467.0430 - val_loss: 55259.4141\n",
      "Epoch 77/200\n",
      "225/225 [==============================] - 41s 181ms/sample - loss: 63016.7539 - val_loss: 55002.6641\n",
      "Epoch 78/200\n",
      "225/225 [==============================] - 50s 220ms/sample - loss: 62648.4492 - val_loss: 54889.6484\n",
      "Epoch 79/200\n",
      "225/225 [==============================] - 40s 177ms/sample - loss: 62227.6172 - val_loss: 54687.2695\n",
      "Epoch 80/200\n",
      "225/225 [==============================] - 41s 184ms/sample - loss: 61717.8984 - val_loss: 54520.2852\n",
      "Epoch 81/200\n",
      "225/225 [==============================] - 41s 182ms/sample - loss: 61345.0312 - val_loss: 54359.3984\n",
      "Epoch 82/200\n",
      "225/225 [==============================] - 45s 202ms/sample - loss: 60966.7383 - val_loss: 54150.8984\n",
      "Epoch 83/200\n",
      "225/225 [==============================] - 46s 203ms/sample - loss: 60522.1172 - val_loss: 53998.1406\n",
      "Epoch 84/200\n",
      "225/225 [==============================] - 43s 191ms/sample - loss: 60153.5938 - val_loss: 53993.3984\n",
      "Epoch 85/200\n",
      "225/225 [==============================] - 39s 175ms/sample - loss: 59795.9219 - val_loss: 53764.5938\n",
      "Epoch 86/200\n",
      "225/225 [==============================] - 42s 185ms/sample - loss: 59391.5547 - val_loss: 53615.2305\n",
      "Epoch 87/200\n",
      "225/225 [==============================] - 46s 206ms/sample - loss: 59067.3633 - val_loss: 53418.6562\n",
      "Epoch 88/200\n",
      "225/225 [==============================] - 38s 169ms/sample - loss: 58661.4883 - val_loss: 53330.4375\n",
      "Epoch 89/200\n",
      "225/225 [==============================] - 45s 200ms/sample - loss: 58335.2188 - val_loss: 53194.9805\n",
      "Epoch 90/200\n",
      "225/225 [==============================] - 38s 169ms/sample - loss: 57956.4531 - val_loss: 53111.9531\n",
      "Epoch 91/200\n",
      "225/225 [==============================] - 41s 182ms/sample - loss: 57666.0273 - val_loss: 52877.2422\n",
      "Epoch 92/200\n",
      "225/225 [==============================] - 40s 177ms/sample - loss: 57337.7070 - val_loss: 52788.6992\n",
      "Epoch 93/200\n",
      "225/225 [==============================] - 43s 191ms/sample - loss: 56950.6992 - val_loss: 52623.7539\n",
      "Epoch 94/200\n",
      "225/225 [==============================] - 44s 195ms/sample - loss: 56592.6055 - val_loss: 52488.6406\n",
      "Epoch 95/200\n",
      "225/225 [==============================] - 43s 190ms/sample - loss: 56245.4883 - val_loss: 52371.6094\n",
      "Epoch 96/200\n",
      "225/225 [==============================] - 51s 225ms/sample - loss: 55942.2070 - val_loss: 52185.1719\n",
      "Epoch 97/200\n",
      "225/225 [==============================] - 40s 176ms/sample - loss: 55602.8711 - val_loss: 52162.3828\n",
      "Epoch 98/200\n",
      "225/225 [==============================] - 41s 182ms/sample - loss: 55262.1328 - val_loss: 52009.8398\n",
      "Epoch 99/200\n",
      "225/225 [==============================] - 40s 178ms/sample - loss: 54960.2812 - val_loss: 51819.6953\n",
      "Epoch 100/200\n",
      "225/225 [==============================] - 44s 196ms/sample - loss: 54669.9453 - val_loss: 51795.3555\n",
      "Epoch 101/200\n",
      "225/225 [==============================] - 38s 167ms/sample - loss: 54362.5625 - val_loss: 51595.0703\n",
      "Epoch 102/200\n",
      "225/225 [==============================] - 37s 165ms/sample - loss: 54067.7148 - val_loss: 51530.9531\n",
      "Epoch 103/200\n",
      "225/225 [==============================] - 47s 208ms/sample - loss: 53724.8906 - val_loss: 51420.7773\n",
      "Epoch 104/200\n",
      "225/225 [==============================] - 40s 178ms/sample - loss: 53414.1289 - val_loss: 51320.2695\n",
      "Epoch 105/200\n",
      "225/225 [==============================] - 36s 162ms/sample - loss: 53115.5273 - val_loss: 51336.5508\n",
      "Epoch 106/200\n",
      "225/225 [==============================] - 35s 154ms/sample - loss: 52869.1172 - val_loss: 50949.1406\n",
      "Epoch 107/200\n",
      "225/225 [==============================] - 40s 179ms/sample - loss: 52672.4258 - val_loss: 51072.3125\n",
      "Epoch 108/200\n",
      "225/225 [==============================] - 42s 186ms/sample - loss: 52378.1406 - val_loss: 50788.0000\n",
      "Epoch 109/200\n",
      "225/225 [==============================] - 37s 166ms/sample - loss: 52060.4727 - val_loss: 50782.0352\n",
      "Epoch 110/200\n",
      "225/225 [==============================] - 41s 182ms/sample - loss: 51735.4727 - val_loss: 50652.6562\n",
      "Epoch 111/200\n",
      "225/225 [==============================] - 36s 160ms/sample - loss: 51435.5078 - val_loss: 50459.2891\n",
      "Epoch 112/200\n",
      "225/225 [==============================] - 41s 182ms/sample - loss: 51269.2148 - val_loss: 50764.2383\n",
      "Epoch 113/200\n",
      "225/225 [==============================] - 35s 154ms/sample - loss: 51099.9023 - val_loss: 50286.6641\n",
      "Epoch 114/200\n",
      "225/225 [==============================] - 37s 166ms/sample - loss: 50829.9883 - val_loss: 50421.5781\n",
      "Epoch 115/200\n",
      "225/225 [==============================] - 47s 210ms/sample - loss: 50445.0547 - val_loss: 50194.4492\n",
      "Epoch 116/200\n",
      "225/225 [==============================] - 54s 238ms/sample - loss: 50094.8008 - val_loss: 50001.5625\n",
      "Epoch 117/200\n",
      "225/225 [==============================] - 40s 180ms/sample - loss: 49899.0000 - val_loss: 50197.4141\n",
      "Epoch 118/200\n",
      "225/225 [==============================] - 40s 178ms/sample - loss: 49711.9453 - val_loss: 49836.8242\n",
      "Epoch 119/200\n",
      "225/225 [==============================] - 40s 176ms/sample - loss: 49404.5938 - val_loss: 49831.7422\n",
      "Epoch 120/200\n",
      "225/225 [==============================] - 44s 193ms/sample - loss: 49119.5625 - val_loss: 49814.6719\n",
      "Epoch 121/200\n",
      "225/225 [==============================] - 50s 221ms/sample - loss: 48934.1094 - val_loss: 49622.5625\n",
      "Epoch 122/200\n",
      "225/225 [==============================] - 45s 199ms/sample - loss: 48709.8477 - val_loss: 49687.9297\n",
      "Epoch 123/200\n",
      "225/225 [==============================] - 39s 175ms/sample - loss: 48434.1328 - val_loss: 49482.8242\n",
      "Epoch 124/200\n",
      "225/225 [==============================] - 39s 174ms/sample - loss: 48185.4492 - val_loss: 49419.9336\n",
      "Epoch 125/200\n",
      "225/225 [==============================] - 40s 178ms/sample - loss: 47944.3203 - val_loss: 49511.8984\n",
      "Epoch 126/200\n",
      "225/225 [==============================] - 46s 204ms/sample - loss: 47764.0859 - val_loss: 49256.4805\n",
      "Epoch 127/200\n",
      "225/225 [==============================] - 40s 178ms/sample - loss: 47519.9297 - val_loss: 49361.4570\n",
      "Epoch 128/200\n",
      "225/225 [==============================] - 36s 161ms/sample - loss: 47307.8477 - val_loss: 49130.3438\n",
      "Epoch 129/200\n",
      "225/225 [==============================] - 50s 220ms/sample - loss: 47029.7969 - val_loss: 49153.6094\n",
      "Epoch 130/200\n",
      "225/225 [==============================] - 38s 167ms/sample - loss: 46796.3516 - val_loss: 49153.3047\n",
      "Epoch 131/200\n",
      "225/225 [==============================] - 40s 179ms/sample - loss: 46574.7969 - val_loss: 48911.4219\n",
      "Epoch 132/200\n",
      "225/225 [==============================] - 51s 227ms/sample - loss: 46405.7773 - val_loss: 49072.0938\n",
      "Epoch 133/200\n",
      "225/225 [==============================] - 44s 194ms/sample - loss: 46222.5273 - val_loss: 48744.6016\n",
      "Epoch 134/200\n",
      "225/225 [==============================] - 43s 191ms/sample - loss: 46002.4102 - val_loss: 48830.7266\n",
      "Epoch 135/200\n",
      "225/225 [==============================] - 39s 175ms/sample - loss: 45738.6484 - val_loss: 48630.8750\n",
      "Epoch 136/200\n",
      "225/225 [==============================] - 39s 174ms/sample - loss: 45493.4141 - val_loss: 48581.8047\n",
      "Epoch 137/200\n",
      "225/225 [==============================] - 41s 183ms/sample - loss: 45315.0859 - val_loss: 48600.1289\n",
      "Epoch 138/200\n",
      "225/225 [==============================] - 43s 193ms/sample - loss: 45106.7344 - val_loss: 48414.0312\n",
      "Epoch 139/200\n",
      "225/225 [==============================] - 47s 207ms/sample - loss: 44902.0273 - val_loss: 48497.6719\n",
      "Epoch 140/200\n",
      "225/225 [==============================] - 42s 187ms/sample - loss: 44720.0508 - val_loss: 48298.3672\n",
      "Epoch 141/200\n",
      "225/225 [==============================] - 42s 188ms/sample - loss: 44484.2383 - val_loss: 48354.6445\n",
      "Epoch 142/200\n",
      "225/225 [==============================] - 42s 187ms/sample - loss: 44291.6406 - val_loss: 48243.5586\n"
     ]
    },
    {
     "name": "stdout",
     "output_type": "stream",
     "text": [
      "Epoch 143/200\n",
      "225/225 [==============================] - 45s 200ms/sample - loss: 44093.6914 - val_loss: 48137.9688\n",
      "Epoch 144/200\n",
      "225/225 [==============================] - 46s 205ms/sample - loss: 43888.1953 - val_loss: 48241.2109\n",
      "Epoch 145/200\n",
      "225/225 [==============================] - 47s 207ms/sample - loss: 43743.3945 - val_loss: 47917.5430\n",
      "Epoch 146/200\n",
      "225/225 [==============================] - 42s 184ms/sample - loss: 43577.8516 - val_loss: 48196.0195\n",
      "Epoch 147/200\n",
      "225/225 [==============================] - 40s 179ms/sample - loss: 43431.6016 - val_loss: 47784.7773\n",
      "Epoch 148/200\n",
      "225/225 [==============================] - 48s 211ms/sample - loss: 43219.0039 - val_loss: 48001.6133\n",
      "Epoch 149/200\n",
      "225/225 [==============================] - 39s 173ms/sample - loss: 42990.9102 - val_loss: 47655.8711\n",
      "Epoch 150/200\n",
      "225/225 [==============================] - 44s 194ms/sample - loss: 42760.4609 - val_loss: 47859.0664\n",
      "Epoch 151/200\n",
      "225/225 [==============================] - 47s 208ms/sample - loss: 42519.7148 - val_loss: 47540.1133\n",
      "Epoch 152/200\n",
      "225/225 [==============================] - 39s 172ms/sample - loss: 42312.3906 - val_loss: 47608.4141\n",
      "Epoch 153/200\n",
      "225/225 [==============================] - 39s 173ms/sample - loss: 42097.3789 - val_loss: 47573.1719\n",
      "Epoch 154/200\n",
      "225/225 [==============================] - 45s 199ms/sample - loss: 41941.7461 - val_loss: 47530.3438\n",
      "Epoch 155/200\n",
      "225/225 [==============================] - 40s 176ms/sample - loss: 41731.4180 - val_loss: 47584.6328\n",
      "Epoch 156/200\n",
      "225/225 [==============================] - 43s 193ms/sample - loss: 41583.0078 - val_loss: 47373.2773\n",
      "Epoch 157/200\n",
      "225/225 [==============================] - 45s 200ms/sample - loss: 41402.9961 - val_loss: 47407.5000\n",
      "Epoch 158/200\n",
      "225/225 [==============================] - 42s 188ms/sample - loss: 41206.5820 - val_loss: 47369.6172\n",
      "Epoch 159/200\n",
      "225/225 [==============================] - 38s 171ms/sample - loss: 41045.8633 - val_loss: 47191.8984\n",
      "Epoch 160/200\n",
      "225/225 [==============================] - 45s 200ms/sample - loss: 40840.2344 - val_loss: 47184.4688\n",
      "Epoch 161/200\n",
      "225/225 [==============================] - 42s 188ms/sample - loss: 40653.7344 - val_loss: 47207.2422\n",
      "Epoch 162/200\n",
      "225/225 [==============================] - 38s 168ms/sample - loss: 40478.2266 - val_loss: 47185.2578\n",
      "Epoch 163/200\n",
      "225/225 [==============================] - 44s 194ms/sample - loss: 40274.5742 - val_loss: 47001.3086\n",
      "Epoch 164/200\n",
      "225/225 [==============================] - 40s 179ms/sample - loss: 40085.1719 - val_loss: 47036.0156\n",
      "Epoch 165/200\n",
      "225/225 [==============================] - 42s 189ms/sample - loss: 39894.3086 - val_loss: 46950.4180\n",
      "Epoch 166/200\n",
      "225/225 [==============================] - 40s 179ms/sample - loss: 39734.7305 - val_loss: 46953.6328\n",
      "Epoch 167/200\n",
      "225/225 [==============================] - 40s 179ms/sample - loss: 39554.6172 - val_loss: 46806.5000\n",
      "Epoch 168/200\n",
      "225/225 [==============================] - 37s 166ms/sample - loss: 39435.5820 - val_loss: 47066.8359\n",
      "Epoch 169/200\n",
      "225/225 [==============================] - 49s 216ms/sample - loss: 39367.1484 - val_loss: 46536.3047\n",
      "Epoch 170/200\n",
      "225/225 [==============================] - 47s 208ms/sample - loss: 39524.3789 - val_loss: 47776.1133\n",
      "Epoch 171/200\n",
      "225/225 [==============================] - 41s 184ms/sample - loss: 39917.0352 - val_loss: 46484.0859\n",
      "Epoch 172/200\n",
      "225/225 [==============================] - 39s 174ms/sample - loss: 40225.6367 - val_loss: 47428.5703\n",
      "Epoch 173/200\n",
      "225/225 [==============================] - 40s 180ms/sample - loss: 39460.7930 - val_loss: 46404.5820\n",
      "Epoch 174/200\n",
      "225/225 [==============================] - 44s 196ms/sample - loss: 38449.0195 - val_loss: 46123.7773\n",
      "Epoch 175/200\n",
      "225/225 [==============================] - 48s 214ms/sample - loss: 38699.6406 - val_loss: 47052.8359\n",
      "Epoch 176/200\n",
      "225/225 [==============================] - 40s 179ms/sample - loss: 38861.8750 - val_loss: 46133.0820\n",
      "Epoch 177/200\n",
      "225/225 [==============================] - 41s 184ms/sample - loss: 37971.3789 - val_loss: 45933.8242\n",
      "Epoch 178/200\n",
      "225/225 [==============================] - 44s 197ms/sample - loss: 38132.8945 - val_loss: 46572.1484\n",
      "Epoch 179/200\n",
      "225/225 [==============================] - 40s 177ms/sample - loss: 38020.4609 - val_loss: 46109.2383\n",
      "Epoch 180/200\n",
      "225/225 [==============================] - 38s 170ms/sample - loss: 37463.4883 - val_loss: 45818.2773\n",
      "Epoch 181/200\n",
      "225/225 [==============================] - 41s 183ms/sample - loss: 37725.7812 - val_loss: 46197.4492\n",
      "Epoch 182/200\n",
      "225/225 [==============================] - 39s 176ms/sample - loss: 37286.6094 - val_loss: 46077.7070\n",
      "Epoch 183/200\n",
      "225/225 [==============================] - 43s 191ms/sample - loss: 37094.7383 - val_loss: 45674.7891\n",
      "Epoch 184/200\n",
      "225/225 [==============================] - 39s 173ms/sample - loss: 37182.0234 - val_loss: 45931.0430\n",
      "Epoch 185/200\n",
      "225/225 [==============================] - 40s 177ms/sample - loss: 36682.5078 - val_loss: 46199.6445\n",
      "Epoch 186/200\n",
      "225/225 [==============================] - 39s 173ms/sample - loss: 36704.3477 - val_loss: 45630.0156\n",
      "Epoch 187/200\n",
      "225/225 [==============================] - 41s 184ms/sample - loss: 36456.2031 - val_loss: 45710.1797\n",
      "Epoch 188/200\n",
      "225/225 [==============================] - 41s 182ms/sample - loss: 36212.4570 - val_loss: 46139.5625\n",
      "Epoch 189/200\n",
      "225/225 [==============================] - 43s 190ms/sample - loss: 36172.9805 - val_loss: 45706.1406\n",
      "Epoch 190/200\n",
      "225/225 [==============================] - 42s 188ms/sample - loss: 35843.8281 - val_loss: 45531.5703\n",
      "Epoch 191/200\n",
      "225/225 [==============================] - 42s 185ms/sample - loss: 35739.1797 - val_loss: 45926.9023\n",
      "Epoch 192/200\n",
      "225/225 [==============================] - 41s 184ms/sample - loss: 35658.7227 - val_loss: 45606.6602\n",
      "Epoch 193/200\n",
      "225/225 [==============================] - 41s 184ms/sample - loss: 35366.5625 - val_loss: 45483.2305\n",
      "Epoch 194/200\n",
      "225/225 [==============================] - 44s 194ms/sample - loss: 35273.1094 - val_loss: 45786.0000\n",
      "Epoch 195/200\n",
      "225/225 [==============================] - 46s 203ms/sample - loss: 35092.3555 - val_loss: 45551.5430\n",
      "Epoch 196/200\n",
      "225/225 [==============================] - 43s 193ms/sample - loss: 34895.0586 - val_loss: 45307.5469\n",
      "Epoch 197/200\n",
      "225/225 [==============================] - 43s 190ms/sample - loss: 34767.3477 - val_loss: 45576.4062\n",
      "Epoch 198/200\n",
      "225/225 [==============================] - 44s 194ms/sample - loss: 34612.4727 - val_loss: 45433.4961\n",
      "Epoch 199/200\n",
      "225/225 [==============================] - 41s 184ms/sample - loss: 34433.5859 - val_loss: 45210.3242\n",
      "Epoch 200/200\n",
      "225/225 [==============================] - 50s 220ms/sample - loss: 34311.6055 - val_loss: 45315.7109\n"
     ]
    }
   ],
   "source": [
    "# Learning\n",
    "# Finally, we train the model:\n",
    "history = vae_model.fit(X_train, X_train, \n",
    "                        shuffle=True, \n",
    "                        epochs=epochs, \n",
    "                        batch_size=256, \n",
    "                        validation_data=(X_test, X_test))\n",
    "#history = vae_model.fit(X_train, X_train,\n",
    "#                        shuffle=True,\n",
    "#                        epochs=10,\n",
    "#                        batch_size=256)\n",
    "\n",
    "vae_model.save_weights('vae_stomach.h5')"
   ]
  },
  {
   "cell_type": "code",
   "execution_count": 23,
   "id": "4db2e36a",
   "metadata": {},
   "outputs": [
    {
     "data": {
      "image/png": "[encoded data removed]",
      "text/plain": [
       "<Figure size 432x288 with 1 Axes>"
      ]
     },
     "metadata": {
      "needs_background": "light"
     },
     "output_type": "display_data"
    }
   ],
   "source": [
    "# plot loss history\n",
    "loss = history.history['loss']\n",
    "val_loss = history.history['val_loss']\n",
    "epochs = range(len(loss))\n",
    "\n",
    "plt.figure()\n",
    "plt.plot(epochs, loss, label='Training loss')\n",
    "plt.plot(epochs, val_loss, label='Validation loss')\n",
    "plt.xlabel('Epochs')\n",
    "plt.ylabel('Loss')\n",
    "plt.title('Training and validation loss')\n",
    "plt.legend(['Training loss', 'Validation loss'], loc='upper right');\n",
    "plt.show()\n"
   ]
  },
  {
   "cell_type": "code",
   "execution_count": 24,
   "id": "b2b0d3fe",
   "metadata": {},
   "outputs": [],
   "source": [
    "score = vae_model.evaluate(X_test, X_test, verbose = 1)"
   ]
  },
  {
   "cell_type": "code",
   "execution_count": 25,
   "id": "b0b855c7",
   "metadata": {},
   "outputs": [
    {
     "name": "stdout",
     "output_type": "stream",
     "text": [
      "Test Loss: 16442.815389416883\n"
     ]
    }
   ],
   "source": [
    "print('Test Loss:', score)"
   ]
  },
  {
   "cell_type": "code",
   "execution_count": null,
   "id": "636aaac1",
   "metadata": {},
   "outputs": [
    {
     "name": "stderr",
     "output_type": "stream",
     "text": [
      "C:\\Users\\Innocent SADO\\Anaconda3\\envs\\Master2\\lib\\site-packages\\keras\\engine\\training_v1.py:2079: UserWarning: `Model.state_updates` will be removed in a future version. This property should not be used in TensorFlow 2.0, as `updates` are applied automatically.\n",
      "  updates=self.state_updates,\n"
     ]
    }
   ],
   "source": [
    "#mae_vector = get_error_term(X_pred, X_test)#, _rmse=False)\n",
    "\n",
    "# Code to predict the anomalies based on the threshold\n",
    "\n",
    "\n",
    "y_pred = vae_model.predict(X_test)\n",
    "y_dist = np.linalg.norm(X_test - y_pred, axis = -1)\n",
    "threshold = np.quantile(y_dist, 0.75)\n",
    "#threshold = 37.5\n",
    "\n",
    "z = zip(y_dist >= threshold, y_dist)\n",
    "y_label=[]\n",
    "error = []\n",
    "for idx, (is_anomaly, y_dist) in enumerate(z):\n",
    "    if is_anomaly:\n",
    "        y_label.append(1)\n",
    "    else:\n",
    "        y_label.append(0)\n",
    "    error.append(y_dist)"
   ]
  },
  {
   "cell_type": "code",
   "execution_count": null,
   "id": "676c91b7",
   "metadata": {},
   "outputs": [],
   "source": [
    "threshold"
   ]
  },
  {
   "cell_type": "code",
   "execution_count": null,
   "id": "0bf87f52",
   "metadata": {},
   "outputs": [],
   "source": [
    "#Code to calculate AUC\n",
    "from sklearn.metrics import confusion_matrix, roc_auc_score\n",
    "\n",
    "roc_auc_score(y_test, y_label)"
   ]
  },
  {
   "cell_type": "code",
   "execution_count": null,
   "id": "c26f81f4",
   "metadata": {},
   "outputs": [],
   "source": [
    "# Code to show the confusion matrix\n",
    "\n",
    "viz = Visualization()\n",
    "viz.draw_confusion_matrix(y_test, y_label)"
   ]
  },
  {
   "cell_type": "code",
   "execution_count": null,
   "id": "8df136b2",
   "metadata": {},
   "outputs": [],
   "source": [
    "from sklearn.metrics import classification_report\n",
    "\n",
    "print(classification_report(y_test, y_label))"
   ]
  },
  {
   "cell_type": "code",
   "execution_count": null,
   "id": "c961f3a0",
   "metadata": {},
   "outputs": [],
   "source": [
    "from sklearn import metrics\n",
    "\n",
    "#y_pred =  (mae_vector > error_thresh).astype('int').ravel()\n",
    "y_pred =  y_label\n",
    "AUC = metrics.roc_auc_score(y_test, y_pred)\n",
    "F1 = metrics.f1_score(y_test, y_pred)\n",
    "Accuracy = metrics.accuracy_score(y_test, y_pred)\n",
    "Precision = metrics.precision_score(y_test, y_pred)\n",
    "Recall = metrics.recall_score(y_test, y_pred)\n",
    "tn, fp, fn, tp = metrics.confusion_matrix(y_test, y_pred).ravel()\n",
    "Specificity = tn / (tn+fp)\n",
    "\n",
    "print(\"AUC: {:.2%}\\n\".format(AUC))\n",
    "print(\"F1_score: {:.2%}\\n\".format(F1))\n",
    "print(\"Accuracy: {:.2%}\\n\".format(Accuracy))\n",
    "print(\"Precision: {:.2%}\\n\".format(Precision))\n",
    "print(\"Recall: {:.2%}\\n\".format(Recall))\n",
    "print(\"Specificity: {:.2%}\\n\".format(Specificity))"
   ]
  }
 ],
 "metadata": {
  "kernelspec": {
   "display_name": "Python 3 (ipykernel)",
   "language": "python",
   "name": "python3"
  },
  "language_info": {
   "codemirror_mode": {
    "name": "ipython",
    "version": 3
   },
   "file_extension": ".py",
   "mimetype": "text/x-python",
   "name": "python",
   "nbconvert_exporter": "python",
   "pygments_lexer": "ipython3",
   "version": "3.8.13"
  }
 },
 "nbformat": 4,
 "nbformat_minor": 5
}
