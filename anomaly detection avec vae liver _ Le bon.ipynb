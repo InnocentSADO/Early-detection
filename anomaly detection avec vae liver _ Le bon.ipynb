{
 "cells": [
  {
   "cell_type": "code",
   "execution_count": 1,
   "id": "5cb618f2",
   "metadata": {},
   "outputs": [],
   "source": [
    "from datetime import datetime\n",
    "import matplotlib.pyplot as plt\n",
    "import numpy as np\n",
    "import pandas as pd\n",
    "import random as rd\n",
    "\n",
    "\n",
    "import tensorflow as tf\n",
    "tf.compat.v1.disable_eager_execution()\n",
    "from tensorflow.keras.models import Model, load_model\n",
    "from tensorflow.keras.layers import Lambda, Input, Dense\n",
    "from tensorflow.keras.losses import mse, binary_crossentropy, kl_divergence\n",
    "from tensorflow.keras import optimizers\n",
    "from keras.utils.vis_utils import plot_model\n",
    "from tensorflow.keras import backend as K\n",
    "\n",
    "from sklearn.model_selection import train_test_split\n",
    "from sklearn.preprocessing import MinMaxScaler, StandardScaler, PowerTransformer\n",
    "\n",
    "import seaborn as sns\n",
    "import matplotlib.pyplot as plt\n",
    "\n",
    "%matplotlib inline"
   ]
  },
  {
   "cell_type": "code",
   "execution_count": 2,
   "id": "0d53a566",
   "metadata": {},
   "outputs": [],
   "source": [
    "#Function to read data from file\n",
    "def get_data(din):\n",
    "    bf = pd.read_csv(din,sep='\\t')\n",
    "    genes = bf['Hugo_Symbol']\n",
    "    cols = list(bf.columns)\n",
    "    cols.remove('Entrez_Gene_Id')\n",
    "    cols.remove('Hugo_Symbol')\n",
    "    bf = bf[cols]\n",
    "    bf = bf.transpose()\n",
    "    bf.columns = genes\n",
    "    return bf\n",
    "\n",
    "def getDataset(din1, din2, din3):\n",
    "    normal1 = get_data(din1)\n",
    "    normal2 = get_data(din2)\n",
    "    abnormal = get_data(din3)\n",
    "    common_gene = set(list(normal1.columns)).intersection(set(list(normal2.columns))).intersection(set(list(abnormal.columns)))\n",
    "    common_gene = list(common_gene)\n",
    "    normal1 = normal1[common_gene]\n",
    "    normal2 = normal2[common_gene]\n",
    "    abnormal = abnormal[common_gene]\n",
    "    #abnormal = list(abnormal)\n",
    "    \n",
    "    X_train = pd.concat( [normal1, normal2] ).values\n",
    "    \n",
    "    abnormal = abnormal.values.tolist()\n",
    "    normal1 = normal1.values.tolist()\n",
    "    \n",
    "    abnormal = list(np.float_(abnormal))\n",
    "    normal1 = list(np.float_(normal1))\n",
    "    \n",
    "    abnormal = rd.SystemRandom().sample(abnormal, 21)\n",
    "    normal1 = rd.SystemRandom().sample(normal1, 49)\n",
    "    \n",
    "    abnormal = pd.DataFrame(abnormal)\n",
    "    normal1 = pd.DataFrame(normal1)\n",
    "    \n",
    "    #X_train = np.random.shuffle(X_train) \n",
    "    X_test = pd.concat( [normal1, abnormal] ).values\n",
    "    y_test = np.zeros(len(X_test), dtype=int)\n",
    "    y_test[len(normal1):] = 1\n",
    "    \n",
    "\n",
    "    \n",
    "    X_train = np.asarray(X_train)\n",
    "    X_test = np.asarray(X_test)\n",
    "    y_test = np.asarray(y_test)\n",
    "                \n",
    "\n",
    "    return X_train, X_test, y_test"
   ]
  },
  {
   "cell_type": "code",
   "execution_count": 3,
   "id": "ed1de1e1",
   "metadata": {},
   "outputs": [],
   "source": [
    "# Code to visualize the results\n",
    "\n",
    "class Visualization:\n",
    "    labels = [\"Normal\",\"Anomal\"]\n",
    "    \n",
    "    def draw_confusion_matrix(self, y, y_pred):\n",
    "        matrix = confusion_matrix(y, y_pred)\n",
    "        \n",
    "        plt.figure(figsize=(10,8))\n",
    "        colors = [\"orange\",\"green\"]\n",
    "        sns.heatmap(matrix, xticklabels=self.labels, yticklabels=self.labels, cmap=colors, annot=True, fmt=\"d\")\n",
    "        plt.title(\"Confusion Matrix\")\n",
    "        plt.ylabel(\"Actual\")\n",
    "        plt.xlabel(\"Predicted\")\n",
    "        plt.show()\n",
    "        \n",
    "    def draw_anomaly(self, y, error, treshold):\n",
    "        groupsDF = pd.DataFrame({'error':error,'true':y}).groupby('true')\n",
    "        \n",
    "        figure,axes = plt.subplots(figsize=(12,8))\n",
    "        \n",
    "        for name, group in groupsDF:\n",
    "            axes.plot(group.index, group.error, marker='x' if name == 1 else 'o', linestyle='',\n",
    "                     color='r' if name ==1 else 'g', label=\"Anomaly\" if name == 1 else \"Normal\")\n",
    "            \n",
    "        axes.hlines(treshold, axes.get_xlim()[0], axes.get_xlim()[1], colors='b', zorder = 100, label = 'Treshold')\n",
    "        axes.legend()\n",
    "            \n",
    "        plt.title(\"Anomalies\")\n",
    "        plt.ylabel(\"Error\")\n",
    "        plt.xlabel(\"Data\")\n",
    "        plt.show()\n",
    "        \n",
    "    def draw_error(self, error, treshold):\n",
    "        plt.plot(error, marker='o', ms=3.5, linestyle='', label='Point')\n",
    "        \n",
    "        plt.hlines(treshold, xmin=0, xmax=len(error)-1, colors=\"b\", zorder=100, label='Treshold')\n",
    "        plt.legend()\n",
    "        plt.title(\"Reconstruction error\")\n",
    "        plt.ylabel(\"Error\")\n",
    "        plt.xlabel(\"Data\")\n",
    "        plt.show()\n",
    "    "
   ]
  },
  {
   "cell_type": "code",
   "execution_count": 4,
   "id": "8d213bbf",
   "metadata": {},
   "outputs": [],
   "source": [
    "din1 = 'data/liver-rsem-fpkm-gtex.txt'\n",
    "din2 = 'data/lihc-rsem-fpkm-tcga.txt'\n",
    "din3 = 'data/lihc-rsem-fpkm-tcga-t.txt'\n",
    "\n",
    "X_train, X_test, y_test = getDataset(din1, din2, din3)\n"
   ]
  },
  {
   "cell_type": "code",
   "execution_count": 5,
   "id": "17454147",
   "metadata": {},
   "outputs": [],
   "source": [
    "from numpy import savetxt\n",
    "\n",
    "savetxt('dataset/x_train_lihc.csv', X_train, delimiter='\\t')\n",
    "savetxt('dataset/x_test_lihc.csv', X_test, delimiter='\\t')\n",
    "savetxt('dataset/y_test_lihc.csv', y_test, delimiter='\\t')\n",
    "\n"
   ]
  },
  {
   "cell_type": "code",
   "execution_count": 6,
   "id": "870c3c42",
   "metadata": {},
   "outputs": [],
   "source": [
    "scaler = MinMaxScaler()\n",
    "X_train = scaler.fit_transform(X_train)\n",
    "X_test = scaler.fit_transform(X_test)\n"
   ]
  },
  {
   "cell_type": "code",
   "execution_count": null,
   "id": "992326b7",
   "metadata": {},
   "outputs": [],
   "source": []
  },
  {
   "cell_type": "code",
   "execution_count": 7,
   "id": "0710e7c5",
   "metadata": {},
   "outputs": [
    {
     "name": "stdout",
     "output_type": "stream",
     "text": [
      "[[0.16436419 0.34422517 0.34106689 ... 0.06041501 0.09797194 0.47446197]\n",
      " [0.54346423 0.05826705 0.20348857 ... 0.05143835 0.34537157 0.02211643]\n",
      " [0.45918271 0.31210101 0.43329382 ... 0.05306668 0.11511289 1.        ]\n",
      " ...\n",
      " [0.14391385 0.06087496 0.57266723 ... 1.         0.09797194 0.00644649]\n",
      " [0.44530984 0.08250662 0.56738357 ... 0.11494301 0.10715933 0.        ]\n",
      " [0.13897531 0.08310269 0.7365961  ... 0.0197069  0.16512357 0.        ]]\n"
     ]
    }
   ],
   "source": [
    "print(X_test)"
   ]
  },
  {
   "cell_type": "code",
   "execution_count": 8,
   "id": "e3db7c50",
   "metadata": {},
   "outputs": [
    {
     "data": {
      "text/plain": [
       "(163, 18764)"
      ]
     },
     "execution_count": 8,
     "metadata": {},
     "output_type": "execute_result"
    }
   ],
   "source": [
    "X_train.shape"
   ]
  },
  {
   "cell_type": "code",
   "execution_count": 9,
   "id": "3ed3d95e",
   "metadata": {},
   "outputs": [
    {
     "data": {
      "text/plain": [
       "(70, 18764)"
      ]
     },
     "execution_count": 9,
     "metadata": {},
     "output_type": "execute_result"
    }
   ],
   "source": [
    "X_test.shape"
   ]
  },
  {
   "cell_type": "code",
   "execution_count": 10,
   "id": "d385d0c6",
   "metadata": {},
   "outputs": [
    {
     "name": "stdout",
     "output_type": "stream",
     "text": [
      "[0 0 0 0 0 0 0 0 0 0 0 0 0 0 0 0 0 0 0 0 0 0 0 0 0 0 0 0 0 0 0 0 0 0 0 0 0\n",
      " 0 0 0 0 0 0 0 0 0 0 0 0 1 1 1 1 1 1 1 1 1 1 1 1 1 1 1 1 1 1 1 1 1]\n"
     ]
    }
   ],
   "source": [
    "print(y_test)"
   ]
  },
  {
   "cell_type": "code",
   "execution_count": 11,
   "id": "ac3abc31",
   "metadata": {},
   "outputs": [],
   "source": [
    "def get_error_term(v1, v2, _rmse=True):\n",
    "    if _rmse:\n",
    "        return np.sqrt(np.mean((v1 - v2) ** 2, axis=1))\n",
    "    #return MAE\n",
    "    return np.mean(abs(v1 - v2), axis=1)"
   ]
  },
  {
   "cell_type": "code",
   "execution_count": 12,
   "id": "9ac29f5d",
   "metadata": {},
   "outputs": [],
   "source": [
    "# The reparameterization trick\n",
    "\n",
    "def sample(args):\n",
    "    z_mean, z_log_var = args\n",
    "    batch = K.shape(z_mean)[0]\n",
    "    dim = K.int_shape(z_mean)[1]\n",
    "    epsilon = K.random_normal(shape=(batch, dim))\n",
    "    return z_mean + K.exp(0.5 * z_log_var) * epsilon"
   ]
  },
  {
   "cell_type": "code",
   "execution_count": 13,
   "id": "ddb8680a",
   "metadata": {},
   "outputs": [],
   "source": [
    "original_dim = X_train.shape[1]\n",
    "input_shape = (original_dim,)\n",
    "intermediate_dim = int(original_dim / 2)\n",
    "latent_dim = int(original_dim / 3)"
   ]
  },
  {
   "cell_type": "raw",
   "id": "240b7c0d",
   "metadata": {},
   "source": [
    "# encoder model\n",
    "inputs = Input(shape=input_shape, name='encoder_input')\n",
    "x = Dense(intermediate_dim, activation='relu')(inputs)\n",
    "z_mean = Dense(latent_dim, name='z_mean')(x)\n",
    "z_log_var = Dense(latent_dim, name='z_log_var')(x)\n",
    "# use the reparameterization trick and get the output from the sample() function\n",
    "z = Lambda(sample, output_shape=(latent_dim,), name='z')([z_mean, z_log_var])\n",
    "encoder = Model(inputs, z, name='encoder')\n",
    "encoder.summary()"
   ]
  },
  {
   "cell_type": "code",
   "execution_count": 14,
   "id": "367e3742",
   "metadata": {},
   "outputs": [
    {
     "name": "stdout",
     "output_type": "stream",
     "text": [
      "Model: \"encoder\"\n",
      "__________________________________________________________________________________________________\n",
      " Layer (type)                   Output Shape         Param #     Connected to                     \n",
      "==================================================================================================\n",
      " encoder_input (InputLayer)     [(None, 18764)]      0           []                               \n",
      "                                                                                                  \n",
      " dense (Dense)                  (None, 9382)         176053230   ['encoder_input[0][0]']          \n",
      "                                                                                                  \n",
      " z_mean (Dense)                 (None, 6254)         58681282    ['dense[0][0]']                  \n",
      "                                                                                                  \n",
      " z_log_var (Dense)              (None, 6254)         58681282    ['dense[0][0]']                  \n",
      "                                                                                                  \n",
      " z (Lambda)                     (None, 6254)         0           ['z_mean[0][0]',                 \n",
      "                                                                  'z_log_var[0][0]']              \n",
      "                                                                                                  \n",
      "==================================================================================================\n",
      "Total params: 293,415,794\n",
      "Trainable params: 293,415,794\n",
      "Non-trainable params: 0\n",
      "__________________________________________________________________________________________________\n"
     ]
    }
   ],
   "source": [
    "# encoder model\n",
    "inputs = Input(shape=input_shape, name='encoder_input')\n",
    "x = Dense(intermediate_dim, activation='relu')(inputs)\n",
    "z_mean = Dense(latent_dim, name='z_mean')(x)\n",
    "z_log_var = Dense(latent_dim, name='z_log_var')(x)\n",
    "\n",
    "# sampling \n",
    "z = Lambda(sample, output_shape=(latent_dim,), name='z')([z_mean, z_log_var]) \n",
    "\n",
    "# instantiate encoder model\n",
    "encoder = Model(inputs, z, name='encoder')\n",
    "encoder.summary()"
   ]
  },
  {
   "cell_type": "code",
   "execution_count": 15,
   "id": "8a95e17f",
   "metadata": {},
   "outputs": [
    {
     "data": {
      "image/png": "[encoded data removed]",
      "text/plain": [
       "<IPython.core.display.Image object>"
      ]
     },
     "execution_count": 15,
     "metadata": {},
     "output_type": "execute_result"
    }
   ],
   "source": [
    "plot_model(encoder, to_file='vae_mlp_encoder.png', show_shapes=True)"
   ]
  },
  {
   "cell_type": "code",
   "execution_count": 16,
   "id": "74f61e01",
   "metadata": {},
   "outputs": [
    {
     "name": "stdout",
     "output_type": "stream",
     "text": [
      "Model: \"decoder\"\n",
      "_________________________________________________________________\n",
      " Layer (type)                Output Shape              Param #   \n",
      "=================================================================\n",
      " z_sampling (InputLayer)     [(None, 6254)]            0         \n",
      "                                                                 \n",
      " dense_1 (Dense)             (None, 9382)              58684410  \n",
      "                                                                 \n",
      " dense_2 (Dense)             (None, 18764)             176062612 \n",
      "                                                                 \n",
      "=================================================================\n",
      "Total params: 234,747,022\n",
      "Trainable params: 234,747,022\n",
      "Non-trainable params: 0\n",
      "_________________________________________________________________\n"
     ]
    }
   ],
   "source": [
    "# decoder model\n",
    "latent_inputs = Input(shape=(latent_dim,), name='z_sampling')\n",
    "x = Dense(intermediate_dim, activation='relu')(latent_inputs)\n",
    "outputs = Dense(original_dim, activation='sigmoid')(x)\n",
    "# Instantiate the decoder model:\n",
    "decoder = Model(latent_inputs, outputs, name='decoder')\n",
    "decoder.summary()"
   ]
  },
  {
   "cell_type": "code",
   "execution_count": 17,
   "id": "96ca5008",
   "metadata": {},
   "outputs": [
    {
     "data": {
      "image/png": "[encoded data removed]",
      "text/plain": [
       "<IPython.core.display.Image object>"
      ]
     },
     "execution_count": 17,
     "metadata": {},
     "output_type": "execute_result"
    }
   ],
   "source": [
    "plot_model(decoder, to_file='vae_mlp_decoder.png', show_shapes=True)"
   ]
  },
  {
   "cell_type": "code",
   "execution_count": 18,
   "id": "ce62c389",
   "metadata": {},
   "outputs": [],
   "source": [
    "# full VAE model\n",
    "outputs = decoder(encoder(inputs))\n",
    "vae_model = Model(inputs, outputs, name='vae_mlp')"
   ]
  },
  {
   "cell_type": "code",
   "execution_count": 19,
   "id": "16ae91fe",
   "metadata": {},
   "outputs": [
    {
     "data": {
      "image/png": "[encoded data removed]",
      "text/plain": [
       "<IPython.core.display.Image object>"
      ]
     },
     "execution_count": 19,
     "metadata": {},
     "output_type": "execute_result"
    }
   ],
   "source": [
    "plot_model(vae_model, to_file='vae_mlp_model.png', show_shapes=True)"
   ]
  },
  {
   "cell_type": "code",
   "execution_count": 20,
   "id": "8293a3c7",
   "metadata": {},
   "outputs": [],
   "source": [
    "# the KL loss function:\n",
    "def vae_loss(x, x_decoded_mean):\n",
    "    # compute the average MSE error, then scale it up, ie. simply sum on all axes\n",
    "    reconstruction_loss = K.sum(K.square(x - x_decoded_mean))\n",
    "    # compute the KL loss\n",
    "    kl_loss = - 0.5 * K.sum(1 + z_log_var - K.square(z_mean) - K.square(K.exp(z_log_var)), axis=-1)\n",
    "    # return the average loss over all \n",
    "    total_loss = K.mean(reconstruction_loss + kl_loss)    \n",
    "    #total_loss = reconstruction_loss + kl_loss\n",
    "    return total_loss"
   ]
  },
  {
   "cell_type": "code",
   "execution_count": 21,
   "id": "1685a48f",
   "metadata": {},
   "outputs": [
    {
     "name": "stdout",
     "output_type": "stream",
     "text": [
      "Model: \"vae_mlp\"\n",
      "_________________________________________________________________\n",
      " Layer (type)                Output Shape              Param #   \n",
      "=================================================================\n",
      " encoder_input (InputLayer)  [(None, 18764)]           0         \n",
      "                                                                 \n",
      " encoder (Functional)        (None, 6254)              293415794 \n",
      "                                                                 \n",
      " decoder (Functional)        (None, 18764)             234747022 \n",
      "                                                                 \n",
      "=================================================================\n",
      "Total params: 528,162,816\n",
      "Trainable params: 528,162,816\n",
      "Non-trainable params: 0\n",
      "_________________________________________________________________\n"
     ]
    }
   ],
   "source": [
    "#opt = optimizers.Adam(learning_rate=0.01)\n",
    "\n",
    "\n",
    "epochs = 200\n",
    "learning_rate = 0.0001\n",
    "decay_rate = learning_rate / epochs\n",
    "#opt = optimizers.RMSprop(learning_rate=learning_rate, decay=decay_rate)\n",
    "opt = optimizers.Adam(learning_rate=learning_rate, decay=decay_rate)\n",
    "vae_model.compile(optimizer=opt, loss=vae_loss)\n",
    "\n",
    "#vae_model.compile(optimizer='adam',\n",
    "#                  loss=vae_loss)\n",
    "\n",
    "vae_model.summary()"
   ]
  },
  {
   "cell_type": "code",
   "execution_count": 22,
   "id": "7e78913c",
   "metadata": {
    "scrolled": false
   },
   "outputs": [
    {
     "name": "stdout",
     "output_type": "stream",
     "text": [
      "Train on 163 samples, validate on 70 samples\n",
      "Epoch 1/200\n",
      "163/163 [==============================] - ETA: 0s - loss: 440368.6875"
     ]
    },
    {
     "name": "stderr",
     "output_type": "stream",
     "text": [
      "C:\\Users\\Innocent SADO\\Anaconda3\\envs\\Master2\\lib\\site-packages\\keras\\engine\\training_v1.py:2057: UserWarning: `Model.state_updates` will be removed in a future version. This property should not be used in TensorFlow 2.0, as `updates` are applied automatically.\n",
      "  updates = self.state_updates\n"
     ]
    },
    {
     "name": "stdout",
     "output_type": "stream",
     "text": [
      "163/163 [==============================] - 57s 348ms/sample - loss: 440368.6875 - val_loss: 137488.8594\n",
      "Epoch 2/200\n",
      "163/163 [==============================] - 25s 151ms/sample - loss: 297461.3438 - val_loss: 93528.7812\n",
      "Epoch 3/200\n",
      "163/163 [==============================] - 23s 140ms/sample - loss: 179443.9688 - val_loss: 94569.1719\n",
      "Epoch 4/200\n",
      "163/163 [==============================] - 22s 134ms/sample - loss: 157544.2031 - val_loss: 89703.7109\n",
      "Epoch 5/200\n",
      "163/163 [==============================] - 26s 159ms/sample - loss: 141677.0156 - val_loss: 75717.9297\n",
      "Epoch 6/200\n",
      "163/163 [==============================] - 25s 156ms/sample - loss: 111221.3828 - val_loss: 66867.1797\n",
      "Epoch 7/200\n",
      "163/163 [==============================] - 22s 137ms/sample - loss: 99463.3438 - val_loss: 64935.1445\n",
      "Epoch 8/200\n",
      "163/163 [==============================] - 22s 136ms/sample - loss: 102369.6797 - val_loss: 62814.2930\n",
      "Epoch 9/200\n",
      "163/163 [==============================] - 22s 137ms/sample - loss: 99033.4141 - val_loss: 60910.6289\n",
      "Epoch 10/200\n",
      "163/163 [==============================] - 23s 139ms/sample - loss: 93519.9062 - val_loss: 60902.2148\n",
      "Epoch 11/200\n",
      "163/163 [==============================] - 26s 158ms/sample - loss: 91567.2344 - val_loss: 61530.2656\n",
      "Epoch 12/200\n",
      "163/163 [==============================] - 26s 157ms/sample - loss: 91645.3438 - val_loss: 61368.2656\n",
      "Epoch 13/200\n",
      "163/163 [==============================] - 26s 158ms/sample - loss: 91168.4219 - val_loss: 60502.6797\n",
      "Epoch 14/200\n",
      "163/163 [==============================] - 27s 168ms/sample - loss: 89137.7188 - val_loss: 59260.8867\n",
      "Epoch 15/200\n",
      "163/163 [==============================] - 26s 158ms/sample - loss: 86738.4453 - val_loss: 58411.0586\n",
      "Epoch 16/200\n",
      "163/163 [==============================] - 24s 144ms/sample - loss: 85118.0859 - val_loss: 57898.3320\n",
      "Epoch 17/200\n",
      "163/163 [==============================] - 22s 137ms/sample - loss: 84514.5625 - val_loss: 57634.7695\n",
      "Epoch 18/200\n",
      "163/163 [==============================] - 23s 141ms/sample - loss: 84450.4688 - val_loss: 57089.7539\n",
      "Epoch 19/200\n",
      "163/163 [==============================] - 24s 146ms/sample - loss: 83848.9453 - val_loss: 56566.4414\n",
      "Epoch 20/200\n",
      "163/163 [==============================] - 26s 162ms/sample - loss: 82868.7109 - val_loss: 56185.8047\n",
      "Epoch 21/200\n",
      "163/163 [==============================] - 25s 153ms/sample - loss: 81821.9297 - val_loss: 56108.3398\n",
      "Epoch 22/200\n",
      "163/163 [==============================] - 23s 138ms/sample - loss: 81215.9297 - val_loss: 55814.3984\n",
      "Epoch 23/200\n",
      "163/163 [==============================] - 27s 167ms/sample - loss: 80605.7891 - val_loss: 55275.1250\n",
      "Epoch 24/200\n",
      "163/163 [==============================] - 22s 135ms/sample - loss: 79416.5312 - val_loss: 54696.8945\n",
      "Epoch 25/200\n",
      "163/163 [==============================] - 22s 136ms/sample - loss: 78180.1641 - val_loss: 54354.3594\n",
      "Epoch 26/200\n",
      "163/163 [==============================] - 22s 136ms/sample - loss: 77323.9609 - val_loss: 54242.3555\n",
      "Epoch 27/200\n",
      "163/163 [==============================] - 22s 136ms/sample - loss: 76414.0391 - val_loss: 53883.2461\n",
      "Epoch 28/200\n",
      "163/163 [==============================] - 23s 139ms/sample - loss: 75284.6641 - val_loss: 53586.6445\n",
      "Epoch 29/200\n",
      "163/163 [==============================] - 22s 136ms/sample - loss: 74297.6172 - val_loss: 52876.9609\n",
      "Epoch 30/200\n",
      "163/163 [==============================] - 22s 135ms/sample - loss: 73338.1484 - val_loss: 52117.9258\n",
      "Epoch 31/200\n",
      "163/163 [==============================] - 23s 139ms/sample - loss: 72326.3359 - val_loss: 51777.6914\n",
      "Epoch 32/200\n",
      "163/163 [==============================] - 22s 136ms/sample - loss: 71734.3828 - val_loss: 51590.6719\n",
      "Epoch 33/200\n",
      "163/163 [==============================] - 22s 138ms/sample - loss: 70801.7891 - val_loss: 51621.2539\n",
      "Epoch 34/200\n",
      "163/163 [==============================] - 22s 138ms/sample - loss: 70230.1562 - val_loss: 51486.0352\n",
      "Epoch 35/200\n",
      "163/163 [==============================] - 22s 136ms/sample - loss: 69344.1406 - val_loss: 51357.8242\n",
      "Epoch 36/200\n",
      "163/163 [==============================] - 22s 138ms/sample - loss: 68639.1562 - val_loss: 51095.0469\n",
      "Epoch 37/200\n",
      "163/163 [==============================] - 22s 136ms/sample - loss: 67832.7500 - val_loss: 50735.9961\n",
      "Epoch 38/200\n",
      "163/163 [==============================] - 22s 137ms/sample - loss: 67077.3594 - val_loss: 50155.3984\n",
      "Epoch 39/200\n",
      "163/163 [==============================] - 22s 138ms/sample - loss: 66244.4219 - val_loss: 49870.7930\n",
      "Epoch 40/200\n",
      "163/163 [==============================] - 22s 134ms/sample - loss: 65648.9844 - val_loss: 49622.2305\n",
      "Epoch 41/200\n",
      "163/163 [==============================] - 22s 136ms/sample - loss: 64938.9570 - val_loss: 49464.4375\n",
      "Epoch 42/200\n",
      "163/163 [==============================] - 22s 137ms/sample - loss: 64457.2461 - val_loss: 49446.1055\n",
      "Epoch 43/200\n",
      "163/163 [==============================] - 22s 135ms/sample - loss: 63822.5781 - val_loss: 49301.6250\n",
      "Epoch 44/200\n",
      "163/163 [==============================] - 23s 138ms/sample - loss: 63401.3633 - val_loss: 49013.1523\n",
      "Epoch 45/200\n",
      "163/163 [==============================] - 22s 136ms/sample - loss: 62772.9570 - val_loss: 48662.3438\n",
      "Epoch 46/200\n",
      "163/163 [==============================] - 22s 136ms/sample - loss: 62233.5195 - val_loss: 48261.6836\n",
      "Epoch 47/200\n",
      "163/163 [==============================] - 22s 138ms/sample - loss: 61767.6133 - val_loss: 48108.6328\n",
      "Epoch 48/200\n",
      "163/163 [==============================] - 24s 149ms/sample - loss: 61334.3438 - val_loss: 47878.9727\n",
      "Epoch 49/200\n",
      "163/163 [==============================] - 24s 145ms/sample - loss: 60787.2383 - val_loss: 47695.1133\n",
      "Epoch 50/200\n",
      "163/163 [==============================] - 22s 134ms/sample - loss: 60332.4297 - val_loss: 47532.8828\n",
      "Epoch 51/200\n",
      "163/163 [==============================] - 22s 137ms/sample - loss: 59856.9805 - val_loss: 47386.4844\n",
      "Epoch 52/200\n",
      "163/163 [==============================] - 22s 137ms/sample - loss: 59415.8164 - val_loss: 47069.9258\n",
      "Epoch 53/200\n",
      "163/163 [==============================] - 22s 136ms/sample - loss: 58976.5195 - val_loss: 46854.1523\n",
      "Epoch 54/200\n",
      "163/163 [==============================] - 22s 137ms/sample - loss: 58516.0234 - val_loss: 46762.2891\n",
      "Epoch 55/200\n",
      "163/163 [==============================] - 22s 137ms/sample - loss: 58164.7930 - val_loss: 46500.4922\n",
      "Epoch 56/200\n",
      "163/163 [==============================] - 22s 137ms/sample - loss: 57726.1484 - val_loss: 46208.5352\n",
      "Epoch 57/200\n",
      "163/163 [==============================] - 22s 137ms/sample - loss: 57378.1289 - val_loss: 46165.2891\n",
      "Epoch 58/200\n",
      "163/163 [==============================] - 24s 149ms/sample - loss: 56955.5586 - val_loss: 46001.5195\n",
      "Epoch 59/200\n",
      "163/163 [==============================] - 23s 140ms/sample - loss: 56588.3438 - val_loss: 45700.2305\n",
      "Epoch 60/200\n",
      "163/163 [==============================] - 23s 139ms/sample - loss: 56278.6055 - val_loss: 45536.3477\n",
      "Epoch 61/200\n",
      "163/163 [==============================] - 23s 142ms/sample - loss: 55878.0781 - val_loss: 45528.5352\n",
      "Epoch 62/200\n",
      "163/163 [==============================] - 23s 140ms/sample - loss: 55580.3672 - val_loss: 45177.0078\n",
      "Epoch 63/200\n",
      "163/163 [==============================] - 22s 136ms/sample - loss: 55128.0352 - val_loss: 44962.1055\n",
      "Epoch 64/200\n",
      "163/163 [==============================] - 23s 139ms/sample - loss: 54844.5820 - val_loss: 45019.8516\n",
      "Epoch 65/200\n",
      "163/163 [==============================] - 23s 138ms/sample - loss: 54533.9883 - val_loss: 44625.3398\n",
      "Epoch 66/200\n",
      "163/163 [==============================] - 23s 140ms/sample - loss: 54075.2656 - val_loss: 44353.7539\n",
      "Epoch 67/200\n",
      "163/163 [==============================] - 22s 136ms/sample - loss: 53856.9570 - val_loss: 44345.7422\n",
      "Epoch 68/200\n",
      "163/163 [==============================] - 23s 140ms/sample - loss: 53483.6797 - val_loss: 44094.6797\n",
      "Epoch 69/200\n",
      "163/163 [==============================] - 26s 161ms/sample - loss: 53082.6875 - val_loss: 43839.8750\n",
      "Epoch 70/200\n",
      "163/163 [==============================] - 25s 153ms/sample - loss: 52823.1641 - val_loss: 43931.7422\n",
      "Epoch 71/200\n",
      "163/163 [==============================] - 22s 137ms/sample - loss: 52431.6797 - val_loss: 43669.4492\n",
      "Epoch 72/200\n"
     ]
    },
    {
     "name": "stdout",
     "output_type": "stream",
     "text": [
      "163/163 [==============================] - 23s 140ms/sample - loss: 52067.7773 - val_loss: 43344.6836\n",
      "Epoch 73/200\n",
      "163/163 [==============================] - 23s 139ms/sample - loss: 51835.8789 - val_loss: 43284.1445\n",
      "Epoch 74/200\n",
      "163/163 [==============================] - 26s 162ms/sample - loss: 51430.1758 - val_loss: 43284.8555\n",
      "Epoch 75/200\n",
      "163/163 [==============================] - 25s 153ms/sample - loss: 51214.0078 - val_loss: 42898.7422\n",
      "Epoch 76/200\n",
      "163/163 [==============================] - 22s 138ms/sample - loss: 50896.5703 - val_loss: 42879.8945\n",
      "Epoch 77/200\n",
      "163/163 [==============================] - 23s 139ms/sample - loss: 50545.0547 - val_loss: 42900.9570\n",
      "Epoch 78/200\n",
      "163/163 [==============================] - 23s 140ms/sample - loss: 50329.9609 - val_loss: 42469.0664\n",
      "Epoch 79/200\n",
      "163/163 [==============================] - 26s 160ms/sample - loss: 50063.6992 - val_loss: 42449.4414\n",
      "Epoch 80/200\n",
      "163/163 [==============================] - 25s 155ms/sample - loss: 49751.7344 - val_loss: 42471.3164\n",
      "Epoch 81/200\n",
      "163/163 [==============================] - 24s 148ms/sample - loss: 49543.7539 - val_loss: 42103.5312\n",
      "Epoch 82/200\n",
      "163/163 [==============================] - 27s 168ms/sample - loss: 49200.7578 - val_loss: 42100.6758\n",
      "Epoch 83/200\n",
      "163/163 [==============================] - 35s 215ms/sample - loss: 48863.6445 - val_loss: 42119.5625\n",
      "Epoch 84/200\n",
      "163/163 [==============================] - 30s 184ms/sample - loss: 48638.9062 - val_loss: 41781.3945\n",
      "Epoch 85/200\n",
      "163/163 [==============================] - 32s 198ms/sample - loss: 48334.1523 - val_loss: 41714.1719\n",
      "Epoch 86/200\n",
      "163/163 [==============================] - 32s 198ms/sample - loss: 48063.9492 - val_loss: 41729.6211\n",
      "Epoch 87/200\n",
      "163/163 [==============================] - 30s 187ms/sample - loss: 47757.1172 - val_loss: 41439.8438\n",
      "Epoch 88/200\n",
      "163/163 [==============================] - 34s 207ms/sample - loss: 47476.1758 - val_loss: 41351.9609\n",
      "Epoch 89/200\n",
      "163/163 [==============================] - 33s 201ms/sample - loss: 47222.7148 - val_loss: 41313.6016\n",
      "Epoch 90/200\n",
      "163/163 [==============================] - 27s 167ms/sample - loss: 46949.9648 - val_loss: 41214.7070\n",
      "Epoch 91/200\n",
      "163/163 [==============================] - 26s 161ms/sample - loss: 46684.0547 - val_loss: 41053.7695\n",
      "Epoch 92/200\n",
      "163/163 [==============================] - 25s 151ms/sample - loss: 46389.7773 - val_loss: 41046.8008\n",
      "Epoch 93/200\n",
      "163/163 [==============================] - 27s 167ms/sample - loss: 46102.2148 - val_loss: 40951.5312\n",
      "Epoch 94/200\n",
      "163/163 [==============================] - 29s 176ms/sample - loss: 45884.0820 - val_loss: 40735.4414\n",
      "Epoch 95/200\n",
      "163/163 [==============================] - 28s 173ms/sample - loss: 45551.1445 - val_loss: 40677.4023\n",
      "Epoch 96/200\n",
      "163/163 [==============================] - 26s 160ms/sample - loss: 45312.9531 - val_loss: 40518.7656\n",
      "Epoch 97/200\n",
      "163/163 [==============================] - 28s 172ms/sample - loss: 45016.2930 - val_loss: 40561.0195\n",
      "Epoch 98/200\n",
      "163/163 [==============================] - 29s 179ms/sample - loss: 44770.6797 - val_loss: 40286.0820\n",
      "Epoch 99/200\n",
      "163/163 [==============================] - 29s 181ms/sample - loss: 44501.1719 - val_loss: 40157.6328\n",
      "Epoch 100/200\n",
      "163/163 [==============================] - 27s 168ms/sample - loss: 44192.8633 - val_loss: 40308.2344\n",
      "Epoch 101/200\n",
      "163/163 [==============================] - 27s 168ms/sample - loss: 44042.0508 - val_loss: 39989.3906\n",
      "Epoch 102/200\n",
      "163/163 [==============================] - 25s 152ms/sample - loss: 43754.0938 - val_loss: 39989.2695\n",
      "Epoch 103/200\n",
      "163/163 [==============================] - 27s 163ms/sample - loss: 43478.3398 - val_loss: 39991.3555\n",
      "Epoch 104/200\n",
      "163/163 [==============================] - 25s 153ms/sample - loss: 43304.1133 - val_loss: 39598.1758\n",
      "Epoch 105/200\n",
      "163/163 [==============================] - 22s 137ms/sample - loss: 43089.3984 - val_loss: 39876.3945\n",
      "Epoch 106/200\n",
      "163/163 [==============================] - 23s 140ms/sample - loss: 42767.2773 - val_loss: 39670.5703\n",
      "Epoch 107/200\n",
      "163/163 [==============================] - 27s 167ms/sample - loss: 42500.5156 - val_loss: 39348.1055\n",
      "Epoch 108/200\n",
      "163/163 [==============================] - 25s 153ms/sample - loss: 42276.5078 - val_loss: 39418.7305\n",
      "Epoch 109/200\n",
      "163/163 [==============================] - 23s 138ms/sample - loss: 42029.0234 - val_loss: 39200.2539\n",
      "Epoch 110/200\n",
      "163/163 [==============================] - 23s 139ms/sample - loss: 41757.5078 - val_loss: 39255.8125\n",
      "Epoch 111/200\n",
      "163/163 [==============================] - 23s 142ms/sample - loss: 41540.2461 - val_loss: 39101.3320\n",
      "Epoch 112/200\n",
      "163/163 [==============================] - 26s 160ms/sample - loss: 41249.2070 - val_loss: 38948.1797\n",
      "Epoch 113/200\n",
      "163/163 [==============================] - 25s 152ms/sample - loss: 41003.9023 - val_loss: 38978.2461\n",
      "Epoch 114/200\n",
      "163/163 [==============================] - 22s 137ms/sample - loss: 40765.5039 - val_loss: 38699.9141\n",
      "Epoch 115/200\n",
      "163/163 [==============================] - 22s 138ms/sample - loss: 40509.3984 - val_loss: 38737.5586\n",
      "Epoch 116/200\n",
      "163/163 [==============================] - 23s 140ms/sample - loss: 40224.3281 - val_loss: 38739.3555\n",
      "Epoch 117/200\n",
      "163/163 [==============================] - 27s 168ms/sample - loss: 40045.9375 - val_loss: 38489.6172\n",
      "Epoch 118/200\n",
      "163/163 [==============================] - 25s 156ms/sample - loss: 39754.0430 - val_loss: 38853.4141\n",
      "Epoch 119/200\n",
      "163/163 [==============================] - 23s 138ms/sample - loss: 39605.9062 - val_loss: 38254.3594\n",
      "Epoch 120/200\n",
      "163/163 [==============================] - 22s 137ms/sample - loss: 39403.9570 - val_loss: 38733.9883\n",
      "Epoch 121/200\n",
      "163/163 [==============================] - 23s 141ms/sample - loss: 39131.9688 - val_loss: 37989.1406\n",
      "Epoch 122/200\n",
      "163/163 [==============================] - 26s 160ms/sample - loss: 39001.2617 - val_loss: 38721.7812\n",
      "Epoch 123/200\n",
      "163/163 [==============================] - 25s 151ms/sample - loss: 38847.7344 - val_loss: 37885.1367\n",
      "Epoch 124/200\n",
      "163/163 [==============================] - 23s 144ms/sample - loss: 38602.8828 - val_loss: 38427.0195\n",
      "Epoch 125/200\n",
      "163/163 [==============================] - 23s 139ms/sample - loss: 38187.1641 - val_loss: 37928.3516\n",
      "Epoch 126/200\n",
      "163/163 [==============================] - 24s 146ms/sample - loss: 37859.3359 - val_loss: 37890.6328\n",
      "Epoch 127/200\n",
      "163/163 [==============================] - 28s 169ms/sample - loss: 37595.1523 - val_loss: 38064.2578\n",
      "Epoch 128/200\n",
      "163/163 [==============================] - 25s 152ms/sample - loss: 37382.7070 - val_loss: 37526.4805\n",
      "Epoch 129/200\n",
      "163/163 [==============================] - 23s 141ms/sample - loss: 37245.1914 - val_loss: 38087.3125\n",
      "Epoch 130/200\n",
      "163/163 [==============================] - 23s 139ms/sample - loss: 37063.8945 - val_loss: 37412.2578\n",
      "Epoch 131/200\n",
      "163/163 [==============================] - 23s 138ms/sample - loss: 36727.5430 - val_loss: 37597.2852\n",
      "Epoch 132/200\n",
      "163/163 [==============================] - 23s 142ms/sample - loss: 36489.3867 - val_loss: 37502.2695\n",
      "Epoch 133/200\n",
      "163/163 [==============================] - 22s 137ms/sample - loss: 36216.1797 - val_loss: 37301.5352\n",
      "Epoch 134/200\n",
      "163/163 [==============================] - 22s 137ms/sample - loss: 35998.3750 - val_loss: 37542.5078\n",
      "Epoch 135/200\n",
      "163/163 [==============================] - 24s 149ms/sample - loss: 35801.5195 - val_loss: 37102.5195\n",
      "Epoch 136/200\n",
      "163/163 [==============================] - 27s 163ms/sample - loss: 35569.9492 - val_loss: 37335.3164\n",
      "Epoch 137/200\n",
      "163/163 [==============================] - 25s 152ms/sample - loss: 35321.9844 - val_loss: 37071.8594\n",
      "Epoch 138/200\n",
      "163/163 [==============================] - 23s 140ms/sample - loss: 35074.0469 - val_loss: 37077.2891\n",
      "Epoch 139/200\n",
      "163/163 [==============================] - 22s 136ms/sample - loss: 34830.9570 - val_loss: 36987.0391\n",
      "Epoch 140/200\n",
      "163/163 [==============================] - 22s 137ms/sample - loss: 34635.3047 - val_loss: 37021.5781\n",
      "Epoch 141/200\n",
      "163/163 [==============================] - 23s 143ms/sample - loss: 34361.6562 - val_loss: 36773.5625\n",
      "Epoch 142/200\n",
      "163/163 [==============================] - 26s 162ms/sample - loss: 34147.5039 - val_loss: 36888.6406\n"
     ]
    },
    {
     "name": "stdout",
     "output_type": "stream",
     "text": [
      "Epoch 143/200\n",
      "163/163 [==============================] - 25s 152ms/sample - loss: 33977.3164 - val_loss: 36530.9609\n",
      "Epoch 144/200\n",
      "163/163 [==============================] - 23s 140ms/sample - loss: 33742.5312 - val_loss: 37158.2891\n",
      "Epoch 145/200\n",
      "163/163 [==============================] - 22s 138ms/sample - loss: 33610.8320 - val_loss: 36143.0352\n",
      "Epoch 146/200\n",
      "163/163 [==============================] - 23s 143ms/sample - loss: 33704.0508 - val_loss: 37881.0547\n",
      "Epoch 147/200\n",
      "163/163 [==============================] - 26s 160ms/sample - loss: 33889.5742 - val_loss: 35789.1680\n",
      "Epoch 148/200\n",
      "163/163 [==============================] - 25s 156ms/sample - loss: 33938.4102 - val_loss: 37295.6836\n",
      "Epoch 149/200\n",
      "163/163 [==============================] - 22s 137ms/sample - loss: 33141.7500 - val_loss: 36250.7773\n",
      "Epoch 150/200\n",
      "163/163 [==============================] - 22s 137ms/sample - loss: 32437.3184 - val_loss: 35623.3906\n",
      "Epoch 151/200\n",
      "163/163 [==============================] - 23s 141ms/sample - loss: 32610.6035 - val_loss: 36746.8984\n",
      "Epoch 152/200\n",
      "163/163 [==============================] - 23s 138ms/sample - loss: 32440.3770 - val_loss: 35820.1875\n",
      "Epoch 153/200\n",
      "163/163 [==============================] - 26s 158ms/sample - loss: 31854.5312 - val_loss: 35497.2305\n",
      "Epoch 154/200\n",
      "163/163 [==============================] - 27s 163ms/sample - loss: 31835.5273 - val_loss: 36438.6445\n",
      "Epoch 155/200\n",
      "163/163 [==============================] - 22s 137ms/sample - loss: 31667.9258 - val_loss: 35712.0273\n",
      "Epoch 156/200\n",
      "163/163 [==============================] - 23s 140ms/sample - loss: 31226.1660 - val_loss: 35337.1875\n",
      "Epoch 157/200\n",
      "163/163 [==============================] - 23s 142ms/sample - loss: 31143.0312 - val_loss: 36066.7305\n",
      "Epoch 158/200\n",
      "163/163 [==============================] - 26s 162ms/sample - loss: 30894.8887 - val_loss: 35773.8242\n",
      "Epoch 159/200\n",
      "163/163 [==============================] - 25s 153ms/sample - loss: 30622.7969 - val_loss: 35131.2227\n",
      "Epoch 160/200\n",
      "163/163 [==============================] - 23s 139ms/sample - loss: 30689.8711 - val_loss: 36179.4688\n",
      "Epoch 161/200\n",
      "163/163 [==============================] - 23s 140ms/sample - loss: 30459.1133 - val_loss: 35422.0859\n",
      "Epoch 162/200\n",
      "163/163 [==============================] - 22s 138ms/sample - loss: 30017.7520 - val_loss: 35263.8594\n",
      "Epoch 163/200\n",
      "163/163 [==============================] - 26s 162ms/sample - loss: 29899.8184 - val_loss: 35743.9258\n",
      "Epoch 164/200\n",
      "163/163 [==============================] - 26s 158ms/sample - loss: 29662.1836 - val_loss: 35457.1875\n",
      "Epoch 165/200\n",
      "163/163 [==============================] - 23s 140ms/sample - loss: 29428.8867 - val_loss: 34953.4062\n",
      "Epoch 166/200\n",
      "163/163 [==============================] - 23s 139ms/sample - loss: 29344.8828 - val_loss: 35583.7656\n",
      "Epoch 167/200\n",
      "163/163 [==============================] - 23s 139ms/sample - loss: 29106.0918 - val_loss: 35183.5195\n",
      "Epoch 168/200\n",
      "163/163 [==============================] - 22s 138ms/sample - loss: 28854.3887 - val_loss: 35044.9023\n",
      "Epoch 169/200\n",
      "163/163 [==============================] - 27s 166ms/sample - loss: 28674.6406 - val_loss: 35392.5625\n",
      "Epoch 170/200\n",
      "163/163 [==============================] - 26s 162ms/sample - loss: 28435.1602 - val_loss: 35107.6055\n",
      "Epoch 171/200\n",
      "163/163 [==============================] - 23s 140ms/sample - loss: 28253.9961 - val_loss: 34995.5430\n",
      "Epoch 172/200\n",
      "163/163 [==============================] - 23s 141ms/sample - loss: 28057.0527 - val_loss: 34925.7422\n",
      "Epoch 173/200\n",
      "163/163 [==============================] - 23s 144ms/sample - loss: 27938.8828 - val_loss: 35527.1055\n",
      "Epoch 174/200\n",
      "163/163 [==============================] - 23s 139ms/sample - loss: 27832.9199 - val_loss: 34658.4805\n",
      "Epoch 175/200\n",
      "163/163 [==============================] - 23s 144ms/sample - loss: 27564.4570 - val_loss: 34816.1680\n",
      "Epoch 176/200\n",
      "163/163 [==============================] - 22s 136ms/sample - loss: 27323.4395 - val_loss: 35041.5469\n",
      "Epoch 177/200\n",
      "163/163 [==============================] - 25s 154ms/sample - loss: 27198.4453 - val_loss: 34452.8203\n",
      "Epoch 178/200\n",
      "163/163 [==============================] - 26s 158ms/sample - loss: 27034.4082 - val_loss: 34747.4648\n",
      "Epoch 179/200\n",
      "163/163 [==============================] - 22s 136ms/sample - loss: 26818.7910 - val_loss: 34789.2266\n",
      "Epoch 180/200\n",
      "163/163 [==============================] - 22s 136ms/sample - loss: 26605.9961 - val_loss: 34308.7812\n",
      "Epoch 181/200\n",
      "163/163 [==============================] - 22s 137ms/sample - loss: 26482.2910 - val_loss: 34966.3164\n",
      "Epoch 182/200\n",
      "163/163 [==============================] - 22s 136ms/sample - loss: 26277.5039 - val_loss: 34453.9414\n",
      "Epoch 183/200\n",
      "163/163 [==============================] - 22s 136ms/sample - loss: 26076.9941 - val_loss: 34502.1289\n",
      "Epoch 184/200\n",
      "163/163 [==============================] - 22s 137ms/sample - loss: 25894.8438 - val_loss: 34449.3672\n",
      "Epoch 185/200\n",
      "163/163 [==============================] - 24s 144ms/sample - loss: 25690.8086 - val_loss: 34260.3047\n",
      "Epoch 186/200\n",
      "163/163 [==============================] - 29s 176ms/sample - loss: 25543.2324 - val_loss: 34399.1836\n",
      "Epoch 187/200\n",
      "163/163 [==============================] - 25s 154ms/sample - loss: 25373.4668 - val_loss: 33970.1836\n",
      "Epoch 188/200\n",
      "163/163 [==============================] - 24s 145ms/sample - loss: 25179.3711 - val_loss: 34433.6055\n",
      "Epoch 189/200\n",
      "163/163 [==============================] - 23s 139ms/sample - loss: 25041.2891 - val_loss: 34092.7383\n",
      "Epoch 190/200\n",
      "163/163 [==============================] - 23s 143ms/sample - loss: 24799.2676 - val_loss: 33892.5781\n",
      "Epoch 191/200\n",
      "163/163 [==============================] - 23s 143ms/sample - loss: 24707.5527 - val_loss: 34519.8047\n",
      "Epoch 192/200\n",
      "163/163 [==============================] - 23s 142ms/sample - loss: 24572.9570 - val_loss: 33671.6836\n",
      "Epoch 193/200\n",
      "163/163 [==============================] - 23s 139ms/sample - loss: 24392.7793 - val_loss: 34279.8906\n",
      "Epoch 194/200\n",
      "163/163 [==============================] - 28s 170ms/sample - loss: 24162.2129 - val_loss: 33993.6797\n",
      "Epoch 195/200\n",
      "163/163 [==============================] - 29s 175ms/sample - loss: 23932.6445 - val_loss: 33829.8906\n",
      "Epoch 196/200\n",
      "163/163 [==============================] - 23s 142ms/sample - loss: 23808.3281 - val_loss: 34150.5195\n",
      "Epoch 197/200\n",
      "163/163 [==============================] - 23s 141ms/sample - loss: 23653.3535 - val_loss: 33657.9805\n",
      "Epoch 198/200\n",
      "163/163 [==============================] - 23s 140ms/sample - loss: 23499.0684 - val_loss: 34048.7578\n",
      "Epoch 199/200\n",
      "163/163 [==============================] - 23s 143ms/sample - loss: 23336.0391 - val_loss: 33498.6641\n",
      "Epoch 200/200\n",
      "163/163 [==============================] - 23s 141ms/sample - loss: 23170.0195 - val_loss: 34016.9766\n"
     ]
    }
   ],
   "source": [
    "# Learning\n",
    "# Finally, we train the model:\n",
    "history = vae_model.fit(X_train, X_train, \n",
    "                        shuffle=True, \n",
    "                        epochs=epochs, \n",
    "                        batch_size=256, \n",
    "                        validation_data=(X_test, X_test))\n",
    "#history = vae_model.fit(X_train, X_train,\n",
    "#                        shuffle=True,\n",
    "#                        epochs=10,\n",
    "#                        batch_size=256)\n",
    "\n",
    "vae_model.save_weights('vae_liver.h5')"
   ]
  },
  {
   "cell_type": "code",
   "execution_count": 23,
   "id": "4db2e36a",
   "metadata": {},
   "outputs": [
    {
     "data": {
      "image/png": "[encoded data removed]",
      "text/plain": [
       "<Figure size 432x288 with 1 Axes>"
      ]
     },
     "metadata": {
      "needs_background": "light"
     },
     "output_type": "display_data"
    }
   ],
   "source": [
    "# plot loss history\n",
    "loss = history.history['loss']\n",
    "val_loss = history.history['val_loss']\n",
    "epochs = range(len(loss))\n",
    "\n",
    "plt.figure()\n",
    "plt.plot(epochs, loss, label='Training loss')\n",
    "plt.plot(epochs, val_loss, label='Validation loss')\n",
    "plt.xlabel('Epochs')\n",
    "plt.ylabel('Loss')\n",
    "plt.title('Training and validation loss')\n",
    "plt.legend(['Training loss', 'Validation loss'], loc='upper right');\n",
    "plt.show()\n"
   ]
  },
  {
   "cell_type": "code",
   "execution_count": 24,
   "id": "b2b0d3fe",
   "metadata": {},
   "outputs": [],
   "source": [
    "score = vae_model.evaluate(X_test, X_test, verbose = 1)"
   ]
  },
  {
   "cell_type": "code",
   "execution_count": 25,
   "id": "b0b855c7",
   "metadata": {},
   "outputs": [
    {
     "name": "stdout",
     "output_type": "stream",
     "text": [
      "Test Loss: 14701.883858816964\n"
     ]
    }
   ],
   "source": [
    "print('Test Loss:', score)"
   ]
  },
  {
   "cell_type": "code",
   "execution_count": 26,
   "id": "636aaac1",
   "metadata": {},
   "outputs": [
    {
     "name": "stderr",
     "output_type": "stream",
     "text": [
      "C:\\Users\\Innocent SADO\\Anaconda3\\envs\\Master2\\lib\\site-packages\\keras\\engine\\training_v1.py:2079: UserWarning: `Model.state_updates` will be removed in a future version. This property should not be used in TensorFlow 2.0, as `updates` are applied automatically.\n",
      "  updates=self.state_updates,\n"
     ]
    }
   ],
   "source": [
    "#mae_vector = get_error_term(X_pred, X_test)#, _rmse=False)\n",
    "\n",
    "# Code to predict the anomalies based on the threshold\n",
    "\n",
    "\n",
    "y_pred = vae_model.predict(X_test)\n",
    "y_dist = np.linalg.norm(X_test - y_pred, axis = -1)\n",
    "threshold = np.quantile(y_dist, 0.75)\n",
    "#threshold = 37.5\n",
    "\n",
    "z = zip(y_dist >= threshold, y_dist)\n",
    "y_label=[]\n",
    "error = []\n",
    "for idx, (is_anomaly, y_dist) in enumerate(z):\n",
    "    if is_anomaly:\n",
    "        y_label.append(1)\n",
    "    else:\n",
    "        y_label.append(0)\n",
    "    error.append(y_dist)"
   ]
  },
  {
   "cell_type": "code",
   "execution_count": 27,
   "id": "676c91b7",
   "metadata": {},
   "outputs": [
    {
     "data": {
      "text/plain": [
       "23.20843940963153"
      ]
     },
     "execution_count": 27,
     "metadata": {},
     "output_type": "execute_result"
    }
   ],
   "source": [
    "threshold"
   ]
  },
  {
   "cell_type": "code",
   "execution_count": 28,
   "id": "0bf87f52",
   "metadata": {},
   "outputs": [
    {
     "data": {
      "text/plain": [
       "0.9285714285714286"
      ]
     },
     "execution_count": 28,
     "metadata": {},
     "output_type": "execute_result"
    }
   ],
   "source": [
    "#Code to calculate AUC\n",
    "from sklearn.metrics import confusion_matrix, roc_auc_score\n",
    "\n",
    "roc_auc_score(y_test, y_label)"
   ]
  },
  {
   "cell_type": "code",
   "execution_count": 29,
   "id": "c26f81f4",
   "metadata": {},
   "outputs": [
    {
     "data": {
      "image/png": "[encoded data removed]",
      "text/plain": [
       "<Figure size 720x576 with 2 Axes>"
      ]
     },
     "metadata": {
      "needs_background": "light"
     },
     "output_type": "display_data"
    }
   ],
   "source": [
    "# Code to show the confusion matrix\n",
    "\n",
    "viz = Visualization()\n",
    "viz.draw_confusion_matrix(y_test, y_label)"
   ]
  },
  {
   "cell_type": "code",
   "execution_count": 30,
   "id": "8df136b2",
   "metadata": {},
   "outputs": [
    {
     "name": "stdout",
     "output_type": "stream",
     "text": [
      "              precision    recall  f1-score   support\n",
      "\n",
      "           0       0.94      1.00      0.97        49\n",
      "           1       1.00      0.86      0.92        21\n",
      "\n",
      "    accuracy                           0.96        70\n",
      "   macro avg       0.97      0.93      0.95        70\n",
      "weighted avg       0.96      0.96      0.96        70\n",
      "\n"
     ]
    }
   ],
   "source": [
    "from sklearn.metrics import classification_report\n",
    "\n",
    "print(classification_report(y_test, y_label))"
   ]
  },
  {
   "cell_type": "code",
   "execution_count": 31,
   "id": "c961f3a0",
   "metadata": {},
   "outputs": [
    {
     "name": "stdout",
     "output_type": "stream",
     "text": [
      "AUC: 92.86%\n",
      "\n",
      "F1_score: 92.31%\n",
      "\n",
      "Accuracy: 95.71%\n",
      "\n",
      "Precision: 100.00%\n",
      "\n",
      "Recall: 85.71%\n",
      "\n",
      "Specificity: 100.00%\n",
      "\n"
     ]
    }
   ],
   "source": [
    "from sklearn import metrics\n",
    "\n",
    "#y_pred =  (mae_vector > error_thresh).astype('int').ravel()\n",
    "y_pred =  y_label\n",
    "AUC = metrics.roc_auc_score(y_test, y_pred)\n",
    "F1 = metrics.f1_score(y_test, y_pred)\n",
    "Accuracy = metrics.accuracy_score(y_test, y_pred)\n",
    "Precision = metrics.precision_score(y_test, y_pred)\n",
    "Recall = metrics.recall_score(y_test, y_pred)\n",
    "tn, fp, fn, tp = metrics.confusion_matrix(y_test, y_pred).ravel()\n",
    "Specificity = tn / (tn+fp)\n",
    "\n",
    "print(\"AUC: {:.2%}\\n\".format(AUC))\n",
    "print(\"F1_score: {:.2%}\\n\".format(F1))\n",
    "print(\"Accuracy: {:.2%}\\n\".format(Accuracy))\n",
    "print(\"Precision: {:.2%}\\n\".format(Precision))\n",
    "print(\"Recall: {:.2%}\\n\".format(Recall))\n",
    "print(\"Specificity: {:.2%}\\n\".format(Specificity))"
   ]
  },
  {
   "cell_type": "code",
   "execution_count": null,
   "id": "0c9af16e",
   "metadata": {},
   "outputs": [],
   "source": []
  },
  {
   "cell_type": "code",
   "execution_count": null,
   "id": "b327d36e",
   "metadata": {},
   "outputs": [],
   "source": []
  }
 ],
 "metadata": {
  "kernelspec": {
   "display_name": "Python 3 (ipykernel)",
   "language": "python",
   "name": "python3"
  },
  "language_info": {
   "codemirror_mode": {
    "name": "ipython",
    "version": 3
   },
   "file_extension": ".py",
   "mimetype": "text/x-python",
   "name": "python",
   "nbconvert_exporter": "python",
   "pygments_lexer": "ipython3",
   "version": "3.8.13"
  }
 },
 "nbformat": 4,
 "nbformat_minor": 5
}
