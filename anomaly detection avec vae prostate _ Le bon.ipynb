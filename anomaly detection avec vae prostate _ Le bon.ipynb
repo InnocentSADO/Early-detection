{
 "cells": [
  {
   "cell_type": "code",
   "execution_count": 1,
   "id": "5cb618f2",
   "metadata": {},
   "outputs": [],
   "source": [
    "from datetime import datetime\n",
    "import matplotlib.pyplot as plt\n",
    "import numpy as np\n",
    "import pandas as pd\n",
    "import random as rd\n",
    "\n",
    "\n",
    "import tensorflow as tf\n",
    "tf.compat.v1.disable_eager_execution()\n",
    "from tensorflow.keras.models import Model, load_model\n",
    "from tensorflow.keras.layers import Lambda, Input, Dense\n",
    "from tensorflow.keras.losses import mse, binary_crossentropy, kl_divergence\n",
    "from tensorflow.keras import optimizers\n",
    "from keras.utils.vis_utils import plot_model\n",
    "from tensorflow.keras import backend as K\n",
    "\n",
    "from sklearn.model_selection import train_test_split\n",
    "from sklearn.preprocessing import MinMaxScaler, StandardScaler, PowerTransformer\n",
    "\n",
    "import seaborn as sns\n",
    "import matplotlib.pyplot as plt\n",
    "\n",
    "%matplotlib inline"
   ]
  },
  {
   "cell_type": "code",
   "execution_count": 2,
   "id": "0d53a566",
   "metadata": {},
   "outputs": [],
   "source": [
    "#Function to read data from file\n",
    "def get_data(din):\n",
    "    bf = pd.read_csv(din,sep='\\t')\n",
    "    genes = bf['Hugo_Symbol']\n",
    "    cols = list(bf.columns)\n",
    "    cols.remove('Entrez_Gene_Id')\n",
    "    cols.remove('Hugo_Symbol')\n",
    "    bf = bf[cols]\n",
    "    bf = bf.transpose()\n",
    "    bf.columns = genes\n",
    "    return bf\n",
    "\n",
    "def getDataset(din1, din2, din3):\n",
    "    normal1 = get_data(din1)\n",
    "    normal2 = get_data(din2)\n",
    "    abnormal = get_data(din3)\n",
    "    common_gene = set(list(normal1.columns)).intersection(set(list(normal2.columns))).intersection(set(list(abnormal.columns)))\n",
    "    common_gene = list(common_gene)\n",
    "    normal1 = normal1[common_gene]\n",
    "    normal2 = normal2[common_gene]\n",
    "    abnormal = abnormal[common_gene]\n",
    "    #abnormal = list(abnormal)\n",
    "    \n",
    "    X_train = pd.concat( [normal1, normal2] ).values\n",
    "    \n",
    "    abnormal = abnormal.values.tolist()\n",
    "    normal1 = normal1.values.tolist()\n",
    "    \n",
    "    abnormal = list(np.float_(abnormal))\n",
    "    normal1 = list(np.float_(normal1))\n",
    "    \n",
    "    abnormal = rd.SystemRandom().sample(abnormal, 19)\n",
    "    normal1 = rd.SystemRandom().sample(normal1, 47)\n",
    "    \n",
    "    abnormal = pd.DataFrame(abnormal)\n",
    "    normal1 = pd.DataFrame(normal1)\n",
    "    \n",
    "    #X_train = np.random.shuffle(X_train) \n",
    "    X_test = pd.concat( [normal1, abnormal] ).values\n",
    "    y_test = np.zeros(len(X_test), dtype=int)\n",
    "    y_test[len(normal1):] = 1\n",
    "    \n",
    "\n",
    "    \n",
    "    X_train = np.asarray(X_train)\n",
    "    X_test = np.asarray(X_test)\n",
    "    y_test = np.asarray(y_test)\n",
    "                \n",
    "\n",
    "    return X_train, X_test, y_test"
   ]
  },
  {
   "cell_type": "code",
   "execution_count": 3,
   "id": "ed1de1e1",
   "metadata": {},
   "outputs": [],
   "source": [
    "# Code to visualize the results\n",
    "\n",
    "class Visualization:\n",
    "    labels = [\"Normal\",\"Anomal\"]\n",
    "    \n",
    "    def draw_confusion_matrix(self, y, y_pred):\n",
    "        matrix = confusion_matrix(y, y_pred)\n",
    "        \n",
    "        plt.figure(figsize=(10,8))\n",
    "        colors = [\"orange\",\"green\"]\n",
    "        sns.heatmap(matrix, xticklabels=self.labels, yticklabels=self.labels, cmap=colors, annot=True, fmt=\"d\")\n",
    "        plt.title(\"Confusion Matrix\")\n",
    "        plt.ylabel(\"Actual\")\n",
    "        plt.xlabel(\"Predicted\")\n",
    "        plt.show()\n",
    "        \n",
    "    def draw_anomaly(self, y, error, treshold):\n",
    "        groupsDF = pd.DataFrame({'error':error,'true':y}).groupby('true')\n",
    "        \n",
    "        figure,axes = plt.subplots(figsize=(12,8))\n",
    "        \n",
    "        for name, group in groupsDF:\n",
    "            axes.plot(group.index, group.error, marker='x' if name == 1 else 'o', linestyle='',\n",
    "                     color='r' if name ==1 else 'g', label=\"Anomaly\" if name == 1 else \"Normal\")\n",
    "            \n",
    "        axes.hlines(treshold, axes.get_xlim()[0], axes.get_xlim()[1], colors='b', zorder = 100, label = 'Treshold')\n",
    "        axes.legend()\n",
    "            \n",
    "        plt.title(\"Anomalies\")\n",
    "        plt.ylabel(\"Error\")\n",
    "        plt.xlabel(\"Data\")\n",
    "        plt.show()\n",
    "        \n",
    "    def draw_error(self, error, treshold):\n",
    "        plt.plot(error, marker='o', ms=3.5, linestyle='', label='Point')\n",
    "        \n",
    "        plt.hlines(treshold, xmin=0, xmax=len(error)-1, colors=\"b\", zorder=100, label='Treshold')\n",
    "        plt.legend()\n",
    "        plt.title(\"Reconstruction error\")\n",
    "        plt.ylabel(\"Error\")\n",
    "        plt.xlabel(\"Data\")\n",
    "        plt.show()\n",
    "    "
   ]
  },
  {
   "cell_type": "code",
   "execution_count": 4,
   "id": "8d213bbf",
   "metadata": {},
   "outputs": [],
   "source": [
    "din1 = 'data/prostate-rsem-fpkm-gtex.txt'\n",
    "din2 = 'data/prad-rsem-fpkm-tcga.txt'\n",
    "din3 = 'data/prad-rsem-fpkm-tcga-t.txt'\n",
    "\n",
    "X_train, X_test, y_test = getDataset(din1, din2, din3)\n"
   ]
  },
  {
   "cell_type": "code",
   "execution_count": 5,
   "id": "bf92d46d",
   "metadata": {},
   "outputs": [],
   "source": [
    "from numpy import savetxt\n",
    "\n",
    "savetxt('dataset/x_train_prad.csv', X_train, delimiter='\\t')\n",
    "savetxt('dataset/x_test_prad.csv', X_test, delimiter='\\t')\n",
    "savetxt('dataset/y_test_prad.csv', y_test, delimiter='\\t')\n",
    "\n"
   ]
  },
  {
   "cell_type": "code",
   "execution_count": 6,
   "id": "c91c639d",
   "metadata": {},
   "outputs": [],
   "source": [
    "scaler = MinMaxScaler()\n",
    "X_train = scaler.fit_transform(X_train)\n",
    "X_test = scaler.fit_transform(X_test)\n"
   ]
  },
  {
   "cell_type": "code",
   "execution_count": null,
   "id": "ddeed9ca",
   "metadata": {},
   "outputs": [],
   "source": []
  },
  {
   "cell_type": "code",
   "execution_count": 7,
   "id": "ef0972dc",
   "metadata": {},
   "outputs": [
    {
     "name": "stdout",
     "output_type": "stream",
     "text": [
      "[[2.20320492e-01 5.77564530e-01 1.48616703e-02 ... 2.58166491e-02\n",
      "  5.03335015e-02 1.00000000e+00]\n",
      " [1.69196936e-01 2.05555841e-01 1.01933414e-01 ... 6.92757082e-02\n",
      "  1.05095006e-01 7.28630745e-01]\n",
      " [2.03420526e-03 3.73753442e-02 0.00000000e+00 ... 2.64589661e-01\n",
      "  2.14730116e-01 1.71552449e-01]\n",
      " ...\n",
      " [3.56174573e-03 4.89728195e-02 3.06566658e-05 ... 1.78446352e-01\n",
      "  8.14416232e-02 5.75885957e-01]\n",
      " [4.63005385e-03 4.70039856e-01 2.63987955e-03 ... 2.87407798e-01\n",
      "  2.90342470e-02 3.60418372e-01]\n",
      " [2.49386882e-02 1.38177588e-01 6.91478128e-04 ... 1.78446352e-01\n",
      "  5.57704165e-02 5.34280019e-01]]\n"
     ]
    }
   ],
   "source": [
    "print(X_test)"
   ]
  },
  {
   "cell_type": "code",
   "execution_count": 8,
   "id": "e3db7c50",
   "metadata": {},
   "outputs": [
    {
     "data": {
      "text/plain": [
       "(154, 19046)"
      ]
     },
     "execution_count": 8,
     "metadata": {},
     "output_type": "execute_result"
    }
   ],
   "source": [
    "X_train.shape"
   ]
  },
  {
   "cell_type": "code",
   "execution_count": 9,
   "id": "3ed3d95e",
   "metadata": {},
   "outputs": [
    {
     "data": {
      "text/plain": [
       "(66, 19046)"
      ]
     },
     "execution_count": 9,
     "metadata": {},
     "output_type": "execute_result"
    }
   ],
   "source": [
    "X_test.shape"
   ]
  },
  {
   "cell_type": "code",
   "execution_count": 10,
   "id": "d385d0c6",
   "metadata": {},
   "outputs": [
    {
     "name": "stdout",
     "output_type": "stream",
     "text": [
      "[0 0 0 0 0 0 0 0 0 0 0 0 0 0 0 0 0 0 0 0 0 0 0 0 0 0 0 0 0 0 0 0 0 0 0 0 0\n",
      " 0 0 0 0 0 0 0 0 0 0 1 1 1 1 1 1 1 1 1 1 1 1 1 1 1 1 1 1 1]\n"
     ]
    }
   ],
   "source": [
    "print(y_test)"
   ]
  },
  {
   "cell_type": "code",
   "execution_count": 11,
   "id": "ac3abc31",
   "metadata": {},
   "outputs": [],
   "source": [
    "def get_error_term(v1, v2, _rmse=True):\n",
    "    if _rmse:\n",
    "        return np.sqrt(np.mean((v1 - v2) ** 2, axis=1))\n",
    "    #return MAE\n",
    "    return np.mean(abs(v1 - v2), axis=1)"
   ]
  },
  {
   "cell_type": "code",
   "execution_count": 12,
   "id": "9ac29f5d",
   "metadata": {},
   "outputs": [],
   "source": [
    "# The reparameterization trick\n",
    "\n",
    "def sample(args):\n",
    "    z_mean, z_log_var = args\n",
    "    batch = K.shape(z_mean)[0]\n",
    "    dim = K.int_shape(z_mean)[1]\n",
    "    epsilon = K.random_normal(shape=(batch, dim))\n",
    "    return z_mean + K.exp(0.5 * z_log_var) * epsilon"
   ]
  },
  {
   "cell_type": "code",
   "execution_count": 13,
   "id": "ddb8680a",
   "metadata": {},
   "outputs": [],
   "source": [
    "original_dim = X_train.shape[1]\n",
    "input_shape = (original_dim,)\n",
    "intermediate_dim = int(original_dim / 2)\n",
    "latent_dim = int(original_dim / 3)"
   ]
  },
  {
   "cell_type": "raw",
   "id": "240b7c0d",
   "metadata": {},
   "source": [
    "# encoder model\n",
    "inputs = Input(shape=input_shape, name='encoder_input')\n",
    "x = Dense(intermediate_dim, activation='relu')(inputs)\n",
    "z_mean = Dense(latent_dim, name='z_mean')(x)\n",
    "z_log_var = Dense(latent_dim, name='z_log_var')(x)\n",
    "# use the reparameterization trick and get the output from the sample() function\n",
    "z = Lambda(sample, output_shape=(latent_dim,), name='z')([z_mean, z_log_var])\n",
    "encoder = Model(inputs, z, name='encoder')\n",
    "encoder.summary()"
   ]
  },
  {
   "cell_type": "code",
   "execution_count": 14,
   "id": "367e3742",
   "metadata": {},
   "outputs": [
    {
     "name": "stdout",
     "output_type": "stream",
     "text": [
      "Model: \"encoder\"\n",
      "__________________________________________________________________________________________________\n",
      " Layer (type)                   Output Shape         Param #     Connected to                     \n",
      "==================================================================================================\n",
      " encoder_input (InputLayer)     [(None, 19046)]      0           []                               \n",
      "                                                                                                  \n",
      " dense (Dense)                  (None, 9523)         181384581   ['encoder_input[0][0]']          \n",
      "                                                                                                  \n",
      " z_mean (Dense)                 (None, 6348)         60458352    ['dense[0][0]']                  \n",
      "                                                                                                  \n",
      " z_log_var (Dense)              (None, 6348)         60458352    ['dense[0][0]']                  \n",
      "                                                                                                  \n",
      " z (Lambda)                     (None, 6348)         0           ['z_mean[0][0]',                 \n",
      "                                                                  'z_log_var[0][0]']              \n",
      "                                                                                                  \n",
      "==================================================================================================\n",
      "Total params: 302,301,285\n",
      "Trainable params: 302,301,285\n",
      "Non-trainable params: 0\n",
      "__________________________________________________________________________________________________\n"
     ]
    }
   ],
   "source": [
    "# encoder model\n",
    "inputs = Input(shape=input_shape, name='encoder_input')\n",
    "x = Dense(intermediate_dim, activation='relu')(inputs)\n",
    "z_mean = Dense(latent_dim, name='z_mean')(x)\n",
    "z_log_var = Dense(latent_dim, name='z_log_var')(x)\n",
    "\n",
    "# sampling \n",
    "z = Lambda(sample, output_shape=(latent_dim,), name='z')([z_mean, z_log_var]) \n",
    "\n",
    "# instantiate encoder model\n",
    "encoder = Model(inputs, z, name='encoder')\n",
    "encoder.summary()"
   ]
  },
  {
   "cell_type": "code",
   "execution_count": 15,
   "id": "8a95e17f",
   "metadata": {},
   "outputs": [
    {
     "data": {
      "image/png": "[encoded data removed]",
      "text/plain": [
       "<IPython.core.display.Image object>"
      ]
     },
     "execution_count": 15,
     "metadata": {},
     "output_type": "execute_result"
    }
   ],
   "source": [
    "plot_model(encoder, to_file='vae_mlp_encoder.png', show_shapes=True)"
   ]
  },
  {
   "cell_type": "code",
   "execution_count": 16,
   "id": "74f61e01",
   "metadata": {},
   "outputs": [
    {
     "name": "stdout",
     "output_type": "stream",
     "text": [
      "Model: \"decoder\"\n",
      "_________________________________________________________________\n",
      " Layer (type)                Output Shape              Param #   \n",
      "=================================================================\n",
      " z_sampling (InputLayer)     [(None, 6348)]            0         \n",
      "                                                                 \n",
      " dense_1 (Dense)             (None, 9523)              60461527  \n",
      "                                                                 \n",
      " dense_2 (Dense)             (None, 19046)             181394104 \n",
      "                                                                 \n",
      "=================================================================\n",
      "Total params: 241,855,631\n",
      "Trainable params: 241,855,631\n",
      "Non-trainable params: 0\n",
      "_________________________________________________________________\n"
     ]
    }
   ],
   "source": [
    "# decoder model\n",
    "latent_inputs = Input(shape=(latent_dim,), name='z_sampling')\n",
    "x = Dense(intermediate_dim, activation='relu')(latent_inputs)\n",
    "outputs = Dense(original_dim, activation='sigmoid')(x)\n",
    "# Instantiate the decoder model:\n",
    "decoder = Model(latent_inputs, outputs, name='decoder')\n",
    "decoder.summary()"
   ]
  },
  {
   "cell_type": "code",
   "execution_count": 17,
   "id": "96ca5008",
   "metadata": {},
   "outputs": [
    {
     "data": {
      "image/png": "[encoded data removed]",
      "text/plain": [
       "<IPython.core.display.Image object>"
      ]
     },
     "execution_count": 17,
     "metadata": {},
     "output_type": "execute_result"
    }
   ],
   "source": [
    "plot_model(decoder, to_file='vae_mlp_decoder.png', show_shapes=True)"
   ]
  },
  {
   "cell_type": "code",
   "execution_count": 18,
   "id": "ce62c389",
   "metadata": {},
   "outputs": [],
   "source": [
    "# full VAE model\n",
    "outputs = decoder(encoder(inputs))\n",
    "vae_model = Model(inputs, outputs, name='vae_mlp')"
   ]
  },
  {
   "cell_type": "code",
   "execution_count": 19,
   "id": "16ae91fe",
   "metadata": {},
   "outputs": [
    {
     "data": {
      "image/png": "[encoded data removed]",
      "text/plain": [
       "<IPython.core.display.Image object>"
      ]
     },
     "execution_count": 19,
     "metadata": {},
     "output_type": "execute_result"
    }
   ],
   "source": [
    "plot_model(vae_model, to_file='vae_mlp_model.png', show_shapes=True)"
   ]
  },
  {
   "cell_type": "code",
   "execution_count": 20,
   "id": "8293a3c7",
   "metadata": {},
   "outputs": [],
   "source": [
    "# the KL loss function:\n",
    "def vae_loss(x, x_decoded_mean):\n",
    "    # compute the average MSE error, then scale it up, ie. simply sum on all axes\n",
    "    reconstruction_loss = K.sum(K.square(x - x_decoded_mean))\n",
    "    # compute the KL loss\n",
    "    kl_loss = - 0.5 * K.sum(1 + z_log_var - K.square(z_mean) - K.square(K.exp(z_log_var)), axis=-1)\n",
    "    # return the average loss over all \n",
    "    total_loss = K.mean(reconstruction_loss + kl_loss)    \n",
    "    #total_loss = reconstruction_loss + kl_loss\n",
    "    return total_loss"
   ]
  },
  {
   "cell_type": "code",
   "execution_count": 21,
   "id": "1685a48f",
   "metadata": {},
   "outputs": [
    {
     "name": "stdout",
     "output_type": "stream",
     "text": [
      "Model: \"vae_mlp\"\n",
      "_________________________________________________________________\n",
      " Layer (type)                Output Shape              Param #   \n",
      "=================================================================\n",
      " encoder_input (InputLayer)  [(None, 19046)]           0         \n",
      "                                                                 \n",
      " encoder (Functional)        (None, 6348)              302301285 \n",
      "                                                                 \n",
      " decoder (Functional)        (None, 19046)             241855631 \n",
      "                                                                 \n",
      "=================================================================\n",
      "Total params: 544,156,916\n",
      "Trainable params: 544,156,916\n",
      "Non-trainable params: 0\n",
      "_________________________________________________________________\n"
     ]
    }
   ],
   "source": [
    "#opt = optimizers.Adam(learning_rate=0.01)\n",
    "\n",
    "\n",
    "epochs = 200\n",
    "learning_rate = 0.0001\n",
    "decay_rate = learning_rate / epochs\n",
    "#opt = optimizers.RMSprop(learning_rate=learning_rate, decay=decay_rate)\n",
    "opt = optimizers.Adam(learning_rate=learning_rate, decay=decay_rate)\n",
    "vae_model.compile(optimizer=opt, loss=vae_loss)\n",
    "\n",
    "#vae_model.compile(optimizer='adam',\n",
    "#                  loss=vae_loss)\n",
    "\n",
    "vae_model.summary()"
   ]
  },
  {
   "cell_type": "code",
   "execution_count": 22,
   "id": "7e78913c",
   "metadata": {
    "scrolled": false
   },
   "outputs": [
    {
     "name": "stdout",
     "output_type": "stream",
     "text": [
      "Train on 154 samples, validate on 66 samples\n",
      "Epoch 1/200\n",
      "154/154 [==============================] - ETA: 0s - loss: 363949.1250"
     ]
    },
    {
     "name": "stderr",
     "output_type": "stream",
     "text": [
      "C:\\Users\\Innocent SADO\\Anaconda3\\envs\\Master2\\lib\\site-packages\\keras\\engine\\training_v1.py:2057: UserWarning: `Model.state_updates` will be removed in a future version. This property should not be used in TensorFlow 2.0, as `updates` are applied automatically.\n",
      "  updates = self.state_updates\n"
     ]
    },
    {
     "name": "stdout",
     "output_type": "stream",
     "text": [
      "154/154 [==============================] - 65s 425ms/sample - loss: 363949.1250 - val_loss: 111686.0000\n",
      "Epoch 2/200\n",
      "154/154 [==============================] - 49s 319ms/sample - loss: 244090.1562 - val_loss: 85802.9609\n",
      "Epoch 3/200\n",
      "154/154 [==============================] - 39s 252ms/sample - loss: 158764.1250 - val_loss: 95429.9766\n",
      "Epoch 4/200\n",
      "154/154 [==============================] - 31s 204ms/sample - loss: 149980.3750 - val_loss: 76483.8438\n",
      "Epoch 5/200\n",
      "154/154 [==============================] - 37s 241ms/sample - loss: 114078.7891 - val_loss: 65142.9531\n",
      "Epoch 6/200\n",
      "154/154 [==============================] - 33s 213ms/sample - loss: 103125.2266 - val_loss: 63671.4180\n",
      "Epoch 7/200\n",
      "154/154 [==============================] - 32s 205ms/sample - loss: 105446.1484 - val_loss: 62709.3164\n",
      "Epoch 8/200\n",
      "154/154 [==============================] - 30s 193ms/sample - loss: 100768.5156 - val_loss: 63372.3125\n",
      "Epoch 9/200\n",
      "154/154 [==============================] - 28s 179ms/sample - loss: 96884.6562 - val_loss: 65073.1289\n",
      "Epoch 10/200\n",
      "154/154 [==============================] - 29s 186ms/sample - loss: 96629.3125 - val_loss: 64674.6445\n",
      "Epoch 11/200\n",
      "154/154 [==============================] - 36s 232ms/sample - loss: 94934.1406 - val_loss: 62292.1875\n",
      "Epoch 12/200\n",
      "154/154 [==============================] - 34s 223ms/sample - loss: 91577.6953 - val_loss: 60212.2266\n",
      "Epoch 13/200\n",
      "154/154 [==============================] - 31s 204ms/sample - loss: 89418.9297 - val_loss: 58937.8359\n",
      "Epoch 14/200\n",
      "154/154 [==============================] - 34s 219ms/sample - loss: 88848.6484 - val_loss: 58316.0391\n",
      "Epoch 15/200\n",
      "154/154 [==============================] - 31s 201ms/sample - loss: 88300.2500 - val_loss: 58056.9570\n",
      "Epoch 16/200\n",
      "154/154 [==============================] - 30s 197ms/sample - loss: 87157.7422 - val_loss: 58271.4141\n",
      "Epoch 17/200\n",
      "154/154 [==============================] - 35s 228ms/sample - loss: 85972.8359 - val_loss: 58581.1367\n",
      "Epoch 18/200\n",
      "154/154 [==============================] - 36s 233ms/sample - loss: 85187.7578 - val_loss: 58267.3086\n",
      "Epoch 19/200\n",
      "154/154 [==============================] - 30s 195ms/sample - loss: 83958.1328 - val_loss: 57215.4648\n",
      "Epoch 20/200\n",
      "154/154 [==============================] - 29s 190ms/sample - loss: 82308.9922 - val_loss: 56530.1406\n",
      "Epoch 21/200\n",
      "154/154 [==============================] - 31s 202ms/sample - loss: 81388.2422 - val_loss: 56156.1562\n",
      "Epoch 22/200\n",
      "154/154 [==============================] - 36s 234ms/sample - loss: 80239.5078 - val_loss: 56101.1875\n",
      "Epoch 23/200\n",
      "154/154 [==============================] - 35s 228ms/sample - loss: 78871.7188 - val_loss: 56294.3008\n",
      "Epoch 24/200\n",
      "154/154 [==============================] - 30s 198ms/sample - loss: 78122.2734 - val_loss: 55679.3125\n",
      "Epoch 25/200\n",
      "154/154 [==============================] - 34s 218ms/sample - loss: 76942.6719 - val_loss: 55017.7695\n",
      "Epoch 26/200\n",
      "154/154 [==============================] - 39s 250ms/sample - loss: 75979.9375 - val_loss: 54601.4297\n",
      "Epoch 27/200\n",
      "154/154 [==============================] - 35s 224ms/sample - loss: 75080.2266 - val_loss: 54470.6016\n",
      "Epoch 28/200\n",
      "154/154 [==============================] - 29s 189ms/sample - loss: 74076.2109 - val_loss: 54342.8828\n",
      "Epoch 29/200\n",
      "154/154 [==============================] - 31s 204ms/sample - loss: 73013.3672 - val_loss: 53869.0859\n",
      "Epoch 30/200\n",
      "154/154 [==============================] - 35s 224ms/sample - loss: 71966.4375 - val_loss: 53040.1172\n",
      "Epoch 31/200\n",
      "154/154 [==============================] - 35s 225ms/sample - loss: 70709.8438 - val_loss: 52175.2031\n",
      "Epoch 32/200\n",
      "154/154 [==============================] - 30s 193ms/sample - loss: 69633.1562 - val_loss: 51687.2695\n",
      "Epoch 33/200\n",
      "154/154 [==============================] - 29s 188ms/sample - loss: 68652.3516 - val_loss: 51251.2773\n",
      "Epoch 34/200\n",
      "154/154 [==============================] - 37s 238ms/sample - loss: 67617.5859 - val_loss: 50992.8555\n",
      "Epoch 35/200\n",
      "154/154 [==============================] - 34s 221ms/sample - loss: 66847.7188 - val_loss: 50660.5430\n",
      "Epoch 36/200\n",
      "154/154 [==============================] - 28s 181ms/sample - loss: 65856.4453 - val_loss: 50319.8320\n",
      "Epoch 37/200\n",
      "154/154 [==============================] - 33s 214ms/sample - loss: 64930.1055 - val_loss: 49879.6367\n",
      "Epoch 38/200\n",
      "154/154 [==============================] - 29s 189ms/sample - loss: 64072.2461 - val_loss: 49299.8281\n",
      "Epoch 39/200\n",
      "154/154 [==============================] - 30s 194ms/sample - loss: 63287.7930 - val_loss: 48945.9023\n",
      "Epoch 40/200\n",
      "154/154 [==============================] - 35s 225ms/sample - loss: 62350.5664 - val_loss: 48628.6875\n",
      "Epoch 41/200\n",
      "154/154 [==============================] - 36s 236ms/sample - loss: 61570.8945 - val_loss: 48334.6562\n",
      "Epoch 42/200\n",
      "154/154 [==============================] - 28s 180ms/sample - loss: 60689.0703 - val_loss: 47931.0430\n",
      "Epoch 43/200\n",
      "154/154 [==============================] - 28s 180ms/sample - loss: 59993.0391 - val_loss: 47609.5430\n",
      "Epoch 44/200\n",
      "154/154 [==============================] - 28s 180ms/sample - loss: 59254.5586 - val_loss: 47173.0391\n",
      "Epoch 45/200\n",
      "154/154 [==============================] - 29s 188ms/sample - loss: 58577.2734 - val_loss: 46815.4023\n",
      "Epoch 46/200\n",
      "154/154 [==============================] - 40s 261ms/sample - loss: 57939.2227 - val_loss: 46599.2188\n",
      "Epoch 47/200\n",
      "154/154 [==============================] - 30s 192ms/sample - loss: 57352.5391 - val_loss: 46318.1875\n",
      "Epoch 48/200\n",
      "154/154 [==============================] - 27s 175ms/sample - loss: 56804.6562 - val_loss: 46200.8906\n",
      "Epoch 49/200\n",
      "154/154 [==============================] - 27s 174ms/sample - loss: 56217.9336 - val_loss: 45959.5000\n",
      "Epoch 50/200\n",
      "154/154 [==============================] - 28s 182ms/sample - loss: 55693.2656 - val_loss: 45662.2773\n",
      "Epoch 51/200\n",
      "154/154 [==============================] - 36s 233ms/sample - loss: 55122.2930 - val_loss: 45386.6445\n",
      "Epoch 52/200\n",
      "154/154 [==============================] - 38s 249ms/sample - loss: 54616.8125 - val_loss: 45160.4883\n",
      "Epoch 53/200\n",
      "154/154 [==============================] - 33s 211ms/sample - loss: 54164.1758 - val_loss: 45004.1758\n",
      "Epoch 54/200\n",
      "154/154 [==============================] - 32s 208ms/sample - loss: 53652.3828 - val_loss: 44807.6719\n",
      "Epoch 55/200\n",
      "154/154 [==============================] - 26s 172ms/sample - loss: 53259.6250 - val_loss: 44525.3203\n",
      "Epoch 56/200\n",
      "154/154 [==============================] - 28s 181ms/sample - loss: 52771.5547 - val_loss: 44393.3125\n",
      "Epoch 57/200\n",
      "154/154 [==============================] - 29s 188ms/sample - loss: 52372.3281 - val_loss: 44270.2422\n",
      "Epoch 58/200\n",
      "154/154 [==============================] - 33s 212ms/sample - loss: 51969.6680 - val_loss: 44186.9492\n",
      "Epoch 59/200\n",
      "154/154 [==============================] - 32s 206ms/sample - loss: 51538.2656 - val_loss: 43994.2539\n",
      "Epoch 60/200\n",
      "154/154 [==============================] - 29s 185ms/sample - loss: 51114.7031 - val_loss: 43822.6055\n",
      "Epoch 61/200\n",
      "154/154 [==============================] - 29s 185ms/sample - loss: 50729.8164 - val_loss: 43591.0195\n",
      "Epoch 62/200\n",
      "154/154 [==============================] - 35s 228ms/sample - loss: 50331.5938 - val_loss: 43500.7227\n",
      "Epoch 63/200\n",
      "154/154 [==============================] - 31s 203ms/sample - loss: 49851.1016 - val_loss: 43360.2109\n",
      "Epoch 64/200\n",
      "154/154 [==============================] - 28s 180ms/sample - loss: 49372.8047 - val_loss: 43149.0586\n",
      "Epoch 65/200\n",
      "154/154 [==============================] - 28s 181ms/sample - loss: 49025.8398 - val_loss: 43004.2891\n",
      "Epoch 66/200\n",
      "154/154 [==============================] - 29s 187ms/sample - loss: 48594.3945 - val_loss: 42891.7695\n",
      "Epoch 67/200\n",
      "154/154 [==============================] - 32s 211ms/sample - loss: 48204.7031 - val_loss: 42761.5000\n",
      "Epoch 68/200\n",
      "154/154 [==============================] - 32s 208ms/sample - loss: 47822.4492 - val_loss: 42568.4297\n",
      "Epoch 69/200\n",
      "154/154 [==============================] - 28s 179ms/sample - loss: 47374.3125 - val_loss: 42391.5273\n",
      "Epoch 70/200\n",
      "154/154 [==============================] - 29s 186ms/sample - loss: 47007.7227 - val_loss: 42388.5664\n",
      "Epoch 71/200\n",
      "154/154 [==============================] - 29s 185ms/sample - loss: 46639.6641 - val_loss: 42208.8477\n",
      "Epoch 72/200\n"
     ]
    },
    {
     "name": "stdout",
     "output_type": "stream",
     "text": [
      "154/154 [==============================] - 33s 215ms/sample - loss: 46218.0664 - val_loss: 41990.0742\n",
      "Epoch 73/200\n",
      "154/154 [==============================] - 33s 216ms/sample - loss: 45857.1875 - val_loss: 41883.9023\n",
      "Epoch 74/200\n",
      "154/154 [==============================] - 27s 175ms/sample - loss: 45474.7852 - val_loss: 41738.0273\n",
      "Epoch 75/200\n",
      "154/154 [==============================] - 27s 176ms/sample - loss: 45180.4648 - val_loss: 41638.0273\n",
      "Epoch 76/200\n",
      "154/154 [==============================] - 27s 174ms/sample - loss: 44859.4219 - val_loss: 41444.0664\n",
      "Epoch 77/200\n",
      "154/154 [==============================] - 29s 187ms/sample - loss: 44483.7930 - val_loss: 41278.3477\n",
      "Epoch 78/200\n",
      "154/154 [==============================] - 38s 246ms/sample - loss: 44095.9492 - val_loss: 41181.4727\n",
      "Epoch 79/200\n",
      "154/154 [==============================] - 32s 209ms/sample - loss: 43741.9648 - val_loss: 40956.9805\n",
      "Epoch 80/200\n",
      "154/154 [==============================] - 28s 179ms/sample - loss: 43445.6445 - val_loss: 40767.6875\n",
      "Epoch 81/200\n",
      "154/154 [==============================] - 27s 173ms/sample - loss: 43057.8750 - val_loss: 40693.5742\n",
      "Epoch 82/200\n",
      "154/154 [==============================] - 28s 184ms/sample - loss: 42753.0820 - val_loss: 40523.5977\n",
      "Epoch 83/200\n",
      "154/154 [==============================] - 37s 239ms/sample - loss: 42479.8242 - val_loss: 40446.8945\n",
      "Epoch 84/200\n",
      "154/154 [==============================] - 30s 197ms/sample - loss: 42090.5625 - val_loss: 40263.3320\n",
      "Epoch 85/200\n",
      "154/154 [==============================] - 27s 176ms/sample - loss: 41758.8359 - val_loss: 40158.3438\n",
      "Epoch 86/200\n",
      "154/154 [==============================] - 27s 172ms/sample - loss: 41434.2344 - val_loss: 40063.8945\n",
      "Epoch 87/200\n",
      "154/154 [==============================] - 32s 209ms/sample - loss: 41120.0508 - val_loss: 39851.1328\n",
      "Epoch 88/200\n",
      "154/154 [==============================] - 33s 212ms/sample - loss: 40796.2031 - val_loss: 39795.3750\n",
      "Epoch 89/200\n",
      "154/154 [==============================] - 3582s 23s/sample - loss: 40481.6875 - val_loss: 39641.5195\n",
      "Epoch 90/200\n",
      "154/154 [==============================] - 29s 189ms/sample - loss: 40128.7969 - val_loss: 39521.8047\n",
      "Epoch 91/200\n",
      "154/154 [==============================] - 25s 162ms/sample - loss: 39852.2188 - val_loss: 39406.2383\n",
      "Epoch 92/200\n",
      "154/154 [==============================] - 23s 152ms/sample - loss: 39570.4727 - val_loss: 39179.9648\n",
      "Epoch 93/200\n",
      "154/154 [==============================] - 24s 154ms/sample - loss: 39282.2344 - val_loss: 39169.8164\n",
      "Epoch 94/200\n",
      "154/154 [==============================] - 26s 167ms/sample - loss: 38974.1133 - val_loss: 39059.3320\n",
      "Epoch 95/200\n",
      "154/154 [==============================] - 23s 146ms/sample - loss: 38644.1953 - val_loss: 38898.0078\n",
      "Epoch 96/200\n",
      "154/154 [==============================] - 27s 174ms/sample - loss: 38387.6445 - val_loss: 38863.8320\n",
      "Epoch 97/200\n",
      "154/154 [==============================] - 26s 168ms/sample - loss: 38105.1641 - val_loss: 38692.3906\n",
      "Epoch 98/200\n",
      "154/154 [==============================] - 23s 152ms/sample - loss: 37790.6719 - val_loss: 38621.3906\n",
      "Epoch 99/200\n",
      "154/154 [==============================] - 29s 187ms/sample - loss: 37508.8438 - val_loss: 38532.8867\n",
      "Epoch 100/200\n",
      "154/154 [==============================] - 32s 210ms/sample - loss: 37231.2695 - val_loss: 38552.7891\n",
      "Epoch 101/200\n",
      "154/154 [==============================] - 25s 160ms/sample - loss: 37064.3320 - val_loss: 38187.8672\n",
      "Epoch 102/200\n",
      "154/154 [==============================] - 25s 165ms/sample - loss: 36817.9336 - val_loss: 38281.7266\n",
      "Epoch 103/200\n",
      "154/154 [==============================] - 24s 153ms/sample - loss: 36491.5039 - val_loss: 38010.4297\n",
      "Epoch 104/200\n",
      "154/154 [==============================] - 24s 157ms/sample - loss: 36143.3516 - val_loss: 37955.0234\n",
      "Epoch 105/200\n",
      "154/154 [==============================] - 28s 183ms/sample - loss: 35844.6914 - val_loss: 37912.6758\n",
      "Epoch 106/200\n",
      "154/154 [==============================] - 29s 188ms/sample - loss: 35565.0586 - val_loss: 37729.5469\n",
      "Epoch 107/200\n",
      "154/154 [==============================] - 26s 166ms/sample - loss: 35340.9961 - val_loss: 37748.6367\n",
      "Epoch 108/200\n",
      "154/154 [==============================] - 24s 153ms/sample - loss: 35086.7305 - val_loss: 37536.9258\n",
      "Epoch 109/200\n",
      "154/154 [==============================] - 26s 171ms/sample - loss: 34718.7656 - val_loss: 37509.6797\n",
      "Epoch 110/200\n",
      "154/154 [==============================] - 28s 179ms/sample - loss: 34460.9180 - val_loss: 37511.9023\n",
      "Epoch 111/200\n",
      "154/154 [==============================] - 29s 185ms/sample - loss: 34250.7344 - val_loss: 37288.9414\n",
      "Epoch 112/200\n",
      "154/154 [==============================] - 30s 193ms/sample - loss: 34010.3320 - val_loss: 37339.8789\n",
      "Epoch 113/200\n",
      "154/154 [==============================] - 28s 180ms/sample - loss: 33707.9297 - val_loss: 37202.7070\n",
      "Epoch 114/200\n",
      "154/154 [==============================] - 46s 296ms/sample - loss: 33499.9453 - val_loss: 37106.1250\n",
      "Epoch 115/200\n",
      "154/154 [==============================] - 39s 250ms/sample - loss: 33101.1055 - val_loss: 37034.7188\n",
      "Epoch 116/200\n",
      "154/154 [==============================] - 27s 174ms/sample - loss: 32865.2305 - val_loss: 36862.8789\n",
      "Epoch 117/200\n",
      "154/154 [==============================] - 27s 177ms/sample - loss: 32589.9746 - val_loss: 36814.5430\n",
      "Epoch 118/200\n",
      "154/154 [==============================] - 32s 205ms/sample - loss: 32323.4746 - val_loss: 36731.1953\n",
      "Epoch 119/200\n",
      "154/154 [==============================] - 31s 204ms/sample - loss: 32036.9941 - val_loss: 36589.0938\n",
      "Epoch 120/200\n",
      "154/154 [==============================] - 28s 179ms/sample - loss: 31771.9180 - val_loss: 36614.5625\n",
      "Epoch 121/200\n",
      "154/154 [==============================] - 29s 189ms/sample - loss: 31525.2363 - val_loss: 36372.6523\n",
      "Epoch 122/200\n",
      "154/154 [==============================] - 25s 162ms/sample - loss: 31251.0527 - val_loss: 36446.1953\n",
      "Epoch 123/200\n",
      "154/154 [==============================] - 25s 161ms/sample - loss: 31020.8477 - val_loss: 36379.8242\n",
      "Epoch 124/200\n",
      "154/154 [==============================] - 28s 179ms/sample - loss: 30763.1660 - val_loss: 36229.5352\n",
      "Epoch 125/200\n",
      "154/154 [==============================] - 27s 173ms/sample - loss: 30514.0742 - val_loss: 36447.4023\n",
      "Epoch 126/200\n",
      "154/154 [==============================] - 26s 167ms/sample - loss: 30357.0742 - val_loss: 36004.5234\n",
      "Epoch 127/200\n",
      "154/154 [==============================] - 32s 208ms/sample - loss: 30228.5254 - val_loss: 36204.6445\n",
      "Epoch 128/200\n",
      "154/154 [==============================] - 27s 179ms/sample - loss: 29934.8438 - val_loss: 35757.1641\n",
      "Epoch 129/200\n",
      "154/154 [==============================] - 25s 160ms/sample - loss: 29574.2207 - val_loss: 35858.9492\n",
      "Epoch 130/200\n",
      "154/154 [==============================] - 25s 162ms/sample - loss: 29232.1875 - val_loss: 35831.6484\n",
      "Epoch 131/200\n",
      "154/154 [==============================] - 25s 164ms/sample - loss: 29001.9805 - val_loss: 35615.1484\n",
      "Epoch 132/200\n",
      "154/154 [==============================] - 25s 159ms/sample - loss: 28830.7246 - val_loss: 35799.8203\n",
      "Epoch 133/200\n",
      "154/154 [==============================] - 27s 173ms/sample - loss: 28630.4277 - val_loss: 35416.6797\n",
      "Epoch 134/200\n",
      "154/154 [==============================] - 35s 227ms/sample - loss: 28258.5059 - val_loss: 35398.5508\n",
      "Epoch 135/200\n",
      "154/154 [==============================] - 24s 158ms/sample - loss: 27999.7266 - val_loss: 35593.8008\n",
      "Epoch 136/200\n",
      "154/154 [==============================] - 26s 170ms/sample - loss: 27827.1758 - val_loss: 35139.6523\n",
      "Epoch 137/200\n",
      "154/154 [==============================] - 31s 201ms/sample - loss: 27675.6289 - val_loss: 35533.3047\n",
      "Epoch 138/200\n",
      "154/154 [==============================] - 30s 194ms/sample - loss: 27486.5645 - val_loss: 35110.5977\n",
      "Epoch 139/200\n",
      "154/154 [==============================] - 23s 152ms/sample - loss: 27121.0605 - val_loss: 35144.7773\n",
      "Epoch 140/200\n",
      "154/154 [==============================] - 24s 156ms/sample - loss: 26853.8945 - val_loss: 35101.6602\n",
      "Epoch 141/200\n",
      "154/154 [==============================] - 28s 184ms/sample - loss: 26588.1934 - val_loss: 34876.1133\n",
      "Epoch 142/200\n",
      "154/154 [==============================] - 28s 182ms/sample - loss: 26417.2012 - val_loss: 35018.0703\n"
     ]
    },
    {
     "name": "stdout",
     "output_type": "stream",
     "text": [
      "Epoch 143/200\n",
      "154/154 [==============================] - 24s 157ms/sample - loss: 26226.6699 - val_loss: 34826.3359\n",
      "Epoch 144/200\n",
      "154/154 [==============================] - 25s 162ms/sample - loss: 25887.7227 - val_loss: 34674.5898\n",
      "Epoch 145/200\n",
      "154/154 [==============================] - 24s 157ms/sample - loss: 25699.6523 - val_loss: 34792.3594\n",
      "Epoch 146/200\n",
      "154/154 [==============================] - 32s 206ms/sample - loss: 25499.5391 - val_loss: 34608.7188\n",
      "Epoch 147/200\n",
      "154/154 [==============================] - 27s 175ms/sample - loss: 25201.0137 - val_loss: 34558.8398\n",
      "Epoch 148/200\n",
      "154/154 [==============================] - 23s 148ms/sample - loss: 25018.3320 - val_loss: 34619.9531\n",
      "Epoch 149/200\n",
      "154/154 [==============================] - 23s 149ms/sample - loss: 24829.8945 - val_loss: 34422.1523\n",
      "Epoch 150/200\n",
      "154/154 [==============================] - 26s 166ms/sample - loss: 24590.9219 - val_loss: 34435.4922\n",
      "Epoch 151/200\n",
      "154/154 [==============================] - 25s 165ms/sample - loss: 24382.5547 - val_loss: 34477.9492\n",
      "Epoch 152/200\n",
      "154/154 [==============================] - 23s 149ms/sample - loss: 24176.2070 - val_loss: 34186.0195\n",
      "Epoch 153/200\n",
      "154/154 [==============================] - 23s 152ms/sample - loss: 24057.7305 - val_loss: 34527.5898\n",
      "Epoch 154/200\n",
      "154/154 [==============================] - 25s 161ms/sample - loss: 23897.2051 - val_loss: 33983.9219\n",
      "Epoch 155/200\n",
      "154/154 [==============================] - 29s 186ms/sample - loss: 23604.2676 - val_loss: 33986.7344\n",
      "Epoch 156/200\n",
      "154/154 [==============================] - 28s 181ms/sample - loss: 23311.6523 - val_loss: 34122.5000\n",
      "Epoch 157/200\n",
      "154/154 [==============================] - 24s 157ms/sample - loss: 23189.2617 - val_loss: 33734.5703\n",
      "Epoch 158/200\n",
      "154/154 [==============================] - 25s 163ms/sample - loss: 23039.6504 - val_loss: 33951.5781\n",
      "Epoch 159/200\n",
      "154/154 [==============================] - 24s 155ms/sample - loss: 22805.5020 - val_loss: 33754.8281\n",
      "Epoch 160/200\n",
      "154/154 [==============================] - 28s 183ms/sample - loss: 22571.2012 - val_loss: 33648.4922\n",
      "Epoch 161/200\n",
      "154/154 [==============================] - 29s 189ms/sample - loss: 22375.8984 - val_loss: 33932.9727\n",
      "Epoch 162/200\n",
      "154/154 [==============================] - 23s 149ms/sample - loss: 22294.0469 - val_loss: 33509.1875\n",
      "Epoch 163/200\n",
      "154/154 [==============================] - 29s 190ms/sample - loss: 22158.4199 - val_loss: 33972.0430\n",
      "Epoch 164/200\n",
      "154/154 [==============================] - 31s 202ms/sample - loss: 21963.2344 - val_loss: 33560.8672\n",
      "Epoch 165/200\n",
      "154/154 [==============================] - 24s 153ms/sample - loss: 21647.4766 - val_loss: 33520.0742\n",
      "Epoch 166/200\n",
      "154/154 [==============================] - 25s 160ms/sample - loss: 21424.0156 - val_loss: 33630.0898\n",
      "Epoch 167/200\n",
      "154/154 [==============================] - 25s 163ms/sample - loss: 21298.5527 - val_loss: 33295.6445\n",
      "Epoch 168/200\n",
      "154/154 [==============================] - 24s 155ms/sample - loss: 21114.4297 - val_loss: 33560.6094\n",
      "Epoch 169/200\n",
      "154/154 [==============================] - 24s 155ms/sample - loss: 20983.9219 - val_loss: 33395.3906\n",
      "Epoch 170/200\n",
      "154/154 [==============================] - 25s 160ms/sample - loss: 20757.4297 - val_loss: 33227.3672\n",
      "Epoch 171/200\n",
      "154/154 [==============================] - 27s 178ms/sample - loss: 20547.5859 - val_loss: 33292.8008\n",
      "Epoch 172/200\n",
      "154/154 [==============================] - 29s 190ms/sample - loss: 20430.1953 - val_loss: 33019.6328\n",
      "Epoch 173/200\n",
      "154/154 [==============================] - 25s 162ms/sample - loss: 20237.3691 - val_loss: 33287.2461\n",
      "Epoch 174/200\n",
      "154/154 [==============================] - 25s 160ms/sample - loss: 20129.4668 - val_loss: 33018.3867\n",
      "Epoch 175/200\n",
      "154/154 [==============================] - 25s 164ms/sample - loss: 19899.4473 - val_loss: 32957.7734\n",
      "Epoch 176/200\n",
      "154/154 [==============================] - 23s 151ms/sample - loss: 19730.5801 - val_loss: 32919.9648\n",
      "Epoch 177/200\n",
      "154/154 [==============================] - 23s 147ms/sample - loss: 19535.5762 - val_loss: 32939.1836\n",
      "Epoch 178/200\n",
      "154/154 [==============================] - 24s 158ms/sample - loss: 19384.9395 - val_loss: 32880.2070\n",
      "Epoch 179/200\n",
      "154/154 [==============================] - 28s 184ms/sample - loss: 19277.3301 - val_loss: 32740.4961\n",
      "Epoch 180/200\n",
      "154/154 [==============================] - 25s 160ms/sample - loss: 19053.8516 - val_loss: 32744.4199\n",
      "Epoch 181/200\n",
      "154/154 [==============================] - 24s 154ms/sample - loss: 18949.9980 - val_loss: 32787.4922\n",
      "Epoch 182/200\n",
      "154/154 [==============================] - 26s 166ms/sample - loss: 18754.0645 - val_loss: 32831.0391\n",
      "Epoch 183/200\n",
      "154/154 [==============================] - 24s 153ms/sample - loss: 18586.9941 - val_loss: 32713.5527\n",
      "Epoch 184/200\n",
      "154/154 [==============================] - 26s 171ms/sample - loss: 18461.1445 - val_loss: 32658.0156\n",
      "Epoch 185/200\n",
      "154/154 [==============================] - 26s 168ms/sample - loss: 18303.0801 - val_loss: 32442.6562\n",
      "Epoch 186/200\n",
      "154/154 [==============================] - 30s 193ms/sample - loss: 18200.4805 - val_loss: 32811.2891\n",
      "Epoch 187/200\n",
      "154/154 [==============================] - 28s 184ms/sample - loss: 18067.2461 - val_loss: 32310.1738\n",
      "Epoch 188/200\n",
      "154/154 [==============================] - 25s 162ms/sample - loss: 17895.2832 - val_loss: 32522.2578\n",
      "Epoch 189/200\n",
      "154/154 [==============================] - 25s 164ms/sample - loss: 17718.6992 - val_loss: 32382.8145\n",
      "Epoch 190/200\n",
      "154/154 [==============================] - 26s 171ms/sample - loss: 17572.3496 - val_loss: 32363.1895\n",
      "Epoch 191/200\n",
      "154/154 [==============================] - 27s 172ms/sample - loss: 17421.1348 - val_loss: 32493.0645\n",
      "Epoch 192/200\n",
      "154/154 [==============================] - 24s 155ms/sample - loss: 17329.6484 - val_loss: 31990.2344\n",
      "Epoch 193/200\n",
      "154/154 [==============================] - 25s 161ms/sample - loss: 17237.5625 - val_loss: 32468.8066\n",
      "Epoch 194/200\n",
      "154/154 [==============================] - 25s 165ms/sample - loss: 17052.8613 - val_loss: 32105.6328\n",
      "Epoch 195/200\n",
      "154/154 [==============================] - 24s 156ms/sample - loss: 16926.0293 - val_loss: 32264.1133\n",
      "Epoch 196/200\n",
      "154/154 [==============================] - 26s 172ms/sample - loss: 16769.7734 - val_loss: 32135.0371\n",
      "Epoch 197/200\n",
      "154/154 [==============================] - 24s 157ms/sample - loss: 16587.3516 - val_loss: 32067.0840\n",
      "Epoch 198/200\n",
      "154/154 [==============================] - 28s 184ms/sample - loss: 16473.2676 - val_loss: 32274.8594\n",
      "Epoch 199/200\n",
      "154/154 [==============================] - 29s 191ms/sample - loss: 16385.2422 - val_loss: 31834.2910\n",
      "Epoch 200/200\n",
      "154/154 [==============================] - 25s 164ms/sample - loss: 16268.4482 - val_loss: 32208.5879\n"
     ]
    }
   ],
   "source": [
    "# Learning\n",
    "# Finally, we train the model:\n",
    "history = vae_model.fit(X_train, X_train, \n",
    "                        shuffle=True, \n",
    "                        epochs=epochs, \n",
    "                        batch_size=256, \n",
    "                        validation_data=(X_test, X_test))\n",
    "#history = vae_model.fit(X_train, X_train,\n",
    "#                        shuffle=True,\n",
    "#                        epochs=10,\n",
    "#                        batch_size=256)\n",
    "\n",
    "vae_model.save_weights('vae_prostate.h5')"
   ]
  },
  {
   "cell_type": "code",
   "execution_count": 23,
   "id": "4db2e36a",
   "metadata": {},
   "outputs": [
    {
     "data": {
      "image/png": "[encoded data removed]",
      "text/plain": [
       "<Figure size 432x288 with 1 Axes>"
      ]
     },
     "metadata": {
      "needs_background": "light"
     },
     "output_type": "display_data"
    }
   ],
   "source": [
    "# plot loss history\n",
    "loss = history.history['loss']\n",
    "val_loss = history.history['val_loss']\n",
    "epochs = range(len(loss))\n",
    "\n",
    "plt.figure()\n",
    "plt.plot(epochs, loss, label='Training loss')\n",
    "plt.plot(epochs, val_loss, label='Validation loss')\n",
    "plt.xlabel('Epochs')\n",
    "plt.ylabel('Loss')\n",
    "plt.title('Training and validation loss')\n",
    "plt.legend(['Training loss', 'Validation loss'], loc='upper right');\n",
    "plt.show()\n"
   ]
  },
  {
   "cell_type": "code",
   "execution_count": 24,
   "id": "b2b0d3fe",
   "metadata": {},
   "outputs": [],
   "source": [
    "score = vae_model.evaluate(X_test, X_test, verbose = 1)"
   ]
  },
  {
   "cell_type": "code",
   "execution_count": 25,
   "id": "b0b855c7",
   "metadata": {},
   "outputs": [
    {
     "name": "stdout",
     "output_type": "stream",
     "text": [
      "Test Loss: 16181.82774029356\n"
     ]
    }
   ],
   "source": [
    "print('Test Loss:', score)"
   ]
  },
  {
   "cell_type": "code",
   "execution_count": 26,
   "id": "636aaac1",
   "metadata": {},
   "outputs": [
    {
     "name": "stderr",
     "output_type": "stream",
     "text": [
      "C:\\Users\\Innocent SADO\\Anaconda3\\envs\\Master2\\lib\\site-packages\\keras\\engine\\training_v1.py:2079: UserWarning: `Model.state_updates` will be removed in a future version. This property should not be used in TensorFlow 2.0, as `updates` are applied automatically.\n",
      "  updates=self.state_updates,\n"
     ]
    }
   ],
   "source": [
    "#mae_vector = get_error_term(X_pred, X_test)#, _rmse=False)\n",
    "\n",
    "# Code to predict the anomalies based on the threshold\n",
    "\n",
    "\n",
    "y_pred = vae_model.predict(X_test)\n",
    "y_dist = np.linalg.norm(X_test - y_pred, axis = -1)\n",
    "threshold = np.quantile(y_dist, 0.75)\n",
    "#threshold = 37.5\n",
    "\n",
    "z = zip(y_dist >= threshold, y_dist)\n",
    "y_label=[]\n",
    "error = []\n",
    "for idx, (is_anomaly, y_dist) in enumerate(z):\n",
    "    if is_anomaly:\n",
    "        y_label.append(1)\n",
    "    else:\n",
    "        y_label.append(0)\n",
    "    error.append(y_dist)"
   ]
  },
  {
   "cell_type": "code",
   "execution_count": 27,
   "id": "676c91b7",
   "metadata": {},
   "outputs": [
    {
     "data": {
      "text/plain": [
       "22.236782499836902"
      ]
     },
     "execution_count": 27,
     "metadata": {},
     "output_type": "execute_result"
    }
   ],
   "source": [
    "threshold"
   ]
  },
  {
   "cell_type": "code",
   "execution_count": 28,
   "id": "0bf87f52",
   "metadata": {},
   "outputs": [
    {
     "data": {
      "text/plain": [
       "0.9473684210526316"
      ]
     },
     "execution_count": 28,
     "metadata": {},
     "output_type": "execute_result"
    }
   ],
   "source": [
    "#Code to calculate AUC\n",
    "from sklearn.metrics import confusion_matrix, roc_auc_score\n",
    "\n",
    "roc_auc_score(y_test, y_label)"
   ]
  },
  {
   "cell_type": "code",
   "execution_count": 29,
   "id": "c26f81f4",
   "metadata": {},
   "outputs": [
    {
     "data": {
      "image/png": "[encoded data removed]",
      "text/plain": [
       "<Figure size 720x576 with 2 Axes>"
      ]
     },
     "metadata": {
      "needs_background": "light"
     },
     "output_type": "display_data"
    }
   ],
   "source": [
    "# Code to show the confusion matrix\n",
    "\n",
    "viz = Visualization()\n",
    "viz.draw_confusion_matrix(y_test, y_label)"
   ]
  },
  {
   "cell_type": "code",
   "execution_count": 30,
   "id": "8df136b2",
   "metadata": {},
   "outputs": [
    {
     "name": "stdout",
     "output_type": "stream",
     "text": [
      "              precision    recall  f1-score   support\n",
      "\n",
      "           0       0.96      1.00      0.98        47\n",
      "           1       1.00      0.89      0.94        19\n",
      "\n",
      "    accuracy                           0.97        66\n",
      "   macro avg       0.98      0.95      0.96        66\n",
      "weighted avg       0.97      0.97      0.97        66\n",
      "\n"
     ]
    }
   ],
   "source": [
    "from sklearn.metrics import classification_report\n",
    "\n",
    "print(classification_report(y_test, y_label))"
   ]
  },
  {
   "cell_type": "code",
   "execution_count": 31,
   "id": "c961f3a0",
   "metadata": {},
   "outputs": [
    {
     "name": "stdout",
     "output_type": "stream",
     "text": [
      "AUC: 94.74%\n",
      "\n",
      "F1_score: 94.44%\n",
      "\n",
      "Accuracy: 96.97%\n",
      "\n",
      "Precision: 100.00%\n",
      "\n",
      "Recall: 89.47%\n",
      "\n",
      "Specificity: 100.00%\n",
      "\n"
     ]
    }
   ],
   "source": [
    "from sklearn import metrics\n",
    "\n",
    "#y_pred =  (mae_vector > error_thresh).astype('int').ravel()\n",
    "y_pred =  y_label\n",
    "AUC = metrics.roc_auc_score(y_test, y_pred)\n",
    "F1 = metrics.f1_score(y_test, y_pred)\n",
    "Accuracy = metrics.accuracy_score(y_test, y_pred)\n",
    "Precision = metrics.precision_score(y_test, y_pred)\n",
    "Recall = metrics.recall_score(y_test, y_pred)\n",
    "tn, fp, fn, tp = metrics.confusion_matrix(y_test, y_pred).ravel()\n",
    "Specificity = tn / (tn+fp)\n",
    "\n",
    "print(\"AUC: {:.2%}\\n\".format(AUC))\n",
    "print(\"F1_score: {:.2%}\\n\".format(F1))\n",
    "print(\"Accuracy: {:.2%}\\n\".format(Accuracy))\n",
    "print(\"Precision: {:.2%}\\n\".format(Precision))\n",
    "print(\"Recall: {:.2%}\\n\".format(Recall))\n",
    "print(\"Specificity: {:.2%}\\n\".format(Specificity))"
   ]
  }
 ],
 "metadata": {
  "kernelspec": {
   "display_name": "Python 3 (ipykernel)",
   "language": "python",
   "name": "python3"
  },
  "language_info": {
   "codemirror_mode": {
    "name": "ipython",
    "version": 3
   },
   "file_extension": ".py",
   "mimetype": "text/x-python",
   "name": "python",
   "nbconvert_exporter": "python",
   "pygments_lexer": "ipython3",
   "version": "3.8.13"
  }
 },
 "nbformat": 4,
 "nbformat_minor": 5
}
